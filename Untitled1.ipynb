{
 "cells": [
  {
   "cell_type": "code",
   "execution_count": 10,
   "id": "5046af92-2508-4504-b9f6-dd8c31f6c716",
   "metadata": {},
   "outputs": [
    {
     "name": "stdout",
     "output_type": "stream",
     "text": [
      "Examining:  https://www.mlssoccer.com/stats/season?year=2023&group=g\n"
     ]
    },
    {
     "ename": "IndexError",
     "evalue": "list index out of range",
     "output_type": "error",
     "traceback": [
      "\u001b[0;31m---------------------------------------------------------------------------\u001b[0m",
      "\u001b[0;31mIndexError\u001b[0m                                Traceback (most recent call last)",
      "Cell \u001b[0;32mIn[10], line 39\u001b[0m\n\u001b[1;32m     37\u001b[0m header \u001b[38;5;241m=\u001b[39m []\n\u001b[1;32m     38\u001b[0m description \u001b[38;5;241m=\u001b[39m []\n\u001b[0;32m---> 39\u001b[0m \u001b[38;5;28;01mfor\u001b[39;00m item \u001b[38;5;129;01min\u001b[39;00m \u001b[43mtrs\u001b[49m\u001b[43m[\u001b[49m\u001b[38;5;241;43m0\u001b[39;49m\u001b[43m]\u001b[49m\u001b[38;5;241m.\u001b[39mcontents:\n\u001b[1;32m     40\u001b[0m     \u001b[38;5;28;01mtry\u001b[39;00m:\n\u001b[1;32m     41\u001b[0m         header\u001b[38;5;241m.\u001b[39mappend(item\u001b[38;5;241m.\u001b[39mtext)\n",
      "\u001b[0;31mIndexError\u001b[0m: list index out of range"
     ]
    }
   ],
   "source": [
    "import requests, os, datetime, sys\n",
    "from bs4 import BeautifulSoup\n",
    "import pandas as pd\n",
    "\n",
    "if len(sys.argv) > 1:\n",
    "    argument = sys.argv[1]\n",
    "else:\n",
    "    argument = 'reg'\n",
    "\n",
    "year = 2023\n",
    "if argument == 'post':\n",
    "    url_insert = str(year) + \"&season_type=PS\"\n",
    "    file_start = 'post_' + str(year)\n",
    "else:\n",
    "    url_insert = str(year)\n",
    "    file_start = str(year)\n",
    "\n",
    "starting_urls = [\"https://www.mlssoccer.com/stats/season?year={}&group=g\".format(url_insert),\n",
    "                    \"https://www.mlssoccer.com/stats/season?year={}&group=assists\".format(url_insert),\n",
    "                    \"https://www.mlssoccer.com/stats/season?year={}&group=fouls&sort=desc&order=YC\".format(url_insert),\n",
    "                    \"https://www.mlssoccer.com/stats/season?year={}&group=goalkeeping\".format(url_insert)]\n",
    "dfs = []\n",
    "descriptions = []\n",
    "\n",
    "# For each of four stats\n",
    "for url in starting_urls:\n",
    "    print('Examining:  ' + url)\n",
    "\n",
    "    r = requests.get(url)\n",
    "    r.raise_for_status()\n",
    "    soup = BeautifulSoup(r.text, \"html.parser\")\n",
    "\n",
    "    trs = soup.find_all('tr')\n",
    "    trs_players = trs[1:]\n",
    "\n",
    "    # Gets the header row\n",
    "    header = []\n",
    "    description = []\n",
    "    for item in trs[0].contents:\n",
    "        try:\n",
    "            header.append(item.text)\n",
    "        except: # last element is a blank string in contents\n",
    "            break\n",
    "        description.append(item.get('title'))\n",
    "\n",
    "    descriptions.extend(zip(header, description)) # switch to set\n",
    "    players = []\n",
    "\n",
    "    # Breaks after last page\n",
    "    while True:\n",
    "        # For each player\n",
    "        for tr_player in trs_players:\n",
    "            player = []\n",
    "\n",
    "            # For each data item\n",
    "            for item in tr_player.contents:\n",
    "                try:\n",
    "                    player.append(item.text)\n",
    "                except:\n",
    "                    break\n",
    "            players.append(player)\n",
    "\n",
    "        # Get link to next page\n",
    "        try:\n",
    "            url = soup.find('link', attrs={'rel':'next'}).get('href')\n",
    "        except:\n",
    "            break\n",
    "\n",
    "        # Get next page\n",
    "        r = requests.get(url)\n",
    "        r.raise_for_status()\n",
    "        soup = BeautifulSoup(r.text, \"html.parser\")\n",
    "        trs = soup.find_all('tr')\n",
    "        trs_players = trs[1:] # disregards the header\n",
    "    # end while - all pages of a stat\n",
    "\n",
    "    dfs.append(pd.DataFrame(players, columns=header))\n",
    "# end for - gathering stats\n",
    "\n",
    "# merge first 3\n",
    "if argument == 'post':\n",
    "    x = pd.merge(dfs[0], dfs[1], how='left', on=['Player', 'POS', 'GP', 'GS', 'A'], copy=True)\n",
    "    outfield_df = pd.merge(x, dfs[2], how='left', on=['Player', 'POS', 'GP', 'GS', 'A', 'SHTS', 'SOG', 'MINS', 'G'], copy=True)\n",
    "else:\n",
    "    x = pd.merge(dfs[0], dfs[1], how='left', on=['Player', 'Club', 'POS', 'GP', 'GS', 'A'], copy=True)\n",
    "    outfield_df = pd.merge(x, dfs[2], how='left', on=['Player', 'Club', 'POS', 'GP', 'GS', 'A', 'SHTS', 'SOG', 'MINS', 'G'], copy=True)\n",
    "\n",
    "# Add some columns\n",
    "# shots on goal percentage column (shots on goal divided by shots)\n",
    "outfield_df['SOG%'] = (100 * outfield_df['SOG'].astype('int') / outfield_df['SHTS'].astype('int')).round(2)\n",
    "gk_df = dfs[3]\n",
    "\n",
    "outfield_df['Year'] = year\n",
    "gk_df['Year'] = year\n",
    "\n",
    "outfield_df['Season'] = argument\n",
    "gk_df['Season'] = argument\n",
    "\n",
    "# Get current date\n",
    "today = datetime.datetime.now()\n",
    "new_folder = str(today.month)+\"_\"+str(today.day)+\"_\"+str(today.year)\n",
    "path = os.path.join('data', 'player_stats', new_folder)\n",
    "os.makedirs(path)\n",
    "\n",
    "# Save csvs in folder month_date_year\n",
    "outfield_df.to_csv(os.path.join(path, file_start+'all_players.csv'), index=False)\n",
    "gk_df.to_csv(os.path.join(path, file_start+'goalkeeper.csv'), index=False)\n",
    "\n",
    "# Add it to past player data\n",
    "all_outfield_df = pd.read_csv(os.path.join('data', 'player_stats', '1996_2019_all_players.csv'))\n",
    "all_gk_df = pd.read_csv(os.path.join('data', 'player_stats', '1996_2019_goalkeeper.csv'))\n",
    "all_outfield_df = all_outfield_df.append(outfield_df, ignore_index=True)\n",
    "all_gk_df = all_gk_df.append(gk_df, ignore_index=True)\n",
    "all_outfield_df.to_csv(os.path.join('data', 'player_stats', 'all_players.csv'), index=False)\n",
    "all_gk_df.to_csv(os.path.join('data', 'player_stats', 'all_goalkeepers.csv'), index=False)"
   ]
  },
  {
   "cell_type": "code",
   "execution_count": 9,
   "id": "84439276-1a1b-4afc-9fe3-efcfb1f8cb57",
   "metadata": {},
   "outputs": [
    {
     "data": {
      "text/plain": [
       "[]"
      ]
     },
     "execution_count": 9,
     "metadata": {},
     "output_type": "execute_result"
    }
   ],
   "source": [
    "trs"
   ]
  },
  {
   "cell_type": "code",
   "execution_count": null,
   "id": "067343d9-444d-4579-b665-1e6c616ee25e",
   "metadata": {},
   "outputs": [],
   "source": []
  }
 ],
 "metadata": {
  "kernelspec": {
   "display_name": "Python 3 (ipykernel)",
   "language": "python",
   "name": "python3"
  },
  "language_info": {
   "codemirror_mode": {
    "name": "ipython",
    "version": 3
   },
   "file_extension": ".py",
   "mimetype": "text/x-python",
   "name": "python",
   "nbconvert_exporter": "python",
   "pygments_lexer": "ipython3",
   "version": "3.11.5"
  }
 },
 "nbformat": 4,
 "nbformat_minor": 5
}
