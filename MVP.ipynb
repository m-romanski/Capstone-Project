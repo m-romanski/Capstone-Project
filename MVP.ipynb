{
 "cells": [
  {
   "cell_type": "markdown",
   "id": "dcb54c5c-7af0-4c86-9936-477e28faa388",
   "metadata": {},
   "source": [
    "# MLS Player Performance Review\n"
   ]
  },
  {
   "cell_type": "markdown",
   "id": "171e13d4-f3bc-49cf-969e-746b91991d23",
   "metadata": {},
   "source": [
    "## Overview\n",
    "\n",
    "Major League Soccer Player's Association(MLSPA) has been keeping salary data on its players for years and would like to utilize that data with player's statistics data to evaluate player performance and its relationship to player salary. By anazlying this data, I hope to create a predictive model that can highlight this link and the particular aspects of player performance that are most tied to salary. "
   ]
  },
  {
   "cell_type": "markdown",
   "id": "96e7f240-e6ce-4dab-9046-6f226ed5ea80",
   "metadata": {},
   "source": [
    "## Business Problem\n",
    "\n",
    "MLS has growing rapidly and gaining in popularity, increasing their number of teams from just 13 in 2007 to 29 today. Likewise, the average team revenue increased from  37 million USD in 2008 to 579 million USD in 2022. https://huddleup.substack.com/p/how-lafc-became-major-league-soccers This also saw an increase in player salary over the years. In order to figure out what a player's salary should be, I analyzed a player's statistics by year in order to come up with recommendations to further bolster future analysis."
   ]
  },
  {
   "cell_type": "markdown",
   "id": "e9e1925f-7187-4b70-b3be-1eaa36db4ce5",
   "metadata": {},
   "source": [
    "## Data Understanding\n",
    "The statistics datasets in this analysis come from Mlssoccer.com, provided via a source on Kaggle who used webscraping before the website changed how it displayed information.https://www.kaggle.com/datasets/josephvm/major-league-soccer-dataset The salary datasets come directly from the MLSPA(Major League Soccer Players Association) on mlsplayers.org. I analyzed over 6000 players from the combined dataframe of these sources ranging from 2007-2022.\n",
    "\n",
    "The statsistics datasets were csv files containing information about a field player's performance on during a season. The field  dataset includes information such as goals, assists, games played, total minutes played, and more.\n"
   ]
  },
  {
   "cell_type": "markdown",
   "id": "566c2c64-3ddc-4af2-8f0a-44daa96a1a72",
   "metadata": {},
   "source": [
    "## Data Preparation\n",
    "\n",
    "MLS wants to continue to expand and entice players the likes of Lionel Messi into the league. In order to understand the current salaries of players in the league, I combined the statistics and salary datasets.\n",
    "\n",
    "I trained a Linear Regression Model, Random Forest Regression Model, and KNearestNeighbors Regression Model. I utilized a Pipeline and GridSearch for each of these to crossvalidate scores and iterate over many different models. I added and modified several feature columns, including Penaly Kick Conversion Rates, whether a player made the Postseason, a one-hot encoded breakdown of player position, and more. My final dataframe contained XX features that were used by these models to more accurately predict Player salary. I used r2 score, MSE, RMSE, and MAE to help evaluate how well my models were performing, but ultimately looked at r2 score and RMSE as my most important metrics to measure how far off a model was predicting salary. "
   ]
  },
  {
   "cell_type": "markdown",
   "id": "38667a60-a428-4085-b6c1-18390d26283e",
   "metadata": {},
   "source": [
    "### Imports"
   ]
  },
  {
   "cell_type": "code",
   "execution_count": 1,
   "id": "52fd8424-e189-4ee3-9747-f731165c2b82",
   "metadata": {},
   "outputs": [],
   "source": [
    "import pandas as pd\n",
    "import os\n",
    "from rapidfuzz import fuzz\n",
    "import re\n",
    "from unidecode import unidecode\n",
    "import numpy as np\n",
    "import seaborn as sns\n",
    "import matplotlib.pyplot as plt\n",
    "import statsmodels.api as sm\n",
    "from sklearn.datasets import make_blobs\n",
    "from sklearn.linear_model import LinearRegression\n",
    "from sklearn.dummy import DummyRegressor\n",
    "from sklearn.ensemble import RandomForestRegressor\n",
    "from sklearn.model_selection import train_test_split, cross_val_score, KFold, GridSearchCV\n",
    "from sklearn.metrics import r2_score, silhouette_score, mean_squared_error, mean_absolute_error \n",
    "from sklearn.preprocessing import StandardScaler, OneHotEncoder\n",
    "from sklearn.decomposition import PCA\n",
    "from sklearn.pipeline import Pipeline\n",
    "from sklearn.neighbors import KNeighborsRegressor\n",
    "from IPython.display import Image\n",
    "from sklearn.inspection import permutation_importance"
   ]
  },
  {
   "cell_type": "markdown",
   "id": "be110b1d-45ef-471f-8785-3c9f77b4422b",
   "metadata": {},
   "source": [
    "### Reading Data\n",
    "These datasets are directly inside the repository and are accessed using the below code."
   ]
  },
  {
   "cell_type": "code",
   "execution_count": 2,
   "id": "337996c4-006d-4bf4-b184-79caec8c14cb",
   "metadata": {},
   "outputs": [],
   "source": [
    "# Loading csv files into dataframes\n",
    "player_stats_df = pd.read_csv('./data/Player_stats/all_players.csv')"
   ]
  },
  {
   "cell_type": "markdown",
   "id": "af5c1e1a-ea05-4af0-a76c-4fa3ef5594fe",
   "metadata": {},
   "source": [
    "### Data Cleaning\n"
   ]
  },
  {
   "cell_type": "code",
   "execution_count": 3,
   "id": "d612da64-0648-46f9-820e-caf3b919d467",
   "metadata": {},
   "outputs": [
    {
     "data": {
      "text/html": [
       "<div>\n",
       "<style scoped>\n",
       "    .dataframe tbody tr th:only-of-type {\n",
       "        vertical-align: middle;\n",
       "    }\n",
       "\n",
       "    .dataframe tbody tr th {\n",
       "        vertical-align: top;\n",
       "    }\n",
       "\n",
       "    .dataframe thead th {\n",
       "        text-align: right;\n",
       "    }\n",
       "</style>\n",
       "<table border=\"1\" class=\"dataframe\">\n",
       "  <thead>\n",
       "    <tr style=\"text-align: right;\">\n",
       "      <th></th>\n",
       "      <th>Player</th>\n",
       "      <th>Club</th>\n",
       "      <th>POS</th>\n",
       "      <th>GP</th>\n",
       "      <th>GS</th>\n",
       "      <th>MINS</th>\n",
       "      <th>G</th>\n",
       "      <th>A</th>\n",
       "      <th>SHTS</th>\n",
       "      <th>SOG</th>\n",
       "      <th>...</th>\n",
       "      <th>RdA</th>\n",
       "      <th>A/90min</th>\n",
       "      <th>FC</th>\n",
       "      <th>FS</th>\n",
       "      <th>OFF</th>\n",
       "      <th>YC</th>\n",
       "      <th>RC</th>\n",
       "      <th>SOG%</th>\n",
       "      <th>Year</th>\n",
       "      <th>Season</th>\n",
       "    </tr>\n",
       "  </thead>\n",
       "  <tbody>\n",
       "    <tr>\n",
       "      <th>0</th>\n",
       "      <td>Roy Lassiter</td>\n",
       "      <td>TB</td>\n",
       "      <td>F</td>\n",
       "      <td>30</td>\n",
       "      <td>30</td>\n",
       "      <td>2580</td>\n",
       "      <td>27</td>\n",
       "      <td>4</td>\n",
       "      <td>76</td>\n",
       "      <td>49</td>\n",
       "      <td>...</td>\n",
       "      <td>2</td>\n",
       "      <td>0.14</td>\n",
       "      <td>20</td>\n",
       "      <td>39</td>\n",
       "      <td>70</td>\n",
       "      <td>2</td>\n",
       "      <td>0</td>\n",
       "      <td>64.47</td>\n",
       "      <td>1996</td>\n",
       "      <td>reg</td>\n",
       "    </tr>\n",
       "    <tr>\n",
       "      <th>1</th>\n",
       "      <td>Raul Diaz Arce</td>\n",
       "      <td>DC</td>\n",
       "      <td>F</td>\n",
       "      <td>28</td>\n",
       "      <td>28</td>\n",
       "      <td>2351</td>\n",
       "      <td>23</td>\n",
       "      <td>2</td>\n",
       "      <td>100</td>\n",
       "      <td>49</td>\n",
       "      <td>...</td>\n",
       "      <td>2</td>\n",
       "      <td>0.08</td>\n",
       "      <td>32</td>\n",
       "      <td>26</td>\n",
       "      <td>35</td>\n",
       "      <td>6</td>\n",
       "      <td>1</td>\n",
       "      <td>49.00</td>\n",
       "      <td>1996</td>\n",
       "      <td>reg</td>\n",
       "    </tr>\n",
       "    <tr>\n",
       "      <th>2</th>\n",
       "      <td>Eduardo Hurtado</td>\n",
       "      <td>LA</td>\n",
       "      <td>F</td>\n",
       "      <td>26</td>\n",
       "      <td>26</td>\n",
       "      <td>2323</td>\n",
       "      <td>21</td>\n",
       "      <td>7</td>\n",
       "      <td>87</td>\n",
       "      <td>56</td>\n",
       "      <td>...</td>\n",
       "      <td>3</td>\n",
       "      <td>0.27</td>\n",
       "      <td>48</td>\n",
       "      <td>26</td>\n",
       "      <td>25</td>\n",
       "      <td>5</td>\n",
       "      <td>0</td>\n",
       "      <td>64.37</td>\n",
       "      <td>1996</td>\n",
       "      <td>reg</td>\n",
       "    </tr>\n",
       "    <tr>\n",
       "      <th>3</th>\n",
       "      <td>Preki</td>\n",
       "      <td>KC</td>\n",
       "      <td>M</td>\n",
       "      <td>32</td>\n",
       "      <td>32</td>\n",
       "      <td>2880</td>\n",
       "      <td>18</td>\n",
       "      <td>13</td>\n",
       "      <td>140</td>\n",
       "      <td>61</td>\n",
       "      <td>...</td>\n",
       "      <td>4</td>\n",
       "      <td>0.41</td>\n",
       "      <td>26</td>\n",
       "      <td>44</td>\n",
       "      <td>7</td>\n",
       "      <td>3</td>\n",
       "      <td>0</td>\n",
       "      <td>43.57</td>\n",
       "      <td>1996</td>\n",
       "      <td>reg</td>\n",
       "    </tr>\n",
       "    <tr>\n",
       "      <th>4</th>\n",
       "      <td>Brian McBride</td>\n",
       "      <td>CLB</td>\n",
       "      <td>F</td>\n",
       "      <td>28</td>\n",
       "      <td>28</td>\n",
       "      <td>2307</td>\n",
       "      <td>17</td>\n",
       "      <td>3</td>\n",
       "      <td>79</td>\n",
       "      <td>44</td>\n",
       "      <td>...</td>\n",
       "      <td>1</td>\n",
       "      <td>0.12</td>\n",
       "      <td>21</td>\n",
       "      <td>46</td>\n",
       "      <td>10</td>\n",
       "      <td>0</td>\n",
       "      <td>0</td>\n",
       "      <td>55.70</td>\n",
       "      <td>1996</td>\n",
       "      <td>reg</td>\n",
       "    </tr>\n",
       "  </tbody>\n",
       "</table>\n",
       "<p>5 rows × 28 columns</p>\n",
       "</div>"
      ],
      "text/plain": [
       "            Player Club POS  GP  GS  MINS   G   A  SHTS  SOG  ...  RdA  \\\n",
       "0     Roy Lassiter  TB    F  30  30  2580  27   4    76   49  ...    2   \n",
       "1   Raul Diaz Arce  DC    F  28  28  2351  23   2   100   49  ...    2   \n",
       "2  Eduardo Hurtado  LA    F  26  26  2323  21   7    87   56  ...    3   \n",
       "3            Preki  KC    M  32  32  2880  18  13   140   61  ...    4   \n",
       "4    Brian McBride  CLB   F  28  28  2307  17   3    79   44  ...    1   \n",
       "\n",
       "  A/90min  FC  FS  OFF  YC  RC   SOG%  Year  Season  \n",
       "0    0.14  20  39   70   2   0  64.47  1996     reg  \n",
       "1    0.08  32  26   35   6   1  49.00  1996     reg  \n",
       "2    0.27  48  26   25   5   0  64.37  1996     reg  \n",
       "3    0.41  26  44    7   3   0  43.57  1996     reg  \n",
       "4    0.12  21  46   10   0   0  55.70  1996     reg  \n",
       "\n",
       "[5 rows x 28 columns]"
      ]
     },
     "execution_count": 3,
     "metadata": {},
     "output_type": "execute_result"
    }
   ],
   "source": [
    "player_stats_df.head()"
   ]
  },
  {
   "cell_type": "markdown",
   "id": "a875203f-c43a-488d-a973-18a9d1ec2ff0",
   "metadata": {},
   "source": [
    "A lot of columns to analyze, but no nulls since Club will be dropped entirely"
   ]
  },
  {
   "cell_type": "code",
   "execution_count": 4,
   "id": "75802608-0bc3-4cce-a9e7-1168f9786cdb",
   "metadata": {},
   "outputs": [
    {
     "name": "stdout",
     "output_type": "stream",
     "text": [
      "<class 'pandas.core.frame.DataFrame'>\n",
      "RangeIndex: 15767 entries, 0 to 15766\n",
      "Data columns (total 28 columns):\n",
      " #   Column   Non-Null Count  Dtype  \n",
      "---  ------   --------------  -----  \n",
      " 0   Player   15767 non-null  object \n",
      " 1   Club     10274 non-null  object \n",
      " 2   POS      15767 non-null  object \n",
      " 3   GP       15767 non-null  int64  \n",
      " 4   GS       15767 non-null  int64  \n",
      " 5   MINS     15767 non-null  int64  \n",
      " 6   G        15767 non-null  int64  \n",
      " 7   A        15767 non-null  int64  \n",
      " 8   SHTS     15767 non-null  int64  \n",
      " 9   SOG      15767 non-null  int64  \n",
      " 10  GWG      15767 non-null  int64  \n",
      " 11  PKG/A    15767 non-null  object \n",
      " 12  HmG      15767 non-null  int64  \n",
      " 13  RdG      15767 non-null  int64  \n",
      " 14  G/90min  15767 non-null  float64\n",
      " 15  SC%      15767 non-null  float64\n",
      " 16  GWA      15767 non-null  int64  \n",
      " 17  HmA      15767 non-null  int64  \n",
      " 18  RdA      15767 non-null  int64  \n",
      " 19  A/90min  15767 non-null  float64\n",
      " 20  FC       15767 non-null  int64  \n",
      " 21  FS       15767 non-null  int64  \n",
      " 22  OFF      15767 non-null  int64  \n",
      " 23  YC       15767 non-null  int64  \n",
      " 24  RC       15767 non-null  int64  \n",
      " 25  SOG%     10697 non-null  float64\n",
      " 26  Year     15767 non-null  int64  \n",
      " 27  Season   15767 non-null  object \n",
      "dtypes: float64(4), int64(19), object(5)\n",
      "memory usage: 3.4+ MB\n"
     ]
    }
   ],
   "source": [
    "player_stats_df.info()"
   ]
  },
  {
   "cell_type": "markdown",
   "id": "bffc2497-18f6-4875-9c99-7a54e4cbdce7",
   "metadata": {},
   "source": [
    "I had to filter the statistics dataframe down to just the years 2007-2020 since that is the furthest back I was able to access\n",
    "salary data. Consequently it is also the year the Designated Player rule (commonly referred to as the \"Beckham rule\" ) was first implemented; it is credited as the most important catalyst that spurred the beginning of the rapid expansion of MLS. "
   ]
  },
  {
   "cell_type": "code",
   "execution_count": 5,
   "id": "55ff2e5d-9cdf-40cd-9ebb-5ea963410626",
   "metadata": {},
   "outputs": [],
   "source": [
    "#Creating a list of the years we want to use from the dataframes. Salary data is only accessible back to 2007.\n",
    "years = [2007, 2008, 2009, 2010, 2011, 2012, 2013, 2014, 2015, 2016, 2017, 2018, 2019, 2020]"
   ]
  },
  {
   "cell_type": "code",
   "execution_count": 6,
   "id": "6070e5d6-8547-4f33-8bb8-51d0a67c5f19",
   "metadata": {},
   "outputs": [],
   "source": [
    "#Filtering dataframe to only show years in the years list\n",
    "player_stats_df = player_stats_df[player_stats_df['Year'].isin(years)]"
   ]
  },
  {
   "cell_type": "code",
   "execution_count": 7,
   "id": "1b3c344c-6ef5-4956-875f-bda5933ebe61",
   "metadata": {},
   "outputs": [
    {
     "data": {
      "text/html": [
       "<div>\n",
       "<style scoped>\n",
       "    .dataframe tbody tr th:only-of-type {\n",
       "        vertical-align: middle;\n",
       "    }\n",
       "\n",
       "    .dataframe tbody tr th {\n",
       "        vertical-align: top;\n",
       "    }\n",
       "\n",
       "    .dataframe thead th {\n",
       "        text-align: right;\n",
       "    }\n",
       "</style>\n",
       "<table border=\"1\" class=\"dataframe\">\n",
       "  <thead>\n",
       "    <tr style=\"text-align: right;\">\n",
       "      <th></th>\n",
       "      <th>Player</th>\n",
       "      <th>Club</th>\n",
       "      <th>POS</th>\n",
       "      <th>GP</th>\n",
       "      <th>GS</th>\n",
       "      <th>MINS</th>\n",
       "      <th>G</th>\n",
       "      <th>A</th>\n",
       "      <th>SHTS</th>\n",
       "      <th>SOG</th>\n",
       "      <th>...</th>\n",
       "      <th>RdA</th>\n",
       "      <th>A/90min</th>\n",
       "      <th>FC</th>\n",
       "      <th>FS</th>\n",
       "      <th>OFF</th>\n",
       "      <th>YC</th>\n",
       "      <th>RC</th>\n",
       "      <th>SOG%</th>\n",
       "      <th>Year</th>\n",
       "      <th>Season</th>\n",
       "    </tr>\n",
       "  </thead>\n",
       "  <tbody>\n",
       "    <tr>\n",
       "      <th>3029</th>\n",
       "      <td>Luciano Emilio</td>\n",
       "      <td>DC</td>\n",
       "      <td>F</td>\n",
       "      <td>29</td>\n",
       "      <td>28</td>\n",
       "      <td>2410</td>\n",
       "      <td>20</td>\n",
       "      <td>1</td>\n",
       "      <td>79</td>\n",
       "      <td>47</td>\n",
       "      <td>...</td>\n",
       "      <td>0</td>\n",
       "      <td>0.04</td>\n",
       "      <td>35</td>\n",
       "      <td>39</td>\n",
       "      <td>21</td>\n",
       "      <td>2</td>\n",
       "      <td>0</td>\n",
       "      <td>59.49</td>\n",
       "      <td>2007</td>\n",
       "      <td>reg</td>\n",
       "    </tr>\n",
       "    <tr>\n",
       "      <th>3030</th>\n",
       "      <td>Juan Pablo Angel</td>\n",
       "      <td>NY</td>\n",
       "      <td>F</td>\n",
       "      <td>24</td>\n",
       "      <td>24</td>\n",
       "      <td>2125</td>\n",
       "      <td>19</td>\n",
       "      <td>5</td>\n",
       "      <td>97</td>\n",
       "      <td>53</td>\n",
       "      <td>...</td>\n",
       "      <td>2</td>\n",
       "      <td>0.21</td>\n",
       "      <td>31</td>\n",
       "      <td>20</td>\n",
       "      <td>42</td>\n",
       "      <td>2</td>\n",
       "      <td>1</td>\n",
       "      <td>54.64</td>\n",
       "      <td>2007</td>\n",
       "      <td>reg</td>\n",
       "    </tr>\n",
       "    <tr>\n",
       "      <th>3031</th>\n",
       "      <td>Taylor Twellman</td>\n",
       "      <td>NE</td>\n",
       "      <td>F</td>\n",
       "      <td>26</td>\n",
       "      <td>25</td>\n",
       "      <td>2283</td>\n",
       "      <td>16</td>\n",
       "      <td>3</td>\n",
       "      <td>90</td>\n",
       "      <td>55</td>\n",
       "      <td>...</td>\n",
       "      <td>1</td>\n",
       "      <td>0.12</td>\n",
       "      <td>13</td>\n",
       "      <td>41</td>\n",
       "      <td>21</td>\n",
       "      <td>2</td>\n",
       "      <td>0</td>\n",
       "      <td>61.11</td>\n",
       "      <td>2007</td>\n",
       "      <td>reg</td>\n",
       "    </tr>\n",
       "    <tr>\n",
       "      <th>3032</th>\n",
       "      <td>Eddie Johnson</td>\n",
       "      <td>KC</td>\n",
       "      <td>F</td>\n",
       "      <td>24</td>\n",
       "      <td>24</td>\n",
       "      <td>2149</td>\n",
       "      <td>15</td>\n",
       "      <td>6</td>\n",
       "      <td>75</td>\n",
       "      <td>43</td>\n",
       "      <td>...</td>\n",
       "      <td>3</td>\n",
       "      <td>0.25</td>\n",
       "      <td>21</td>\n",
       "      <td>57</td>\n",
       "      <td>50</td>\n",
       "      <td>6</td>\n",
       "      <td>0</td>\n",
       "      <td>57.33</td>\n",
       "      <td>2007</td>\n",
       "      <td>reg</td>\n",
       "    </tr>\n",
       "    <tr>\n",
       "      <th>3033</th>\n",
       "      <td>Maykel Galindo</td>\n",
       "      <td>CHV</td>\n",
       "      <td>F</td>\n",
       "      <td>28</td>\n",
       "      <td>24</td>\n",
       "      <td>2021</td>\n",
       "      <td>12</td>\n",
       "      <td>5</td>\n",
       "      <td>55</td>\n",
       "      <td>28</td>\n",
       "      <td>...</td>\n",
       "      <td>2</td>\n",
       "      <td>0.22</td>\n",
       "      <td>44</td>\n",
       "      <td>53</td>\n",
       "      <td>30</td>\n",
       "      <td>6</td>\n",
       "      <td>0</td>\n",
       "      <td>50.91</td>\n",
       "      <td>2007</td>\n",
       "      <td>reg</td>\n",
       "    </tr>\n",
       "    <tr>\n",
       "      <th>...</th>\n",
       "      <td>...</td>\n",
       "      <td>...</td>\n",
       "      <td>...</td>\n",
       "      <td>...</td>\n",
       "      <td>...</td>\n",
       "      <td>...</td>\n",
       "      <td>...</td>\n",
       "      <td>...</td>\n",
       "      <td>...</td>\n",
       "      <td>...</td>\n",
       "      <td>...</td>\n",
       "      <td>...</td>\n",
       "      <td>...</td>\n",
       "      <td>...</td>\n",
       "      <td>...</td>\n",
       "      <td>...</td>\n",
       "      <td>...</td>\n",
       "      <td>...</td>\n",
       "      <td>...</td>\n",
       "      <td>...</td>\n",
       "      <td>...</td>\n",
       "    </tr>\n",
       "    <tr>\n",
       "      <th>15762</th>\n",
       "      <td>Alejandro Pozuelo</td>\n",
       "      <td>NaN</td>\n",
       "      <td>M</td>\n",
       "      <td>1</td>\n",
       "      <td>1</td>\n",
       "      <td>120</td>\n",
       "      <td>0</td>\n",
       "      <td>0</td>\n",
       "      <td>5</td>\n",
       "      <td>0</td>\n",
       "      <td>...</td>\n",
       "      <td>0</td>\n",
       "      <td>0.00</td>\n",
       "      <td>2</td>\n",
       "      <td>0</td>\n",
       "      <td>0</td>\n",
       "      <td>0</td>\n",
       "      <td>0</td>\n",
       "      <td>0.00</td>\n",
       "      <td>2020</td>\n",
       "      <td>post</td>\n",
       "    </tr>\n",
       "    <tr>\n",
       "      <th>15763</th>\n",
       "      <td>Franco Jara</td>\n",
       "      <td>NaN</td>\n",
       "      <td>F</td>\n",
       "      <td>2</td>\n",
       "      <td>2</td>\n",
       "      <td>210</td>\n",
       "      <td>0</td>\n",
       "      <td>0</td>\n",
       "      <td>5</td>\n",
       "      <td>1</td>\n",
       "      <td>...</td>\n",
       "      <td>0</td>\n",
       "      <td>0.00</td>\n",
       "      <td>6</td>\n",
       "      <td>2</td>\n",
       "      <td>3</td>\n",
       "      <td>0</td>\n",
       "      <td>0</td>\n",
       "      <td>20.00</td>\n",
       "      <td>2020</td>\n",
       "      <td>post</td>\n",
       "    </tr>\n",
       "    <tr>\n",
       "      <th>15764</th>\n",
       "      <td>Andy Polo</td>\n",
       "      <td>NaN</td>\n",
       "      <td>M</td>\n",
       "      <td>1</td>\n",
       "      <td>1</td>\n",
       "      <td>105</td>\n",
       "      <td>0</td>\n",
       "      <td>0</td>\n",
       "      <td>6</td>\n",
       "      <td>3</td>\n",
       "      <td>...</td>\n",
       "      <td>0</td>\n",
       "      <td>0.00</td>\n",
       "      <td>0</td>\n",
       "      <td>3</td>\n",
       "      <td>0</td>\n",
       "      <td>0</td>\n",
       "      <td>0</td>\n",
       "      <td>50.00</td>\n",
       "      <td>2020</td>\n",
       "      <td>post</td>\n",
       "    </tr>\n",
       "    <tr>\n",
       "      <th>15765</th>\n",
       "      <td>Cristian Roldan</td>\n",
       "      <td>NaN</td>\n",
       "      <td>M</td>\n",
       "      <td>4</td>\n",
       "      <td>4</td>\n",
       "      <td>360</td>\n",
       "      <td>0</td>\n",
       "      <td>0</td>\n",
       "      <td>6</td>\n",
       "      <td>1</td>\n",
       "      <td>...</td>\n",
       "      <td>0</td>\n",
       "      <td>0.00</td>\n",
       "      <td>5</td>\n",
       "      <td>11</td>\n",
       "      <td>0</td>\n",
       "      <td>0</td>\n",
       "      <td>0</td>\n",
       "      <td>16.67</td>\n",
       "      <td>2020</td>\n",
       "      <td>post</td>\n",
       "    </tr>\n",
       "    <tr>\n",
       "      <th>15766</th>\n",
       "      <td>Joevin Jones</td>\n",
       "      <td>NaN</td>\n",
       "      <td>D-M</td>\n",
       "      <td>4</td>\n",
       "      <td>4</td>\n",
       "      <td>260</td>\n",
       "      <td>0</td>\n",
       "      <td>0</td>\n",
       "      <td>8</td>\n",
       "      <td>1</td>\n",
       "      <td>...</td>\n",
       "      <td>0</td>\n",
       "      <td>0.00</td>\n",
       "      <td>1</td>\n",
       "      <td>7</td>\n",
       "      <td>0</td>\n",
       "      <td>0</td>\n",
       "      <td>0</td>\n",
       "      <td>12.50</td>\n",
       "      <td>2020</td>\n",
       "      <td>post</td>\n",
       "    </tr>\n",
       "  </tbody>\n",
       "</table>\n",
       "<p>10972 rows × 28 columns</p>\n",
       "</div>"
      ],
      "text/plain": [
       "                  Player Club  POS  GP  GS  MINS   G  A  SHTS  SOG  ...  RdA  \\\n",
       "3029      Luciano Emilio  DC     F  29  28  2410  20  1    79   47  ...    0   \n",
       "3030    Juan Pablo Angel  NY     F  24  24  2125  19  5    97   53  ...    2   \n",
       "3031     Taylor Twellman  NE     F  26  25  2283  16  3    90   55  ...    1   \n",
       "3032       Eddie Johnson  KC     F  24  24  2149  15  6    75   43  ...    3   \n",
       "3033      Maykel Galindo  CHV    F  28  24  2021  12  5    55   28  ...    2   \n",
       "...                  ...  ...  ...  ..  ..   ...  .. ..   ...  ...  ...  ...   \n",
       "15762  Alejandro Pozuelo  NaN    M   1   1   120   0  0     5    0  ...    0   \n",
       "15763        Franco Jara  NaN    F   2   2   210   0  0     5    1  ...    0   \n",
       "15764          Andy Polo  NaN    M   1   1   105   0  0     6    3  ...    0   \n",
       "15765    Cristian Roldan  NaN    M   4   4   360   0  0     6    1  ...    0   \n",
       "15766       Joevin Jones  NaN  D-M   4   4   260   0  0     8    1  ...    0   \n",
       "\n",
       "      A/90min  FC  FS  OFF  YC  RC   SOG%  Year  Season  \n",
       "3029     0.04  35  39   21   2   0  59.49  2007     reg  \n",
       "3030     0.21  31  20   42   2   1  54.64  2007     reg  \n",
       "3031     0.12  13  41   21   2   0  61.11  2007     reg  \n",
       "3032     0.25  21  57   50   6   0  57.33  2007     reg  \n",
       "3033     0.22  44  53   30   6   0  50.91  2007     reg  \n",
       "...       ...  ..  ..  ...  ..  ..    ...   ...     ...  \n",
       "15762    0.00   2   0    0   0   0   0.00  2020    post  \n",
       "15763    0.00   6   2    3   0   0  20.00  2020    post  \n",
       "15764    0.00   0   3    0   0   0  50.00  2020    post  \n",
       "15765    0.00   5  11    0   0   0  16.67  2020    post  \n",
       "15766    0.00   1   7    0   0   0  12.50  2020    post  \n",
       "\n",
       "[10972 rows x 28 columns]"
      ]
     },
     "execution_count": 7,
     "metadata": {},
     "output_type": "execute_result"
    }
   ],
   "source": [
    "player_stats_df"
   ]
  },
  {
   "cell_type": "code",
   "execution_count": 8,
   "id": "c1bca67c-4461-499b-9d7c-af29531b2639",
   "metadata": {},
   "outputs": [
    {
     "data": {
      "text/plain": [
       "Season\n",
       "reg     7245\n",
       "post    3727\n",
       "Name: count, dtype: int64"
      ]
     },
     "execution_count": 8,
     "metadata": {},
     "output_type": "execute_result"
    }
   ],
   "source": [
    "player_stats_df['Season'].value_counts()"
   ]
  },
  {
   "cell_type": "markdown",
   "id": "fad262f3-a9be-4bcc-bad7-47f6f649d41e",
   "metadata": {},
   "source": [
    "I'm going to remove the season column here but before I do that would like to add a feature that tells whether a player made it to the postseason or not for both dataframes."
   ]
  },
  {
   "cell_type": "code",
   "execution_count": 9,
   "id": "b314ab11-2085-431e-b70f-0656a38dd0bd",
   "metadata": {
    "scrolled": true
   },
   "outputs": [
    {
     "data": {
      "text/html": [
       "<div>\n",
       "<style scoped>\n",
       "    .dataframe tbody tr th:only-of-type {\n",
       "        vertical-align: middle;\n",
       "    }\n",
       "\n",
       "    .dataframe tbody tr th {\n",
       "        vertical-align: top;\n",
       "    }\n",
       "\n",
       "    .dataframe thead th {\n",
       "        text-align: right;\n",
       "    }\n",
       "</style>\n",
       "<table border=\"1\" class=\"dataframe\">\n",
       "  <thead>\n",
       "    <tr style=\"text-align: right;\">\n",
       "      <th></th>\n",
       "      <th>Player</th>\n",
       "      <th>Club</th>\n",
       "      <th>POS</th>\n",
       "      <th>GP</th>\n",
       "      <th>GS</th>\n",
       "      <th>MINS</th>\n",
       "      <th>G</th>\n",
       "      <th>A</th>\n",
       "      <th>SHTS</th>\n",
       "      <th>SOG</th>\n",
       "      <th>...</th>\n",
       "      <th>A/90min</th>\n",
       "      <th>FC</th>\n",
       "      <th>FS</th>\n",
       "      <th>OFF</th>\n",
       "      <th>YC</th>\n",
       "      <th>RC</th>\n",
       "      <th>SOG%</th>\n",
       "      <th>Year</th>\n",
       "      <th>Season</th>\n",
       "      <th>Postseason</th>\n",
       "    </tr>\n",
       "  </thead>\n",
       "  <tbody>\n",
       "    <tr>\n",
       "      <th>0</th>\n",
       "      <td>Luciano Emilio</td>\n",
       "      <td>DC</td>\n",
       "      <td>F</td>\n",
       "      <td>29</td>\n",
       "      <td>28</td>\n",
       "      <td>2410</td>\n",
       "      <td>20</td>\n",
       "      <td>1</td>\n",
       "      <td>79</td>\n",
       "      <td>47</td>\n",
       "      <td>...</td>\n",
       "      <td>0.04</td>\n",
       "      <td>35</td>\n",
       "      <td>39</td>\n",
       "      <td>21</td>\n",
       "      <td>2</td>\n",
       "      <td>0</td>\n",
       "      <td>59.49</td>\n",
       "      <td>2007</td>\n",
       "      <td>reg</td>\n",
       "      <td>1</td>\n",
       "    </tr>\n",
       "    <tr>\n",
       "      <th>1</th>\n",
       "      <td>Luciano Emilio</td>\n",
       "      <td>NaN</td>\n",
       "      <td>F</td>\n",
       "      <td>2</td>\n",
       "      <td>1</td>\n",
       "      <td>77</td>\n",
       "      <td>0</td>\n",
       "      <td>0</td>\n",
       "      <td>2</td>\n",
       "      <td>2</td>\n",
       "      <td>...</td>\n",
       "      <td>0.00</td>\n",
       "      <td>0</td>\n",
       "      <td>1</td>\n",
       "      <td>0</td>\n",
       "      <td>0</td>\n",
       "      <td>0</td>\n",
       "      <td>100.00</td>\n",
       "      <td>2007</td>\n",
       "      <td>post</td>\n",
       "      <td>1</td>\n",
       "    </tr>\n",
       "    <tr>\n",
       "      <th>2</th>\n",
       "      <td>Juan Pablo Angel</td>\n",
       "      <td>NY</td>\n",
       "      <td>F</td>\n",
       "      <td>24</td>\n",
       "      <td>24</td>\n",
       "      <td>2125</td>\n",
       "      <td>19</td>\n",
       "      <td>5</td>\n",
       "      <td>97</td>\n",
       "      <td>53</td>\n",
       "      <td>...</td>\n",
       "      <td>0.21</td>\n",
       "      <td>31</td>\n",
       "      <td>20</td>\n",
       "      <td>42</td>\n",
       "      <td>2</td>\n",
       "      <td>1</td>\n",
       "      <td>54.64</td>\n",
       "      <td>2007</td>\n",
       "      <td>reg</td>\n",
       "      <td>1</td>\n",
       "    </tr>\n",
       "    <tr>\n",
       "      <th>3</th>\n",
       "      <td>Juan Pablo Angel</td>\n",
       "      <td>NaN</td>\n",
       "      <td>F</td>\n",
       "      <td>2</td>\n",
       "      <td>2</td>\n",
       "      <td>154</td>\n",
       "      <td>0</td>\n",
       "      <td>0</td>\n",
       "      <td>7</td>\n",
       "      <td>4</td>\n",
       "      <td>...</td>\n",
       "      <td>0.00</td>\n",
       "      <td>5</td>\n",
       "      <td>3</td>\n",
       "      <td>2</td>\n",
       "      <td>0</td>\n",
       "      <td>0</td>\n",
       "      <td>57.14</td>\n",
       "      <td>2007</td>\n",
       "      <td>post</td>\n",
       "      <td>1</td>\n",
       "    </tr>\n",
       "    <tr>\n",
       "      <th>4</th>\n",
       "      <td>Taylor Twellman</td>\n",
       "      <td>NE</td>\n",
       "      <td>F</td>\n",
       "      <td>26</td>\n",
       "      <td>25</td>\n",
       "      <td>2283</td>\n",
       "      <td>16</td>\n",
       "      <td>3</td>\n",
       "      <td>90</td>\n",
       "      <td>55</td>\n",
       "      <td>...</td>\n",
       "      <td>0.12</td>\n",
       "      <td>13</td>\n",
       "      <td>41</td>\n",
       "      <td>21</td>\n",
       "      <td>2</td>\n",
       "      <td>0</td>\n",
       "      <td>61.11</td>\n",
       "      <td>2007</td>\n",
       "      <td>reg</td>\n",
       "      <td>1</td>\n",
       "    </tr>\n",
       "    <tr>\n",
       "      <th>...</th>\n",
       "      <td>...</td>\n",
       "      <td>...</td>\n",
       "      <td>...</td>\n",
       "      <td>...</td>\n",
       "      <td>...</td>\n",
       "      <td>...</td>\n",
       "      <td>...</td>\n",
       "      <td>...</td>\n",
       "      <td>...</td>\n",
       "      <td>...</td>\n",
       "      <td>...</td>\n",
       "      <td>...</td>\n",
       "      <td>...</td>\n",
       "      <td>...</td>\n",
       "      <td>...</td>\n",
       "      <td>...</td>\n",
       "      <td>...</td>\n",
       "      <td>...</td>\n",
       "      <td>...</td>\n",
       "      <td>...</td>\n",
       "      <td>...</td>\n",
       "    </tr>\n",
       "    <tr>\n",
       "      <th>10967</th>\n",
       "      <td>Siem de Jong</td>\n",
       "      <td>CIN</td>\n",
       "      <td>M</td>\n",
       "      <td>15</td>\n",
       "      <td>8</td>\n",
       "      <td>793</td>\n",
       "      <td>0</td>\n",
       "      <td>0</td>\n",
       "      <td>18</td>\n",
       "      <td>5</td>\n",
       "      <td>...</td>\n",
       "      <td>0.00</td>\n",
       "      <td>7</td>\n",
       "      <td>8</td>\n",
       "      <td>1</td>\n",
       "      <td>0</td>\n",
       "      <td>0</td>\n",
       "      <td>27.78</td>\n",
       "      <td>2020</td>\n",
       "      <td>reg</td>\n",
       "      <td>0</td>\n",
       "    </tr>\n",
       "    <tr>\n",
       "      <th>10968</th>\n",
       "      <td>Maxime Chanot</td>\n",
       "      <td>NYC</td>\n",
       "      <td>D</td>\n",
       "      <td>20</td>\n",
       "      <td>20</td>\n",
       "      <td>1712</td>\n",
       "      <td>0</td>\n",
       "      <td>0</td>\n",
       "      <td>19</td>\n",
       "      <td>4</td>\n",
       "      <td>...</td>\n",
       "      <td>0.00</td>\n",
       "      <td>18</td>\n",
       "      <td>6</td>\n",
       "      <td>1</td>\n",
       "      <td>5</td>\n",
       "      <td>1</td>\n",
       "      <td>21.05</td>\n",
       "      <td>2020</td>\n",
       "      <td>reg</td>\n",
       "      <td>1</td>\n",
       "    </tr>\n",
       "    <tr>\n",
       "      <th>10969</th>\n",
       "      <td>Maxime Chanot</td>\n",
       "      <td>NaN</td>\n",
       "      <td>D</td>\n",
       "      <td>1</td>\n",
       "      <td>1</td>\n",
       "      <td>120</td>\n",
       "      <td>1</td>\n",
       "      <td>0</td>\n",
       "      <td>2</td>\n",
       "      <td>1</td>\n",
       "      <td>...</td>\n",
       "      <td>0.00</td>\n",
       "      <td>1</td>\n",
       "      <td>1</td>\n",
       "      <td>0</td>\n",
       "      <td>0</td>\n",
       "      <td>0</td>\n",
       "      <td>50.00</td>\n",
       "      <td>2020</td>\n",
       "      <td>post</td>\n",
       "      <td>1</td>\n",
       "    </tr>\n",
       "    <tr>\n",
       "      <th>10970</th>\n",
       "      <td>Nicolas Figal</td>\n",
       "      <td>MIA</td>\n",
       "      <td>D</td>\n",
       "      <td>21</td>\n",
       "      <td>21</td>\n",
       "      <td>1746</td>\n",
       "      <td>0</td>\n",
       "      <td>0</td>\n",
       "      <td>22</td>\n",
       "      <td>9</td>\n",
       "      <td>...</td>\n",
       "      <td>0.00</td>\n",
       "      <td>22</td>\n",
       "      <td>26</td>\n",
       "      <td>0</td>\n",
       "      <td>4</td>\n",
       "      <td>0</td>\n",
       "      <td>40.91</td>\n",
       "      <td>2020</td>\n",
       "      <td>reg</td>\n",
       "      <td>1</td>\n",
       "    </tr>\n",
       "    <tr>\n",
       "      <th>10971</th>\n",
       "      <td>Nicolas Figal</td>\n",
       "      <td>NaN</td>\n",
       "      <td>D</td>\n",
       "      <td>1</td>\n",
       "      <td>1</td>\n",
       "      <td>90</td>\n",
       "      <td>0</td>\n",
       "      <td>0</td>\n",
       "      <td>0</td>\n",
       "      <td>0</td>\n",
       "      <td>...</td>\n",
       "      <td>0.00</td>\n",
       "      <td>1</td>\n",
       "      <td>1</td>\n",
       "      <td>0</td>\n",
       "      <td>0</td>\n",
       "      <td>0</td>\n",
       "      <td>NaN</td>\n",
       "      <td>2020</td>\n",
       "      <td>post</td>\n",
       "      <td>1</td>\n",
       "    </tr>\n",
       "  </tbody>\n",
       "</table>\n",
       "<p>10972 rows × 29 columns</p>\n",
       "</div>"
      ],
      "text/plain": [
       "                 Player Club POS  GP  GS  MINS   G  A  SHTS  SOG  ...  \\\n",
       "0        Luciano Emilio  DC    F  29  28  2410  20  1    79   47  ...   \n",
       "1        Luciano Emilio  NaN   F   2   1    77   0  0     2    2  ...   \n",
       "2      Juan Pablo Angel  NY    F  24  24  2125  19  5    97   53  ...   \n",
       "3      Juan Pablo Angel  NaN   F   2   2   154   0  0     7    4  ...   \n",
       "4       Taylor Twellman  NE    F  26  25  2283  16  3    90   55  ...   \n",
       "...                 ...  ...  ..  ..  ..   ...  .. ..   ...  ...  ...   \n",
       "10967      Siem de Jong  CIN   M  15   8   793   0  0    18    5  ...   \n",
       "10968     Maxime Chanot  NYC   D  20  20  1712   0  0    19    4  ...   \n",
       "10969     Maxime Chanot  NaN   D   1   1   120   1  0     2    1  ...   \n",
       "10970     Nicolas Figal  MIA   D  21  21  1746   0  0    22    9  ...   \n",
       "10971     Nicolas Figal  NaN   D   1   1    90   0  0     0    0  ...   \n",
       "\n",
       "       A/90min  FC  FS  OFF  YC  RC    SOG%  Year  Season  Postseason  \n",
       "0         0.04  35  39   21   2   0   59.49  2007     reg           1  \n",
       "1         0.00   0   1    0   0   0  100.00  2007    post           1  \n",
       "2         0.21  31  20   42   2   1   54.64  2007     reg           1  \n",
       "3         0.00   5   3    2   0   0   57.14  2007    post           1  \n",
       "4         0.12  13  41   21   2   0   61.11  2007     reg           1  \n",
       "...        ...  ..  ..  ...  ..  ..     ...   ...     ...         ...  \n",
       "10967     0.00   7   8    1   0   0   27.78  2020     reg           0  \n",
       "10968     0.00  18   6    1   5   1   21.05  2020     reg           1  \n",
       "10969     0.00   1   1    0   0   0   50.00  2020    post           1  \n",
       "10970     0.00  22  26    0   4   0   40.91  2020     reg           1  \n",
       "10971     0.00   1   1    0   0   0     NaN  2020    post           1  \n",
       "\n",
       "[10972 rows x 29 columns]"
      ]
     },
     "execution_count": 9,
     "metadata": {},
     "output_type": "execute_result"
    }
   ],
   "source": [
    "grouped = player_stats_df.groupby(['Player', 'Year'])\n",
    "made_postseason = grouped['Season'].nunique()\n",
    "\n",
    "made_postseason = made_postseason.reset_index()\n",
    "made_postseason.columns = ['Player', 'Year', 'Postseason']\n",
    "\n",
    "player_stats_df = player_stats_df.merge(made_postseason, on=['Player', 'Year'])\n",
    "player_stats_df['Postseason'] = player_stats_df['Postseason'].map({2:1, 1:0})\n",
    "player_stats_df"
   ]
  },
  {
   "cell_type": "markdown",
   "id": "f10fcb9c-be8f-4332-bc59-dc7dc79fb889",
   "metadata": {},
   "source": [
    "I am removing postseason data from the dataset as it is a smaller subset and effectively duplicates players that made it to the postseason for that particular year."
   ]
  },
  {
   "cell_type": "code",
   "execution_count": 10,
   "id": "44f74efb-8b90-4bb6-8784-49c46dfc87ba",
   "metadata": {},
   "outputs": [],
   "source": [
    "# Filtering dataframe to only have data from the regular season\n",
    "player_stats_df = player_stats_df[player_stats_df['Season'] == 'reg']"
   ]
  },
  {
   "cell_type": "code",
   "execution_count": 11,
   "id": "411dd8ac-c50c-4d94-b350-1c06d37e173e",
   "metadata": {},
   "outputs": [
    {
     "data": {
      "text/html": [
       "<div>\n",
       "<style scoped>\n",
       "    .dataframe tbody tr th:only-of-type {\n",
       "        vertical-align: middle;\n",
       "    }\n",
       "\n",
       "    .dataframe tbody tr th {\n",
       "        vertical-align: top;\n",
       "    }\n",
       "\n",
       "    .dataframe thead th {\n",
       "        text-align: right;\n",
       "    }\n",
       "</style>\n",
       "<table border=\"1\" class=\"dataframe\">\n",
       "  <thead>\n",
       "    <tr style=\"text-align: right;\">\n",
       "      <th></th>\n",
       "      <th>Player</th>\n",
       "      <th>Club</th>\n",
       "      <th>POS</th>\n",
       "      <th>GP</th>\n",
       "      <th>GS</th>\n",
       "      <th>MINS</th>\n",
       "      <th>G</th>\n",
       "      <th>A</th>\n",
       "      <th>SHTS</th>\n",
       "      <th>SOG</th>\n",
       "      <th>...</th>\n",
       "      <th>A/90min</th>\n",
       "      <th>FC</th>\n",
       "      <th>FS</th>\n",
       "      <th>OFF</th>\n",
       "      <th>YC</th>\n",
       "      <th>RC</th>\n",
       "      <th>SOG%</th>\n",
       "      <th>Year</th>\n",
       "      <th>Season</th>\n",
       "      <th>Postseason</th>\n",
       "    </tr>\n",
       "  </thead>\n",
       "  <tbody>\n",
       "    <tr>\n",
       "      <th>0</th>\n",
       "      <td>Luciano Emilio</td>\n",
       "      <td>DC</td>\n",
       "      <td>F</td>\n",
       "      <td>29</td>\n",
       "      <td>28</td>\n",
       "      <td>2410</td>\n",
       "      <td>20</td>\n",
       "      <td>1</td>\n",
       "      <td>79</td>\n",
       "      <td>47</td>\n",
       "      <td>...</td>\n",
       "      <td>0.04</td>\n",
       "      <td>35</td>\n",
       "      <td>39</td>\n",
       "      <td>21</td>\n",
       "      <td>2</td>\n",
       "      <td>0</td>\n",
       "      <td>59.49</td>\n",
       "      <td>2007</td>\n",
       "      <td>reg</td>\n",
       "      <td>1</td>\n",
       "    </tr>\n",
       "    <tr>\n",
       "      <th>2</th>\n",
       "      <td>Juan Pablo Angel</td>\n",
       "      <td>NY</td>\n",
       "      <td>F</td>\n",
       "      <td>24</td>\n",
       "      <td>24</td>\n",
       "      <td>2125</td>\n",
       "      <td>19</td>\n",
       "      <td>5</td>\n",
       "      <td>97</td>\n",
       "      <td>53</td>\n",
       "      <td>...</td>\n",
       "      <td>0.21</td>\n",
       "      <td>31</td>\n",
       "      <td>20</td>\n",
       "      <td>42</td>\n",
       "      <td>2</td>\n",
       "      <td>1</td>\n",
       "      <td>54.64</td>\n",
       "      <td>2007</td>\n",
       "      <td>reg</td>\n",
       "      <td>1</td>\n",
       "    </tr>\n",
       "    <tr>\n",
       "      <th>4</th>\n",
       "      <td>Taylor Twellman</td>\n",
       "      <td>NE</td>\n",
       "      <td>F</td>\n",
       "      <td>26</td>\n",
       "      <td>25</td>\n",
       "      <td>2283</td>\n",
       "      <td>16</td>\n",
       "      <td>3</td>\n",
       "      <td>90</td>\n",
       "      <td>55</td>\n",
       "      <td>...</td>\n",
       "      <td>0.12</td>\n",
       "      <td>13</td>\n",
       "      <td>41</td>\n",
       "      <td>21</td>\n",
       "      <td>2</td>\n",
       "      <td>0</td>\n",
       "      <td>61.11</td>\n",
       "      <td>2007</td>\n",
       "      <td>reg</td>\n",
       "      <td>1</td>\n",
       "    </tr>\n",
       "    <tr>\n",
       "      <th>6</th>\n",
       "      <td>Eddie Johnson</td>\n",
       "      <td>KC</td>\n",
       "      <td>F</td>\n",
       "      <td>24</td>\n",
       "      <td>24</td>\n",
       "      <td>2149</td>\n",
       "      <td>15</td>\n",
       "      <td>6</td>\n",
       "      <td>75</td>\n",
       "      <td>43</td>\n",
       "      <td>...</td>\n",
       "      <td>0.25</td>\n",
       "      <td>21</td>\n",
       "      <td>57</td>\n",
       "      <td>50</td>\n",
       "      <td>6</td>\n",
       "      <td>0</td>\n",
       "      <td>57.33</td>\n",
       "      <td>2007</td>\n",
       "      <td>reg</td>\n",
       "      <td>1</td>\n",
       "    </tr>\n",
       "    <tr>\n",
       "      <th>8</th>\n",
       "      <td>Maykel Galindo</td>\n",
       "      <td>CHV</td>\n",
       "      <td>F</td>\n",
       "      <td>28</td>\n",
       "      <td>24</td>\n",
       "      <td>2021</td>\n",
       "      <td>12</td>\n",
       "      <td>5</td>\n",
       "      <td>55</td>\n",
       "      <td>28</td>\n",
       "      <td>...</td>\n",
       "      <td>0.22</td>\n",
       "      <td>44</td>\n",
       "      <td>53</td>\n",
       "      <td>30</td>\n",
       "      <td>6</td>\n",
       "      <td>0</td>\n",
       "      <td>50.91</td>\n",
       "      <td>2007</td>\n",
       "      <td>reg</td>\n",
       "      <td>1</td>\n",
       "    </tr>\n",
       "    <tr>\n",
       "      <th>...</th>\n",
       "      <td>...</td>\n",
       "      <td>...</td>\n",
       "      <td>...</td>\n",
       "      <td>...</td>\n",
       "      <td>...</td>\n",
       "      <td>...</td>\n",
       "      <td>...</td>\n",
       "      <td>...</td>\n",
       "      <td>...</td>\n",
       "      <td>...</td>\n",
       "      <td>...</td>\n",
       "      <td>...</td>\n",
       "      <td>...</td>\n",
       "      <td>...</td>\n",
       "      <td>...</td>\n",
       "      <td>...</td>\n",
       "      <td>...</td>\n",
       "      <td>...</td>\n",
       "      <td>...</td>\n",
       "      <td>...</td>\n",
       "      <td>...</td>\n",
       "    </tr>\n",
       "    <tr>\n",
       "      <th>10963</th>\n",
       "      <td>Sebastian Mendez</td>\n",
       "      <td>ORL</td>\n",
       "      <td>M</td>\n",
       "      <td>19</td>\n",
       "      <td>11</td>\n",
       "      <td>1087</td>\n",
       "      <td>0</td>\n",
       "      <td>0</td>\n",
       "      <td>17</td>\n",
       "      <td>3</td>\n",
       "      <td>...</td>\n",
       "      <td>0.00</td>\n",
       "      <td>32</td>\n",
       "      <td>9</td>\n",
       "      <td>1</td>\n",
       "      <td>4</td>\n",
       "      <td>1</td>\n",
       "      <td>17.65</td>\n",
       "      <td>2020</td>\n",
       "      <td>reg</td>\n",
       "      <td>1</td>\n",
       "    </tr>\n",
       "    <tr>\n",
       "      <th>10965</th>\n",
       "      <td>Kelyn Rowe</td>\n",
       "      <td>NE</td>\n",
       "      <td>M</td>\n",
       "      <td>16</td>\n",
       "      <td>10</td>\n",
       "      <td>896</td>\n",
       "      <td>0</td>\n",
       "      <td>0</td>\n",
       "      <td>17</td>\n",
       "      <td>4</td>\n",
       "      <td>...</td>\n",
       "      <td>0.00</td>\n",
       "      <td>13</td>\n",
       "      <td>4</td>\n",
       "      <td>0</td>\n",
       "      <td>3</td>\n",
       "      <td>0</td>\n",
       "      <td>23.53</td>\n",
       "      <td>2020</td>\n",
       "      <td>reg</td>\n",
       "      <td>1</td>\n",
       "    </tr>\n",
       "    <tr>\n",
       "      <th>10967</th>\n",
       "      <td>Siem de Jong</td>\n",
       "      <td>CIN</td>\n",
       "      <td>M</td>\n",
       "      <td>15</td>\n",
       "      <td>8</td>\n",
       "      <td>793</td>\n",
       "      <td>0</td>\n",
       "      <td>0</td>\n",
       "      <td>18</td>\n",
       "      <td>5</td>\n",
       "      <td>...</td>\n",
       "      <td>0.00</td>\n",
       "      <td>7</td>\n",
       "      <td>8</td>\n",
       "      <td>1</td>\n",
       "      <td>0</td>\n",
       "      <td>0</td>\n",
       "      <td>27.78</td>\n",
       "      <td>2020</td>\n",
       "      <td>reg</td>\n",
       "      <td>0</td>\n",
       "    </tr>\n",
       "    <tr>\n",
       "      <th>10968</th>\n",
       "      <td>Maxime Chanot</td>\n",
       "      <td>NYC</td>\n",
       "      <td>D</td>\n",
       "      <td>20</td>\n",
       "      <td>20</td>\n",
       "      <td>1712</td>\n",
       "      <td>0</td>\n",
       "      <td>0</td>\n",
       "      <td>19</td>\n",
       "      <td>4</td>\n",
       "      <td>...</td>\n",
       "      <td>0.00</td>\n",
       "      <td>18</td>\n",
       "      <td>6</td>\n",
       "      <td>1</td>\n",
       "      <td>5</td>\n",
       "      <td>1</td>\n",
       "      <td>21.05</td>\n",
       "      <td>2020</td>\n",
       "      <td>reg</td>\n",
       "      <td>1</td>\n",
       "    </tr>\n",
       "    <tr>\n",
       "      <th>10970</th>\n",
       "      <td>Nicolas Figal</td>\n",
       "      <td>MIA</td>\n",
       "      <td>D</td>\n",
       "      <td>21</td>\n",
       "      <td>21</td>\n",
       "      <td>1746</td>\n",
       "      <td>0</td>\n",
       "      <td>0</td>\n",
       "      <td>22</td>\n",
       "      <td>9</td>\n",
       "      <td>...</td>\n",
       "      <td>0.00</td>\n",
       "      <td>22</td>\n",
       "      <td>26</td>\n",
       "      <td>0</td>\n",
       "      <td>4</td>\n",
       "      <td>0</td>\n",
       "      <td>40.91</td>\n",
       "      <td>2020</td>\n",
       "      <td>reg</td>\n",
       "      <td>1</td>\n",
       "    </tr>\n",
       "  </tbody>\n",
       "</table>\n",
       "<p>7245 rows × 29 columns</p>\n",
       "</div>"
      ],
      "text/plain": [
       "                 Player Club POS  GP  GS  MINS   G  A  SHTS  SOG  ...  \\\n",
       "0        Luciano Emilio  DC    F  29  28  2410  20  1    79   47  ...   \n",
       "2      Juan Pablo Angel  NY    F  24  24  2125  19  5    97   53  ...   \n",
       "4       Taylor Twellman  NE    F  26  25  2283  16  3    90   55  ...   \n",
       "6         Eddie Johnson  KC    F  24  24  2149  15  6    75   43  ...   \n",
       "8        Maykel Galindo  CHV   F  28  24  2021  12  5    55   28  ...   \n",
       "...                 ...  ...  ..  ..  ..   ...  .. ..   ...  ...  ...   \n",
       "10963  Sebastian Mendez  ORL   M  19  11  1087   0  0    17    3  ...   \n",
       "10965        Kelyn Rowe   NE   M  16  10   896   0  0    17    4  ...   \n",
       "10967      Siem de Jong  CIN   M  15   8   793   0  0    18    5  ...   \n",
       "10968     Maxime Chanot  NYC   D  20  20  1712   0  0    19    4  ...   \n",
       "10970     Nicolas Figal  MIA   D  21  21  1746   0  0    22    9  ...   \n",
       "\n",
       "       A/90min  FC  FS  OFF  YC  RC   SOG%  Year  Season  Postseason  \n",
       "0         0.04  35  39   21   2   0  59.49  2007     reg           1  \n",
       "2         0.21  31  20   42   2   1  54.64  2007     reg           1  \n",
       "4         0.12  13  41   21   2   0  61.11  2007     reg           1  \n",
       "6         0.25  21  57   50   6   0  57.33  2007     reg           1  \n",
       "8         0.22  44  53   30   6   0  50.91  2007     reg           1  \n",
       "...        ...  ..  ..  ...  ..  ..    ...   ...     ...         ...  \n",
       "10963     0.00  32   9    1   4   1  17.65  2020     reg           1  \n",
       "10965     0.00  13   4    0   3   0  23.53  2020     reg           1  \n",
       "10967     0.00   7   8    1   0   0  27.78  2020     reg           0  \n",
       "10968     0.00  18   6    1   5   1  21.05  2020     reg           1  \n",
       "10970     0.00  22  26    0   4   0  40.91  2020     reg           1  \n",
       "\n",
       "[7245 rows x 29 columns]"
      ]
     },
     "execution_count": 11,
     "metadata": {},
     "output_type": "execute_result"
    }
   ],
   "source": [
    "player_stats_df"
   ]
  },
  {
   "cell_type": "markdown",
   "id": "380c933c-3ba2-42db-90ec-f46f186dfba2",
   "metadata": {},
   "source": [
    "The bulk of the data cleaning comes in for the salary dataframes which I am loading in here. I first identified what differences in column names the datasets had and got them to a place of uniformity."
   ]
  },
  {
   "cell_type": "code",
   "execution_count": 12,
   "id": "1c4d4fee-ea0d-46bd-b657-f60cb3049472",
   "metadata": {},
   "outputs": [],
   "source": [
    "# Loading in all the salary datasets into respective dataframes\n",
    "salary2007_df = pd.read_excel('./data/Salary_data/2007-Salaries.xlsx', header=0)\n",
    "salary2008_df = pd.read_excel('./data/Salary_data/2008-Salaries.xlsx', header=0)\n",
    "salary2009_df = pd.read_excel('./data/Salary_data/2009-Salaries.xlsx', header=0)\n",
    "salary2010_df = pd.read_excel('./data/Salary_data/2010-Salaries.xlsx', header=0)\n",
    "salary2011_df = pd.read_excel('./data/Salary_data/2011-Salaries.xlsx', header=1)\n",
    "salary2012_df = pd.read_excel('./data/Salary_data/2012-Salaries.xlsx', header=1)\n",
    "salary2013_df = pd.read_excel('./data/Salary_data/2013-Salaries.xlsx', header=1)\n",
    "salary2014_df = pd.read_excel('./data/Salary_data/2014-Salaries.xlsx', header=1)\n",
    "salary2015_df = pd.read_excel('./data/Salary_data/2015-Salaries.xlsx', header=1)\n",
    "salary2016_df = pd.read_excel('./data/Salary_data/2016-Salaries.xlsx', header=1)\n",
    "salary2017_df = pd.read_excel('./data/Salary_data/2017-Salaries.xlsx', header=1)\n",
    "salary2018_df = pd.read_excel('./data/Salary_data/2018-Salaries.xlsx', header=0)\n",
    "salary2019_df = pd.read_excel('./data/Salary_data/2019-Salaries.xlsx', header=1)\n",
    "salary2020_df = pd.read_excel('./data/Salary_data/2020-Salaries-.xlsx', header=0)\n"
   ]
  },
  {
   "cell_type": "code",
   "execution_count": 13,
   "id": "6ec89b9c-7ae6-48b6-9fc2-4c8c8638de26",
   "metadata": {},
   "outputs": [
    {
     "data": {
      "text/html": [
       "<div>\n",
       "<style scoped>\n",
       "    .dataframe tbody tr th:only-of-type {\n",
       "        vertical-align: middle;\n",
       "    }\n",
       "\n",
       "    .dataframe tbody tr th {\n",
       "        vertical-align: top;\n",
       "    }\n",
       "\n",
       "    .dataframe thead th {\n",
       "        text-align: right;\n",
       "    }\n",
       "</style>\n",
       "<table border=\"1\" class=\"dataframe\">\n",
       "  <thead>\n",
       "    <tr style=\"text-align: right;\">\n",
       "      <th></th>\n",
       "      <th>Club</th>\n",
       "      <th>Last Name</th>\n",
       "      <th>First Name</th>\n",
       "      <th>Pos</th>\n",
       "      <th>Base Salary</th>\n",
       "      <th>Compensation</th>\n",
       "    </tr>\n",
       "  </thead>\n",
       "  <tbody>\n",
       "    <tr>\n",
       "      <th>0</th>\n",
       "      <td>DC</td>\n",
       "      <td>Addlery</td>\n",
       "      <td>Nicholas</td>\n",
       "      <td>F</td>\n",
       "      <td>36000</td>\n",
       "      <td>36000</td>\n",
       "    </tr>\n",
       "    <tr>\n",
       "      <th>1</th>\n",
       "      <td>LA</td>\n",
       "      <td>Albright</td>\n",
       "      <td>Chris</td>\n",
       "      <td>M-D</td>\n",
       "      <td>142500</td>\n",
       "      <td>142500</td>\n",
       "    </tr>\n",
       "    <tr>\n",
       "      <th>2</th>\n",
       "      <td>NY</td>\n",
       "      <td>Altidore</td>\n",
       "      <td>Josmer</td>\n",
       "      <td>F</td>\n",
       "      <td>85000</td>\n",
       "      <td>108333</td>\n",
       "    </tr>\n",
       "    <tr>\n",
       "      <th>3</th>\n",
       "      <td>DAL</td>\n",
       "      <td>Alvarez</td>\n",
       "      <td>Arturo</td>\n",
       "      <td>M</td>\n",
       "      <td>32819</td>\n",
       "      <td>46019</td>\n",
       "    </tr>\n",
       "    <tr>\n",
       "      <th>4</th>\n",
       "      <td>NY</td>\n",
       "      <td>Angel</td>\n",
       "      <td>Juan Pablo</td>\n",
       "      <td>F</td>\n",
       "      <td>1500000</td>\n",
       "      <td>1593750</td>\n",
       "    </tr>\n",
       "  </tbody>\n",
       "</table>\n",
       "</div>"
      ],
      "text/plain": [
       "  Club Last Name  First Name  Pos Base Salary Compensation\n",
       "0   DC   Addlery    Nicholas    F       36000        36000\n",
       "1   LA  Albright       Chris  M-D      142500       142500\n",
       "2   NY  Altidore      Josmer    F       85000       108333\n",
       "3  DAL   Alvarez      Arturo    M       32819        46019\n",
       "4   NY     Angel  Juan Pablo    F     1500000      1593750"
      ]
     },
     "execution_count": 13,
     "metadata": {},
     "output_type": "execute_result"
    }
   ],
   "source": [
    "salary2007_df.head()"
   ]
  },
  {
   "cell_type": "code",
   "execution_count": 14,
   "id": "393006c8-5227-4b78-af79-765e69c850e1",
   "metadata": {},
   "outputs": [
    {
     "data": {
      "text/html": [
       "<div>\n",
       "<style scoped>\n",
       "    .dataframe tbody tr th:only-of-type {\n",
       "        vertical-align: middle;\n",
       "    }\n",
       "\n",
       "    .dataframe tbody tr th {\n",
       "        vertical-align: top;\n",
       "    }\n",
       "\n",
       "    .dataframe thead th {\n",
       "        text-align: right;\n",
       "    }\n",
       "</style>\n",
       "<table border=\"1\" class=\"dataframe\">\n",
       "  <thead>\n",
       "    <tr style=\"text-align: right;\">\n",
       "      <th></th>\n",
       "      <th>Club</th>\n",
       "      <th>Last Name</th>\n",
       "      <th>First Name</th>\n",
       "      <th>Pos</th>\n",
       "      <th>Base Salary</th>\n",
       "      <th>Compensation</th>\n",
       "    </tr>\n",
       "  </thead>\n",
       "  <tbody>\n",
       "    <tr>\n",
       "      <th>0</th>\n",
       "      <td>LA</td>\n",
       "      <td>Adzemian</td>\n",
       "      <td>Vardan</td>\n",
       "      <td>D</td>\n",
       "      <td>12900</td>\n",
       "      <td>12900</td>\n",
       "    </tr>\n",
       "    <tr>\n",
       "      <th>1</th>\n",
       "      <td>LA</td>\n",
       "      <td>Alamo</td>\n",
       "      <td>Charles</td>\n",
       "      <td>GK</td>\n",
       "      <td>12900</td>\n",
       "      <td>12900</td>\n",
       "    </tr>\n",
       "    <tr>\n",
       "      <th>2</th>\n",
       "      <td>NE</td>\n",
       "      <td>Albright</td>\n",
       "      <td>Chris</td>\n",
       "      <td>D</td>\n",
       "      <td>160000</td>\n",
       "      <td>160000</td>\n",
       "    </tr>\n",
       "    <tr>\n",
       "      <th>3</th>\n",
       "      <td>HOU</td>\n",
       "      <td>Alcaraz</td>\n",
       "      <td>Johnny</td>\n",
       "      <td>M</td>\n",
       "      <td>12900</td>\n",
       "      <td>12900</td>\n",
       "    </tr>\n",
       "    <tr>\n",
       "      <th>4</th>\n",
       "      <td>LA</td>\n",
       "      <td>Allen</td>\n",
       "      <td>Ely</td>\n",
       "      <td>F</td>\n",
       "      <td>12900</td>\n",
       "      <td>12900</td>\n",
       "    </tr>\n",
       "  </tbody>\n",
       "</table>\n",
       "</div>"
      ],
      "text/plain": [
       "  Club Last Name First Name Pos Base Salary Compensation\n",
       "0   LA  Adzemian     Vardan   D       12900        12900\n",
       "1   LA     Alamo    Charles  GK       12900        12900\n",
       "2   NE  Albright      Chris   D      160000       160000\n",
       "3  HOU   Alcaraz     Johnny   M       12900        12900\n",
       "4   LA     Allen        Ely   F       12900        12900"
      ]
     },
     "execution_count": 14,
     "metadata": {},
     "output_type": "execute_result"
    }
   ],
   "source": [
    "salary2008_df.head()"
   ]
  },
  {
   "cell_type": "code",
   "execution_count": 15,
   "id": "b28e118a-b310-4571-8d97-3ecbd798e89b",
   "metadata": {},
   "outputs": [
    {
     "data": {
      "text/html": [
       "<div>\n",
       "<style scoped>\n",
       "    .dataframe tbody tr th:only-of-type {\n",
       "        vertical-align: middle;\n",
       "    }\n",
       "\n",
       "    .dataframe tbody tr th {\n",
       "        vertical-align: top;\n",
       "    }\n",
       "\n",
       "    .dataframe thead th {\n",
       "        text-align: right;\n",
       "    }\n",
       "</style>\n",
       "<table border=\"1\" class=\"dataframe\">\n",
       "  <thead>\n",
       "    <tr style=\"text-align: right;\">\n",
       "      <th></th>\n",
       "      <th>Club</th>\n",
       "      <th>Last Name</th>\n",
       "      <th>First Name</th>\n",
       "      <th>Pos</th>\n",
       "      <th>Base Salary</th>\n",
       "      <th>Compensation</th>\n",
       "    </tr>\n",
       "  </thead>\n",
       "  <tbody>\n",
       "    <tr>\n",
       "      <th>0</th>\n",
       "      <td>NE</td>\n",
       "      <td>Albright</td>\n",
       "      <td>Chris</td>\n",
       "      <td>D</td>\n",
       "      <td>176000</td>\n",
       "      <td>176000</td>\n",
       "    </tr>\n",
       "    <tr>\n",
       "      <th>1</th>\n",
       "      <td>RSL</td>\n",
       "      <td>Alexandre</td>\n",
       "      <td>Jean</td>\n",
       "      <td>M</td>\n",
       "      <td>34000</td>\n",
       "      <td>34000</td>\n",
       "    </tr>\n",
       "    <tr>\n",
       "      <th>2</th>\n",
       "      <td>DC</td>\n",
       "      <td>Allen</td>\n",
       "      <td>Ely</td>\n",
       "      <td>F-M</td>\n",
       "      <td>15300</td>\n",
       "      <td>15300</td>\n",
       "    </tr>\n",
       "    <tr>\n",
       "      <th>3</th>\n",
       "      <td>SEA</td>\n",
       "      <td>Alonso</td>\n",
       "      <td>Osvaldo</td>\n",
       "      <td>M</td>\n",
       "      <td>65000</td>\n",
       "      <td>65000</td>\n",
       "    </tr>\n",
       "    <tr>\n",
       "      <th>4</th>\n",
       "      <td>NE</td>\n",
       "      <td>Alston</td>\n",
       "      <td>Kevin</td>\n",
       "      <td>D</td>\n",
       "      <td>55000</td>\n",
       "      <td>104000</td>\n",
       "    </tr>\n",
       "  </tbody>\n",
       "</table>\n",
       "</div>"
      ],
      "text/plain": [
       "  Club  Last Name First Name  Pos Base Salary Compensation\n",
       "0   NE   Albright      Chris    D      176000       176000\n",
       "1  RSL  Alexandre       Jean    M       34000        34000\n",
       "2   DC      Allen        Ely  F-M       15300        15300\n",
       "3  SEA     Alonso    Osvaldo    M       65000        65000\n",
       "4   NE     Alston      Kevin    D       55000       104000"
      ]
     },
     "execution_count": 15,
     "metadata": {},
     "output_type": "execute_result"
    }
   ],
   "source": [
    "salary2009_df.head()"
   ]
  },
  {
   "cell_type": "code",
   "execution_count": 16,
   "id": "8e1d93dc-79cb-4be0-bde6-456c6ce03c7b",
   "metadata": {},
   "outputs": [
    {
     "data": {
      "text/html": [
       "<div>\n",
       "<style scoped>\n",
       "    .dataframe tbody tr th:only-of-type {\n",
       "        vertical-align: middle;\n",
       "    }\n",
       "\n",
       "    .dataframe tbody tr th {\n",
       "        vertical-align: top;\n",
       "    }\n",
       "\n",
       "    .dataframe thead th {\n",
       "        text-align: right;\n",
       "    }\n",
       "</style>\n",
       "<table border=\"1\" class=\"dataframe\">\n",
       "  <thead>\n",
       "    <tr style=\"text-align: right;\">\n",
       "      <th></th>\n",
       "      <th>Club</th>\n",
       "      <th>Last Name</th>\n",
       "      <th>First Name</th>\n",
       "      <th>Pos</th>\n",
       "      <th>Base Salary</th>\n",
       "      <th>Compensation</th>\n",
       "    </tr>\n",
       "  </thead>\n",
       "  <tbody>\n",
       "    <tr>\n",
       "      <th>0</th>\n",
       "      <td>NY</td>\n",
       "      <td>Agudelo</td>\n",
       "      <td>Juan</td>\n",
       "      <td>F</td>\n",
       "      <td>40000</td>\n",
       "      <td>70000</td>\n",
       "    </tr>\n",
       "    <tr>\n",
       "      <th>1</th>\n",
       "      <td>KC</td>\n",
       "      <td>Aiyegbusi</td>\n",
       "      <td>Olukorede</td>\n",
       "      <td>D</td>\n",
       "      <td>40000</td>\n",
       "      <td>40000</td>\n",
       "    </tr>\n",
       "    <tr>\n",
       "      <th>2</th>\n",
       "      <td>COL</td>\n",
       "      <td>Akpan</td>\n",
       "      <td>Andre</td>\n",
       "      <td>F</td>\n",
       "      <td>40000</td>\n",
       "      <td>65000</td>\n",
       "    </tr>\n",
       "    <tr>\n",
       "      <th>3</th>\n",
       "      <td>NY</td>\n",
       "      <td>Albright</td>\n",
       "      <td>Chris</td>\n",
       "      <td>D</td>\n",
       "      <td>84000</td>\n",
       "      <td>84000</td>\n",
       "    </tr>\n",
       "    <tr>\n",
       "      <th>4</th>\n",
       "      <td>DAL</td>\n",
       "      <td>Alexander</td>\n",
       "      <td>Eric</td>\n",
       "      <td>M</td>\n",
       "      <td>40000</td>\n",
       "      <td>40000</td>\n",
       "    </tr>\n",
       "  </tbody>\n",
       "</table>\n",
       "</div>"
      ],
      "text/plain": [
       "  Club  Last Name First Name Pos Base Salary Compensation\n",
       "0   NY    Agudelo       Juan   F       40000        70000\n",
       "1   KC  Aiyegbusi  Olukorede   D       40000        40000\n",
       "2  COL      Akpan      Andre   F       40000        65000\n",
       "3   NY   Albright      Chris   D       84000        84000\n",
       "4  DAL  Alexander       Eric   M       40000        40000"
      ]
     },
     "execution_count": 16,
     "metadata": {},
     "output_type": "execute_result"
    }
   ],
   "source": [
    "salary2010_df.head()"
   ]
  },
  {
   "cell_type": "code",
   "execution_count": 17,
   "id": "a79d39e4-669b-4c7f-89cd-2902dbfc0dfd",
   "metadata": {},
   "outputs": [
    {
     "data": {
      "text/html": [
       "<div>\n",
       "<style scoped>\n",
       "    .dataframe tbody tr th:only-of-type {\n",
       "        vertical-align: middle;\n",
       "    }\n",
       "\n",
       "    .dataframe tbody tr th {\n",
       "        vertical-align: top;\n",
       "    }\n",
       "\n",
       "    .dataframe thead th {\n",
       "        text-align: right;\n",
       "    }\n",
       "</style>\n",
       "<table border=\"1\" class=\"dataframe\">\n",
       "  <thead>\n",
       "    <tr style=\"text-align: right;\">\n",
       "      <th></th>\n",
       "      <th>Club</th>\n",
       "      <th>Last Name</th>\n",
       "      <th>First Name</th>\n",
       "      <th>Pos</th>\n",
       "      <th>Base Salary</th>\n",
       "      <th>Compensation</th>\n",
       "    </tr>\n",
       "  </thead>\n",
       "  <tbody>\n",
       "    <tr>\n",
       "      <th>0</th>\n",
       "      <td>COL</td>\n",
       "      <td>Ababio</td>\n",
       "      <td>Eddie</td>\n",
       "      <td>D</td>\n",
       "      <td>32604</td>\n",
       "      <td>32604</td>\n",
       "    </tr>\n",
       "    <tr>\n",
       "      <th>1</th>\n",
       "      <td>PHI</td>\n",
       "      <td>Adu</td>\n",
       "      <td>Freddy</td>\n",
       "      <td>M</td>\n",
       "      <td>475884</td>\n",
       "      <td>594884</td>\n",
       "    </tr>\n",
       "    <tr>\n",
       "      <th>2</th>\n",
       "      <td>RSL</td>\n",
       "      <td>Agorsor</td>\n",
       "      <td>Christopher</td>\n",
       "      <td>F</td>\n",
       "      <td>32604</td>\n",
       "      <td>32604</td>\n",
       "    </tr>\n",
       "    <tr>\n",
       "      <th>3</th>\n",
       "      <td>NY</td>\n",
       "      <td>Agudelo</td>\n",
       "      <td>Juan</td>\n",
       "      <td>F</td>\n",
       "      <td>55000</td>\n",
       "      <td>85000</td>\n",
       "    </tr>\n",
       "    <tr>\n",
       "      <th>4</th>\n",
       "      <td>KC</td>\n",
       "      <td>Aiyegbusi</td>\n",
       "      <td>Olukorede</td>\n",
       "      <td>D</td>\n",
       "      <td>42000</td>\n",
       "      <td>42000</td>\n",
       "    </tr>\n",
       "  </tbody>\n",
       "</table>\n",
       "</div>"
      ],
      "text/plain": [
       "  Club  Last Name   First Name Pos Base Salary Compensation\n",
       "0  COL     Ababio        Eddie   D       32604        32604\n",
       "1  PHI        Adu       Freddy   M      475884       594884\n",
       "2  RSL    Agorsor  Christopher   F       32604        32604\n",
       "3   NY    Agudelo         Juan   F       55000        85000\n",
       "4   KC  Aiyegbusi    Olukorede   D       42000        42000"
      ]
     },
     "execution_count": 17,
     "metadata": {},
     "output_type": "execute_result"
    }
   ],
   "source": [
    "salary2011_df.head()"
   ]
  },
  {
   "cell_type": "markdown",
   "id": "7d0143c3-8a2d-4640-acc0-49e5ae7c44b4",
   "metadata": {},
   "source": [
    "This Unnamed: 5 column shouldn't be here, need to figure out what happened."
   ]
  },
  {
   "cell_type": "code",
   "execution_count": 18,
   "id": "1a0d106e-90d6-4935-ac4e-7a9d213cf55b",
   "metadata": {
    "scrolled": true
   },
   "outputs": [
    {
     "data": {
      "text/html": [
       "<div>\n",
       "<style scoped>\n",
       "    .dataframe tbody tr th:only-of-type {\n",
       "        vertical-align: middle;\n",
       "    }\n",
       "\n",
       "    .dataframe tbody tr th {\n",
       "        vertical-align: top;\n",
       "    }\n",
       "\n",
       "    .dataframe thead th {\n",
       "        text-align: right;\n",
       "    }\n",
       "</style>\n",
       "<table border=\"1\" class=\"dataframe\">\n",
       "  <thead>\n",
       "    <tr style=\"text-align: right;\">\n",
       "      <th></th>\n",
       "      <th>Last Name</th>\n",
       "      <th>First Name</th>\n",
       "      <th>2020 Fall Salary List Club</th>\n",
       "      <th>Playing Position</th>\n",
       "      <th>Base Salary</th>\n",
       "      <th>Unnamed: 5</th>\n",
       "      <th>Base Guaranteed Comp.</th>\n",
       "    </tr>\n",
       "  </thead>\n",
       "  <tbody>\n",
       "    <tr>\n",
       "      <th>0</th>\n",
       "      <td>Aaronson</td>\n",
       "      <td>Brenden</td>\n",
       "      <td>Philadelphia Union</td>\n",
       "      <td>M</td>\n",
       "      <td>85000</td>\n",
       "      <td>NaN</td>\n",
       "      <td>103309</td>\n",
       "    </tr>\n",
       "    <tr>\n",
       "      <th>1</th>\n",
       "      <td>Abdul-Salaam</td>\n",
       "      <td>Saad</td>\n",
       "      <td>FC Cincinnati</td>\n",
       "      <td>D</td>\n",
       "      <td>81375</td>\n",
       "      <td>NaN</td>\n",
       "      <td>90042</td>\n",
       "    </tr>\n",
       "    <tr>\n",
       "      <th>2</th>\n",
       "      <td>Abu</td>\n",
       "      <td>Mohammed</td>\n",
       "      <td>DC United</td>\n",
       "      <td>M</td>\n",
       "      <td>81375</td>\n",
       "      <td>NaN</td>\n",
       "      <td>81375</td>\n",
       "    </tr>\n",
       "    <tr>\n",
       "      <th>3</th>\n",
       "      <td>Abubakar</td>\n",
       "      <td>Lalas</td>\n",
       "      <td>Colorado Rapids</td>\n",
       "      <td>D</td>\n",
       "      <td>145000</td>\n",
       "      <td>NaN</td>\n",
       "      <td>154937</td>\n",
       "    </tr>\n",
       "    <tr>\n",
       "      <th>4</th>\n",
       "      <td>Accam</td>\n",
       "      <td>David</td>\n",
       "      <td>Nashville SC</td>\n",
       "      <td>F</td>\n",
       "      <td>875000</td>\n",
       "      <td>NaN</td>\n",
       "      <td>1002916</td>\n",
       "    </tr>\n",
       "  </tbody>\n",
       "</table>\n",
       "</div>"
      ],
      "text/plain": [
       "      Last Name First Name 2020 Fall Salary List Club Playing Position  \\\n",
       "0      Aaronson    Brenden         Philadelphia Union                M   \n",
       "1  Abdul-Salaam       Saad              FC Cincinnati                D   \n",
       "2           Abu   Mohammed                  DC United                M   \n",
       "3      Abubakar      Lalas            Colorado Rapids                D   \n",
       "4         Accam      David               Nashville SC                F   \n",
       "\n",
       "  Base Salary  Unnamed: 5 Base Guaranteed Comp.  \n",
       "0       85000         NaN                103309  \n",
       "1       81375         NaN                 90042  \n",
       "2       81375         NaN                 81375  \n",
       "3      145000         NaN                154937  \n",
       "4      875000         NaN               1002916  "
      ]
     },
     "execution_count": 18,
     "metadata": {},
     "output_type": "execute_result"
    }
   ],
   "source": [
    "salary2020_df.head()"
   ]
  },
  {
   "cell_type": "markdown",
   "id": "6a516876-953b-4e84-a319-2b35ee0ac791",
   "metadata": {},
   "source": [
    "These are player salaries. Went back into the original excel spreadsheet that the dataset is on and found that at one point\n",
    "the information for Base Salary gets split into two columns. I will need to bring these columns back together."
   ]
  },
  {
   "cell_type": "code",
   "execution_count": 19,
   "id": "28b65ac1-4334-4f83-93b0-935bc5845260",
   "metadata": {},
   "outputs": [
    {
     "data": {
      "text/plain": [
       "Unnamed: 5\n",
       "81375.0      8\n",
       "63547.0      8\n",
       "100000.0     2\n",
       "155004.0     1\n",
       "800000.0     1\n",
       "192500.0     1\n",
       "315000.0     1\n",
       "525000.0     1\n",
       "1457148.0    1\n",
       "275000.0     1\n",
       "6000000.0    1\n",
       "750000.0     1\n",
       "185000.0     1\n",
       "500000.0     1\n",
       "85000.0      1\n",
       "200004.0     1\n",
       "151255.0     1\n",
       "166000.0     1\n",
       "730008.0     1\n",
       "210000.0     1\n",
       "Name: count, dtype: int64"
      ]
     },
     "execution_count": 19,
     "metadata": {},
     "output_type": "execute_result"
    }
   ],
   "source": [
    "salary2020_df['Unnamed: 5'].value_counts()"
   ]
  },
  {
   "cell_type": "code",
   "execution_count": 20,
   "id": "9afd40a2-8b96-4028-97f6-d31becedf28c",
   "metadata": {},
   "outputs": [
    {
     "name": "stdout",
     "output_type": "stream",
     "text": [
      "<class 'pandas.core.frame.DataFrame'>\n",
      "RangeIndex: 800 entries, 0 to 799\n",
      "Data columns (total 7 columns):\n",
      " #   Column                      Non-Null Count  Dtype  \n",
      "---  ------                      --------------  -----  \n",
      " 0   Last Name                   795 non-null    object \n",
      " 1   First Name                  800 non-null    object \n",
      " 2   2020 Fall Salary List Club  800 non-null    object \n",
      " 3   Playing Position            798 non-null    object \n",
      " 4   Base Salary                 800 non-null    object \n",
      " 5   Unnamed: 5                  35 non-null     float64\n",
      " 6   Base Guaranteed Comp.       800 non-null    object \n",
      "dtypes: float64(1), object(6)\n",
      "memory usage: 43.9+ KB\n"
     ]
    }
   ],
   "source": [
    "#filling rows with  'Base Salary' nulls with the filled in 'Unnamed: 5' salary values\n",
    "salary2020_df['Base Salary'].fillna(salary2020_df['Unnamed: 5'], inplace=True)\n",
    "salary2020_df.info()"
   ]
  },
  {
   "cell_type": "code",
   "execution_count": 21,
   "id": "590a7752-0344-43e2-b0bf-cf9c06715443",
   "metadata": {},
   "outputs": [],
   "source": [
    "salary2020_df.drop(columns='Unnamed: 5', inplace=True)"
   ]
  },
  {
   "cell_type": "code",
   "execution_count": 22,
   "id": "568bed21-86d5-49cc-8732-f0f00336a9a1",
   "metadata": {},
   "outputs": [
    {
     "data": {
      "text/html": [
       "<div>\n",
       "<style scoped>\n",
       "    .dataframe tbody tr th:only-of-type {\n",
       "        vertical-align: middle;\n",
       "    }\n",
       "\n",
       "    .dataframe tbody tr th {\n",
       "        vertical-align: top;\n",
       "    }\n",
       "\n",
       "    .dataframe thead th {\n",
       "        text-align: right;\n",
       "    }\n",
       "</style>\n",
       "<table border=\"1\" class=\"dataframe\">\n",
       "  <thead>\n",
       "    <tr style=\"text-align: right;\">\n",
       "      <th></th>\n",
       "      <th>Last Name</th>\n",
       "      <th>First Name</th>\n",
       "      <th>2020 Fall Salary List Club</th>\n",
       "      <th>Playing Position</th>\n",
       "      <th>Base Salary</th>\n",
       "      <th>Base Guaranteed Comp.</th>\n",
       "    </tr>\n",
       "  </thead>\n",
       "  <tbody>\n",
       "    <tr>\n",
       "      <th>0</th>\n",
       "      <td>Aaronson</td>\n",
       "      <td>Brenden</td>\n",
       "      <td>Philadelphia Union</td>\n",
       "      <td>M</td>\n",
       "      <td>85000</td>\n",
       "      <td>103309</td>\n",
       "    </tr>\n",
       "    <tr>\n",
       "      <th>1</th>\n",
       "      <td>Abdul-Salaam</td>\n",
       "      <td>Saad</td>\n",
       "      <td>FC Cincinnati</td>\n",
       "      <td>D</td>\n",
       "      <td>81375</td>\n",
       "      <td>90042</td>\n",
       "    </tr>\n",
       "    <tr>\n",
       "      <th>2</th>\n",
       "      <td>Abu</td>\n",
       "      <td>Mohammed</td>\n",
       "      <td>DC United</td>\n",
       "      <td>M</td>\n",
       "      <td>81375</td>\n",
       "      <td>81375</td>\n",
       "    </tr>\n",
       "    <tr>\n",
       "      <th>3</th>\n",
       "      <td>Abubakar</td>\n",
       "      <td>Lalas</td>\n",
       "      <td>Colorado Rapids</td>\n",
       "      <td>D</td>\n",
       "      <td>145000</td>\n",
       "      <td>154937</td>\n",
       "    </tr>\n",
       "    <tr>\n",
       "      <th>4</th>\n",
       "      <td>Accam</td>\n",
       "      <td>David</td>\n",
       "      <td>Nashville SC</td>\n",
       "      <td>F</td>\n",
       "      <td>875000</td>\n",
       "      <td>1002916</td>\n",
       "    </tr>\n",
       "  </tbody>\n",
       "</table>\n",
       "</div>"
      ],
      "text/plain": [
       "      Last Name First Name 2020 Fall Salary List Club Playing Position  \\\n",
       "0      Aaronson    Brenden         Philadelphia Union                M   \n",
       "1  Abdul-Salaam       Saad              FC Cincinnati                D   \n",
       "2           Abu   Mohammed                  DC United                M   \n",
       "3      Abubakar      Lalas            Colorado Rapids                D   \n",
       "4         Accam      David               Nashville SC                F   \n",
       "\n",
       "  Base Salary Base Guaranteed Comp.  \n",
       "0       85000                103309  \n",
       "1       81375                 90042  \n",
       "2       81375                 81375  \n",
       "3      145000                154937  \n",
       "4      875000               1002916  "
      ]
     },
     "execution_count": 22,
     "metadata": {},
     "output_type": "execute_result"
    }
   ],
   "source": [
    "salary2020_df.head()"
   ]
  },
  {
   "cell_type": "markdown",
   "id": "0538c256-c00b-4312-a61c-a9af37bb84b3",
   "metadata": {},
   "source": [
    "It looks like the column names have been inputted as values in the dataset. When checking the original spreadsheet,\n",
    "each page puts the column names at the top. These were converted into rows with the rest of the data accidentally. This\n",
    "likely happened with the other dataframes as well."
   ]
  },
  {
   "cell_type": "code",
   "execution_count": 23,
   "id": "9bb54c5c-d275-4088-b200-55ba1a73de3c",
   "metadata": {},
   "outputs": [
    {
     "data": {
      "text/html": [
       "<div>\n",
       "<style scoped>\n",
       "    .dataframe tbody tr th:only-of-type {\n",
       "        vertical-align: middle;\n",
       "    }\n",
       "\n",
       "    .dataframe tbody tr th {\n",
       "        vertical-align: top;\n",
       "    }\n",
       "\n",
       "    .dataframe thead th {\n",
       "        text-align: right;\n",
       "    }\n",
       "</style>\n",
       "<table border=\"1\" class=\"dataframe\">\n",
       "  <thead>\n",
       "    <tr style=\"text-align: right;\">\n",
       "      <th></th>\n",
       "      <th>Last Name</th>\n",
       "      <th>First Name</th>\n",
       "      <th>2020 Fall Salary List Club</th>\n",
       "      <th>Playing Position</th>\n",
       "      <th>Base Salary</th>\n",
       "      <th>Base Guaranteed Comp.</th>\n",
       "    </tr>\n",
       "  </thead>\n",
       "  <tbody>\n",
       "    <tr>\n",
       "      <th>count</th>\n",
       "      <td>795</td>\n",
       "      <td>800</td>\n",
       "      <td>800</td>\n",
       "      <td>798</td>\n",
       "      <td>800</td>\n",
       "      <td>800</td>\n",
       "    </tr>\n",
       "    <tr>\n",
       "      <th>unique</th>\n",
       "      <td>705</td>\n",
       "      <td>506</td>\n",
       "      <td>29</td>\n",
       "      <td>9</td>\n",
       "      <td>233</td>\n",
       "      <td>539</td>\n",
       "    </tr>\n",
       "    <tr>\n",
       "      <th>top</th>\n",
       "      <td>Last Name</td>\n",
       "      <td>First Name</td>\n",
       "      <td>Nashville SC</td>\n",
       "      <td>M</td>\n",
       "      <td>81375</td>\n",
       "      <td>81375</td>\n",
       "    </tr>\n",
       "    <tr>\n",
       "      <th>freq</th>\n",
       "      <td>22</td>\n",
       "      <td>22</td>\n",
       "      <td>33</td>\n",
       "      <td>245</td>\n",
       "      <td>140</td>\n",
       "      <td>89</td>\n",
       "    </tr>\n",
       "  </tbody>\n",
       "</table>\n",
       "</div>"
      ],
      "text/plain": [
       "        Last Name  First Name 2020 Fall Salary List Club Playing Position  \\\n",
       "count         795         800                        800              798   \n",
       "unique        705         506                         29                9   \n",
       "top     Last Name  First Name               Nashville SC                M   \n",
       "freq           22          22                         33              245   \n",
       "\n",
       "        Base Salary  Base Guaranteed Comp.  \n",
       "count           800                    800  \n",
       "unique          233                    539  \n",
       "top           81375                  81375  \n",
       "freq            140                     89  "
      ]
     },
     "execution_count": 23,
     "metadata": {},
     "output_type": "execute_result"
    }
   ],
   "source": [
    "salary2020_df.describe()"
   ]
  },
  {
   "cell_type": "code",
   "execution_count": 24,
   "id": "ffad8214-a926-43f8-be9f-82f639cb6426",
   "metadata": {},
   "outputs": [
    {
     "data": {
      "text/html": [
       "<div>\n",
       "<style scoped>\n",
       "    .dataframe tbody tr th:only-of-type {\n",
       "        vertical-align: middle;\n",
       "    }\n",
       "\n",
       "    .dataframe tbody tr th {\n",
       "        vertical-align: top;\n",
       "    }\n",
       "\n",
       "    .dataframe thead th {\n",
       "        text-align: right;\n",
       "    }\n",
       "</style>\n",
       "<table border=\"1\" class=\"dataframe\">\n",
       "  <thead>\n",
       "    <tr style=\"text-align: right;\">\n",
       "      <th></th>\n",
       "      <th>Club</th>\n",
       "      <th>Last Name</th>\n",
       "      <th>First Name</th>\n",
       "      <th>Playing Position</th>\n",
       "      <th>CY Salary (Annual)</th>\n",
       "      <th>CY Guaranteed Comp (Annual)</th>\n",
       "    </tr>\n",
       "  </thead>\n",
       "  <tbody>\n",
       "    <tr>\n",
       "      <th>0</th>\n",
       "      <td>Philadelphia Union</td>\n",
       "      <td>Aaronson</td>\n",
       "      <td>Brenden</td>\n",
       "      <td>M-F</td>\n",
       "      <td>70000.08</td>\n",
       "      <td>98309.48</td>\n",
       "    </tr>\n",
       "    <tr>\n",
       "      <th>1</th>\n",
       "      <td>Seattle Sounders FC</td>\n",
       "      <td>Abdul-Salaam</td>\n",
       "      <td>Saad</td>\n",
       "      <td>D</td>\n",
       "      <td>70250.04</td>\n",
       "      <td>70250.04</td>\n",
       "    </tr>\n",
       "    <tr>\n",
       "      <th>2</th>\n",
       "      <td>Colorado Rapids</td>\n",
       "      <td>Abubakar</td>\n",
       "      <td>Lalas</td>\n",
       "      <td>D</td>\n",
       "      <td>135000.00</td>\n",
       "      <td>144937.50</td>\n",
       "    </tr>\n",
       "    <tr>\n",
       "      <th>3</th>\n",
       "      <td>Columbus Crew</td>\n",
       "      <td>Accam</td>\n",
       "      <td>David</td>\n",
       "      <td>M-F</td>\n",
       "      <td>1010004.00</td>\n",
       "      <td>1137920.00</td>\n",
       "    </tr>\n",
       "    <tr>\n",
       "      <th>4</th>\n",
       "      <td>Colorado Rapids</td>\n",
       "      <td>Acosta</td>\n",
       "      <td>Kellyn</td>\n",
       "      <td>D-M</td>\n",
       "      <td>549999.96</td>\n",
       "      <td>664999.96</td>\n",
       "    </tr>\n",
       "  </tbody>\n",
       "</table>\n",
       "</div>"
      ],
      "text/plain": [
       "                  Club     Last Name First Name Playing Position  \\\n",
       "0   Philadelphia Union      Aaronson    Brenden              M-F   \n",
       "1  Seattle Sounders FC  Abdul-Salaam       Saad                D   \n",
       "2      Colorado Rapids      Abubakar      Lalas                D   \n",
       "3        Columbus Crew         Accam      David              M-F   \n",
       "4      Colorado Rapids        Acosta     Kellyn              D-M   \n",
       "\n",
       "   CY Salary (Annual)  CY Guaranteed Comp (Annual)  \n",
       "0            70000.08                     98309.48  \n",
       "1            70250.04                     70250.04  \n",
       "2           135000.00                    144937.50  \n",
       "3          1010004.00                   1137920.00  \n",
       "4           549999.96                    664999.96  "
      ]
     },
     "execution_count": 24,
     "metadata": {},
     "output_type": "execute_result"
    }
   ],
   "source": [
    "# Column names are different and ordered differently, will have to re-sort. Fortunately, no extra columns.\n",
    "salary2019_df.head()"
   ]
  },
  {
   "cell_type": "code",
   "execution_count": 25,
   "id": "6bbe2488-8870-41af-a339-7b6f200ca220",
   "metadata": {},
   "outputs": [
    {
     "name": "stdout",
     "output_type": "stream",
     "text": [
      "<class 'pandas.core.frame.DataFrame'>\n",
      "RangeIndex: 714 entries, 0 to 713\n",
      "Data columns (total 6 columns):\n",
      " #   Column                       Non-Null Count  Dtype  \n",
      "---  ------                       --------------  -----  \n",
      " 0   Club                         714 non-null    object \n",
      " 1   Last Name                    714 non-null    object \n",
      " 2   First Name                   705 non-null    object \n",
      " 3   Playing Position             713 non-null    object \n",
      " 4   CY Salary (Annual)           714 non-null    float64\n",
      " 5   CY Guaranteed Comp (Annual)  714 non-null    float64\n",
      "dtypes: float64(2), object(4)\n",
      "memory usage: 33.6+ KB\n"
     ]
    }
   ],
   "source": [
    "# Interesting, some First name nulls. \n",
    "salary2019_df.info()"
   ]
  },
  {
   "cell_type": "markdown",
   "id": "c437ff74-a45f-4476-8181-8ea39fcc9c33",
   "metadata": {},
   "source": [
    "Ahh yes, Soccer players love to be known by only their last name. Otherwise, Nani would be known as \n",
    "Luís Carlos Almeida da Cunha ComM (ComM is a Portugese honorific for great acts of service) https://en.wikipedia.org/wiki/Order_of_Merit_(Portugal)\n",
    "\n",
    "Will have to deal with the nulls somehow and combine first and last name to player to blend with \n",
    "statistics data."
   ]
  },
  {
   "cell_type": "code",
   "execution_count": 26,
   "id": "07aae5c6-7e61-462a-8776-afae6e007a8e",
   "metadata": {},
   "outputs": [
    {
     "data": {
      "text/html": [
       "<div>\n",
       "<style scoped>\n",
       "    .dataframe tbody tr th:only-of-type {\n",
       "        vertical-align: middle;\n",
       "    }\n",
       "\n",
       "    .dataframe tbody tr th {\n",
       "        vertical-align: top;\n",
       "    }\n",
       "\n",
       "    .dataframe thead th {\n",
       "        text-align: right;\n",
       "    }\n",
       "</style>\n",
       "<table border=\"1\" class=\"dataframe\">\n",
       "  <thead>\n",
       "    <tr style=\"text-align: right;\">\n",
       "      <th></th>\n",
       "      <th>Club</th>\n",
       "      <th>Last Name</th>\n",
       "      <th>First Name</th>\n",
       "      <th>Playing Position</th>\n",
       "      <th>CY Salary (Annual)</th>\n",
       "      <th>CY Guaranteed Comp (Annual)</th>\n",
       "    </tr>\n",
       "  </thead>\n",
       "  <tbody>\n",
       "    <tr>\n",
       "      <th>45</th>\n",
       "      <td>Columbus Crew</td>\n",
       "      <td>Artur</td>\n",
       "      <td>NaN</td>\n",
       "      <td>D-M</td>\n",
       "      <td>360000.00</td>\n",
       "      <td>411633.33</td>\n",
       "    </tr>\n",
       "    <tr>\n",
       "      <th>51</th>\n",
       "      <td>Toronto FC</td>\n",
       "      <td>Auro</td>\n",
       "      <td>NaN</td>\n",
       "      <td>D</td>\n",
       "      <td>225000.00</td>\n",
       "      <td>276666.67</td>\n",
       "    </tr>\n",
       "    <tr>\n",
       "      <th>100</th>\n",
       "      <td>FC Dallas</td>\n",
       "      <td>Bressan</td>\n",
       "      <td>NaN</td>\n",
       "      <td>D</td>\n",
       "      <td>485300.04</td>\n",
       "      <td>521931.29</td>\n",
       "    </tr>\n",
       "    <tr>\n",
       "      <th>304</th>\n",
       "      <td>Philadelphia Union</td>\n",
       "      <td>Ilsinho</td>\n",
       "      <td>NaN</td>\n",
       "      <td>M</td>\n",
       "      <td>330000.00</td>\n",
       "      <td>357000.00</td>\n",
       "    </tr>\n",
       "    <tr>\n",
       "      <th>324</th>\n",
       "      <td>San Jose Earthquakes</td>\n",
       "      <td>Judson</td>\n",
       "      <td>NaN</td>\n",
       "      <td>D-M</td>\n",
       "      <td>300000.00</td>\n",
       "      <td>305000.00</td>\n",
       "    </tr>\n",
       "    <tr>\n",
       "      <th>326</th>\n",
       "      <td>LA Galaxy</td>\n",
       "      <td>Juninho</td>\n",
       "      <td>NaN</td>\n",
       "      <td>M</td>\n",
       "      <td>150000.00</td>\n",
       "      <td>163125.00</td>\n",
       "    </tr>\n",
       "    <tr>\n",
       "      <th>328</th>\n",
       "      <td>New York Red Bulls</td>\n",
       "      <td>Kaku</td>\n",
       "      <td>NaN</td>\n",
       "      <td>M-F</td>\n",
       "      <td>799999.92</td>\n",
       "      <td>799999.92</td>\n",
       "    </tr>\n",
       "    <tr>\n",
       "      <th>469</th>\n",
       "      <td>Orlando City SC</td>\n",
       "      <td>Nani</td>\n",
       "      <td>NaN</td>\n",
       "      <td>M-F</td>\n",
       "      <td>2333333.04</td>\n",
       "      <td>2486249.70</td>\n",
       "    </tr>\n",
       "    <tr>\n",
       "      <th>559</th>\n",
       "      <td>Orlando City SC</td>\n",
       "      <td>Robinho</td>\n",
       "      <td>NaN</td>\n",
       "      <td>M-F</td>\n",
       "      <td>198000.00</td>\n",
       "      <td>205500.00</td>\n",
       "    </tr>\n",
       "  </tbody>\n",
       "</table>\n",
       "</div>"
      ],
      "text/plain": [
       "                     Club Last Name First Name Playing Position  \\\n",
       "45          Columbus Crew     Artur        NaN              D-M   \n",
       "51             Toronto FC      Auro        NaN                D   \n",
       "100             FC Dallas   Bressan        NaN                D   \n",
       "304    Philadelphia Union   Ilsinho        NaN                M   \n",
       "324  San Jose Earthquakes    Judson        NaN              D-M   \n",
       "326             LA Galaxy   Juninho        NaN                M   \n",
       "328    New York Red Bulls      Kaku        NaN              M-F   \n",
       "469       Orlando City SC      Nani        NaN              M-F   \n",
       "559       Orlando City SC   Robinho        NaN              M-F   \n",
       "\n",
       "     CY Salary (Annual)  CY Guaranteed Comp (Annual)  \n",
       "45            360000.00                    411633.33  \n",
       "51            225000.00                    276666.67  \n",
       "100           485300.04                    521931.29  \n",
       "304           330000.00                    357000.00  \n",
       "324           300000.00                    305000.00  \n",
       "326           150000.00                    163125.00  \n",
       "328           799999.92                    799999.92  \n",
       "469          2333333.04                   2486249.70  \n",
       "559           198000.00                    205500.00  "
      ]
     },
     "execution_count": 26,
     "metadata": {},
     "output_type": "execute_result"
    }
   ],
   "source": [
    "salary2019_df[salary2019_df['First Name'].isna()]"
   ]
  },
  {
   "cell_type": "code",
   "execution_count": 27,
   "id": "6497a975-3f9f-484e-a9ad-f538f20ebb23",
   "metadata": {},
   "outputs": [
    {
     "data": {
      "text/html": [
       "<div>\n",
       "<style scoped>\n",
       "    .dataframe tbody tr th:only-of-type {\n",
       "        vertical-align: middle;\n",
       "    }\n",
       "\n",
       "    .dataframe tbody tr th {\n",
       "        vertical-align: top;\n",
       "    }\n",
       "\n",
       "    .dataframe thead th {\n",
       "        text-align: right;\n",
       "    }\n",
       "</style>\n",
       "<table border=\"1\" class=\"dataframe\">\n",
       "  <thead>\n",
       "    <tr style=\"text-align: right;\">\n",
       "      <th></th>\n",
       "      <th>CY Salary (Annual)</th>\n",
       "      <th>CY Guaranteed Comp (Annual)</th>\n",
       "    </tr>\n",
       "  </thead>\n",
       "  <tbody>\n",
       "    <tr>\n",
       "      <th>count</th>\n",
       "      <td>7.140000e+02</td>\n",
       "      <td>7.140000e+02</td>\n",
       "    </tr>\n",
       "    <tr>\n",
       "      <th>mean</th>\n",
       "      <td>3.715375e+05</td>\n",
       "      <td>4.119960e+05</td>\n",
       "    </tr>\n",
       "    <tr>\n",
       "      <th>std</th>\n",
       "      <td>6.275161e+05</td>\n",
       "      <td>7.071375e+05</td>\n",
       "    </tr>\n",
       "    <tr>\n",
       "      <th>min</th>\n",
       "      <td>5.624460e+04</td>\n",
       "      <td>5.625000e+04</td>\n",
       "    </tr>\n",
       "    <tr>\n",
       "      <th>25%</th>\n",
       "      <td>7.087500e+04</td>\n",
       "      <td>7.756959e+04</td>\n",
       "    </tr>\n",
       "    <tr>\n",
       "      <th>50%</th>\n",
       "      <td>1.637500e+05</td>\n",
       "      <td>1.794980e+05</td>\n",
       "    </tr>\n",
       "    <tr>\n",
       "      <th>75%</th>\n",
       "      <td>4.537530e+05</td>\n",
       "      <td>4.985530e+05</td>\n",
       "    </tr>\n",
       "    <tr>\n",
       "      <th>max</th>\n",
       "      <td>7.200000e+06</td>\n",
       "      <td>7.200000e+06</td>\n",
       "    </tr>\n",
       "  </tbody>\n",
       "</table>\n",
       "</div>"
      ],
      "text/plain": [
       "       CY Salary (Annual)  CY Guaranteed Comp (Annual)\n",
       "count        7.140000e+02                 7.140000e+02\n",
       "mean         3.715375e+05                 4.119960e+05\n",
       "std          6.275161e+05                 7.071375e+05\n",
       "min          5.624460e+04                 5.625000e+04\n",
       "25%          7.087500e+04                 7.756959e+04\n",
       "50%          1.637500e+05                 1.794980e+05\n",
       "75%          4.537530e+05                 4.985530e+05\n",
       "max          7.200000e+06                 7.200000e+06"
      ]
     },
     "execution_count": 27,
     "metadata": {},
     "output_type": "execute_result"
    }
   ],
   "source": [
    "# Looks like the column names didnt get added here \n",
    "salary2019_df.describe()"
   ]
  },
  {
   "cell_type": "code",
   "execution_count": 28,
   "id": "212b958b-5f05-4d8d-a934-f2c517a025c9",
   "metadata": {},
   "outputs": [
    {
     "data": {
      "text/html": [
       "<div>\n",
       "<style scoped>\n",
       "    .dataframe tbody tr th:only-of-type {\n",
       "        vertical-align: middle;\n",
       "    }\n",
       "\n",
       "    .dataframe tbody tr th {\n",
       "        vertical-align: top;\n",
       "    }\n",
       "\n",
       "    .dataframe thead th {\n",
       "        text-align: right;\n",
       "    }\n",
       "</style>\n",
       "<table border=\"1\" class=\"dataframe\">\n",
       "  <thead>\n",
       "    <tr style=\"text-align: right;\">\n",
       "      <th></th>\n",
       "      <th>Club</th>\n",
       "      <th>Last Name</th>\n",
       "      <th>First Name</th>\n",
       "      <th>Pos</th>\n",
       "      <th>Salary</th>\n",
       "      <th>Compensation</th>\n",
       "    </tr>\n",
       "  </thead>\n",
       "  <tbody>\n",
       "    <tr>\n",
       "      <th>0</th>\n",
       "      <td>New York Red Bulls</td>\n",
       "      <td>Abang</td>\n",
       "      <td>Anatole</td>\n",
       "      <td>F</td>\n",
       "      <td>68927</td>\n",
       "      <td>68927</td>\n",
       "    </tr>\n",
       "    <tr>\n",
       "      <th>1</th>\n",
       "      <td>New York City FC</td>\n",
       "      <td>Abdul-Salaam</td>\n",
       "      <td>Saad</td>\n",
       "      <td>D</td>\n",
       "      <td>106480</td>\n",
       "      <td>120230</td>\n",
       "    </tr>\n",
       "    <tr>\n",
       "      <th>2</th>\n",
       "      <td>Columbus Crew</td>\n",
       "      <td>Abu</td>\n",
       "      <td>Mohammed</td>\n",
       "      <td>M</td>\n",
       "      <td>175008</td>\n",
       "      <td>181258</td>\n",
       "    </tr>\n",
       "    <tr>\n",
       "      <th>3</th>\n",
       "      <td>Columbus Crew</td>\n",
       "      <td>Abubakar</td>\n",
       "      <td>Lalas</td>\n",
       "      <td>D</td>\n",
       "      <td>68250.04</td>\n",
       "      <td>75750.04</td>\n",
       "    </tr>\n",
       "    <tr>\n",
       "      <th>4</th>\n",
       "      <td>Philadelphia Union</td>\n",
       "      <td>Accam</td>\n",
       "      <td>David</td>\n",
       "      <td>F-M</td>\n",
       "      <td>1250000.04</td>\n",
       "      <td>1250000.04</td>\n",
       "    </tr>\n",
       "  </tbody>\n",
       "</table>\n",
       "</div>"
      ],
      "text/plain": [
       "                 Club     Last Name First Name  Pos     Salary  Compensation \n",
       "0  New York Red Bulls         Abang    Anatole    F       68927         68927\n",
       "1    New York City FC  Abdul-Salaam       Saad    D      106480        120230\n",
       "2       Columbus Crew           Abu   Mohammed    M      175008        181258\n",
       "3       Columbus Crew      Abubakar      Lalas    D    68250.04      75750.04\n",
       "4  Philadelphia Union         Accam      David  F-M  1250000.04    1250000.04"
      ]
     },
     "execution_count": 28,
     "metadata": {},
     "output_type": "execute_result"
    }
   ],
   "source": [
    "# Again, difference in column names\n",
    "salary2018_df.head()"
   ]
  },
  {
   "cell_type": "code",
   "execution_count": 29,
   "id": "d22c6202-48f8-43bd-afee-a35aa3a84a9a",
   "metadata": {},
   "outputs": [
    {
     "name": "stdout",
     "output_type": "stream",
     "text": [
      "<class 'pandas.core.frame.DataFrame'>\n",
      "RangeIndex: 705 entries, 0 to 704\n",
      "Data columns (total 6 columns):\n",
      " #   Column         Non-Null Count  Dtype \n",
      "---  ------         --------------  ----- \n",
      " 0   Club           696 non-null    object\n",
      " 1   Last Name      705 non-null    object\n",
      " 2   First Name     704 non-null    object\n",
      " 3   Pos            705 non-null    object\n",
      " 4   Salary         705 non-null    object\n",
      " 5   Compensation   705 non-null    object\n",
      "dtypes: object(6)\n",
      "memory usage: 33.2+ KB\n"
     ]
    }
   ],
   "source": [
    "# one First name null\n",
    "salary2018_df.info()"
   ]
  },
  {
   "cell_type": "code",
   "execution_count": 30,
   "id": "99421109-37a2-467a-ae3f-2bcd836421e2",
   "metadata": {},
   "outputs": [
    {
     "data": {
      "text/html": [
       "<div>\n",
       "<style scoped>\n",
       "    .dataframe tbody tr th:only-of-type {\n",
       "        vertical-align: middle;\n",
       "    }\n",
       "\n",
       "    .dataframe tbody tr th {\n",
       "        vertical-align: top;\n",
       "    }\n",
       "\n",
       "    .dataframe thead th {\n",
       "        text-align: right;\n",
       "    }\n",
       "</style>\n",
       "<table border=\"1\" class=\"dataframe\">\n",
       "  <thead>\n",
       "    <tr style=\"text-align: right;\">\n",
       "      <th></th>\n",
       "      <th>Club</th>\n",
       "      <th>Last Name</th>\n",
       "      <th>First Name</th>\n",
       "      <th>Pos</th>\n",
       "      <th>Salary</th>\n",
       "      <th>Compensation</th>\n",
       "    </tr>\n",
       "  </thead>\n",
       "  <tbody>\n",
       "    <tr>\n",
       "      <th>count</th>\n",
       "      <td>696</td>\n",
       "      <td>705</td>\n",
       "      <td>704</td>\n",
       "      <td>705</td>\n",
       "      <td>705</td>\n",
       "      <td>705</td>\n",
       "    </tr>\n",
       "    <tr>\n",
       "      <th>unique</th>\n",
       "      <td>26</td>\n",
       "      <td>647</td>\n",
       "      <td>445</td>\n",
       "      <td>9</td>\n",
       "      <td>294</td>\n",
       "      <td>519</td>\n",
       "    </tr>\n",
       "    <tr>\n",
       "      <th>top</th>\n",
       "      <td>FC Dallas</td>\n",
       "      <td>Last Name</td>\n",
       "      <td>Chris</td>\n",
       "      <td>M</td>\n",
       "      <td>67500</td>\n",
       "      <td>67500</td>\n",
       "    </tr>\n",
       "    <tr>\n",
       "      <th>freq</th>\n",
       "      <td>34</td>\n",
       "      <td>11</td>\n",
       "      <td>15</td>\n",
       "      <td>230</td>\n",
       "      <td>72</td>\n",
       "      <td>49</td>\n",
       "    </tr>\n",
       "  </tbody>\n",
       "</table>\n",
       "</div>"
      ],
      "text/plain": [
       "             Club  Last Name First Name  Pos  Salary   Compensation \n",
       "count         696        705        704  705      705            705\n",
       "unique         26        647        445    9      294            519\n",
       "top     FC Dallas  Last Name      Chris    M    67500          67500\n",
       "freq           34         11         15  230       72             49"
      ]
     },
     "execution_count": 30,
     "metadata": {},
     "output_type": "execute_result"
    }
   ],
   "source": [
    "# Column names in data\n",
    "salary2018_df.describe()"
   ]
  },
  {
   "cell_type": "code",
   "execution_count": 31,
   "id": "9e79dae5-97c2-4115-b6c4-d32d051370ee",
   "metadata": {},
   "outputs": [
    {
     "data": {
      "text/html": [
       "<div>\n",
       "<style scoped>\n",
       "    .dataframe tbody tr th:only-of-type {\n",
       "        vertical-align: middle;\n",
       "    }\n",
       "\n",
       "    .dataframe tbody tr th {\n",
       "        vertical-align: top;\n",
       "    }\n",
       "\n",
       "    .dataframe thead th {\n",
       "        text-align: right;\n",
       "    }\n",
       "</style>\n",
       "<table border=\"1\" class=\"dataframe\">\n",
       "  <thead>\n",
       "    <tr style=\"text-align: right;\">\n",
       "      <th></th>\n",
       "      <th>Club</th>\n",
       "      <th>Last Name</th>\n",
       "      <th>First Name</th>\n",
       "      <th>Pos</th>\n",
       "      <th>Base Salary</th>\n",
       "      <th>Compensation</th>\n",
       "    </tr>\n",
       "  </thead>\n",
       "  <tbody>\n",
       "    <tr>\n",
       "      <th>0</th>\n",
       "      <td>NYRB</td>\n",
       "      <td>Abang</td>\n",
       "      <td>Anatole</td>\n",
       "      <td>F</td>\n",
       "      <td>65625</td>\n",
       "      <td>65625</td>\n",
       "    </tr>\n",
       "    <tr>\n",
       "      <th>1</th>\n",
       "      <td>KC</td>\n",
       "      <td>Abdul-Salaam</td>\n",
       "      <td>Saad</td>\n",
       "      <td>D</td>\n",
       "      <td>96800</td>\n",
       "      <td>110550</td>\n",
       "    </tr>\n",
       "    <tr>\n",
       "      <th>2</th>\n",
       "      <td>CLB</td>\n",
       "      <td>Abu</td>\n",
       "      <td>Mohammed</td>\n",
       "      <td>M</td>\n",
       "      <td>165000</td>\n",
       "      <td>171250</td>\n",
       "    </tr>\n",
       "    <tr>\n",
       "      <th>3</th>\n",
       "      <td>CLB</td>\n",
       "      <td>Abubakar</td>\n",
       "      <td>Alhassan \"Lalas\"</td>\n",
       "      <td>D</td>\n",
       "      <td>65000.04</td>\n",
       "      <td>72500.04</td>\n",
       "    </tr>\n",
       "    <tr>\n",
       "      <th>4</th>\n",
       "      <td>CHI</td>\n",
       "      <td>Accam</td>\n",
       "      <td>David</td>\n",
       "      <td>F-M</td>\n",
       "      <td>750000</td>\n",
       "      <td>820937.5</td>\n",
       "    </tr>\n",
       "  </tbody>\n",
       "</table>\n",
       "</div>"
      ],
      "text/plain": [
       "   Club     Last Name        First Name  Pos Base Salary Compensation\n",
       "0  NYRB         Abang           Anatole    F       65625        65625\n",
       "1    KC  Abdul-Salaam              Saad    D       96800       110550\n",
       "2   CLB           Abu          Mohammed    M      165000       171250\n",
       "3   CLB      Abubakar  Alhassan \"Lalas\"    D    65000.04     72500.04\n",
       "4   CHI         Accam             David  F-M      750000     820937.5"
      ]
     },
     "execution_count": 31,
     "metadata": {},
     "output_type": "execute_result"
    }
   ],
   "source": [
    "#difference in column names\n",
    "salary2017_df.head()"
   ]
  },
  {
   "cell_type": "code",
   "execution_count": 32,
   "id": "c7bf6c7a-0648-4ea3-9bb1-c88896979a5b",
   "metadata": {},
   "outputs": [
    {
     "name": "stdout",
     "output_type": "stream",
     "text": [
      "<class 'pandas.core.frame.DataFrame'>\n",
      "RangeIndex: 678 entries, 0 to 677\n",
      "Data columns (total 6 columns):\n",
      " #   Column        Non-Null Count  Dtype \n",
      "---  ------        --------------  ----- \n",
      " 0   Club          666 non-null    object\n",
      " 1   Last Name     666 non-null    object\n",
      " 2   First Name    661 non-null    object\n",
      " 3   Pos           666 non-null    object\n",
      " 4   Base Salary   678 non-null    object\n",
      " 5   Compensation  678 non-null    object\n",
      "dtypes: object(6)\n",
      "memory usage: 31.9+ KB\n"
     ]
    }
   ],
   "source": [
    "# First name and Last name nulls\n",
    "salary2017_df.info()"
   ]
  },
  {
   "cell_type": "code",
   "execution_count": 33,
   "id": "8fffa777-acd5-4ca4-9148-e6ba79e86d7e",
   "metadata": {},
   "outputs": [
    {
     "data": {
      "text/html": [
       "<div>\n",
       "<style scoped>\n",
       "    .dataframe tbody tr th:only-of-type {\n",
       "        vertical-align: middle;\n",
       "    }\n",
       "\n",
       "    .dataframe tbody tr th {\n",
       "        vertical-align: top;\n",
       "    }\n",
       "\n",
       "    .dataframe thead th {\n",
       "        text-align: right;\n",
       "    }\n",
       "</style>\n",
       "<table border=\"1\" class=\"dataframe\">\n",
       "  <thead>\n",
       "    <tr style=\"text-align: right;\">\n",
       "      <th></th>\n",
       "      <th>Club</th>\n",
       "      <th>Last Name</th>\n",
       "      <th>First Name</th>\n",
       "      <th>Pos</th>\n",
       "      <th>Base Salary</th>\n",
       "      <th>Compensation</th>\n",
       "    </tr>\n",
       "  </thead>\n",
       "  <tbody>\n",
       "    <tr>\n",
       "      <th>count</th>\n",
       "      <td>666</td>\n",
       "      <td>666</td>\n",
       "      <td>661</td>\n",
       "      <td>666</td>\n",
       "      <td>678</td>\n",
       "      <td>678</td>\n",
       "    </tr>\n",
       "    <tr>\n",
       "      <th>unique</th>\n",
       "      <td>25</td>\n",
       "      <td>604</td>\n",
       "      <td>406</td>\n",
       "      <td>11</td>\n",
       "      <td>268</td>\n",
       "      <td>457</td>\n",
       "    </tr>\n",
       "    <tr>\n",
       "      <th>top</th>\n",
       "      <td>VAN</td>\n",
       "      <td>Last Name</td>\n",
       "      <td>Chris</td>\n",
       "      <td>M</td>\n",
       "      <td>53004</td>\n",
       "      <td>53004</td>\n",
       "    </tr>\n",
       "    <tr>\n",
       "      <th>freq</th>\n",
       "      <td>34</td>\n",
       "      <td>12</td>\n",
       "      <td>14</td>\n",
       "      <td>227</td>\n",
       "      <td>52</td>\n",
       "      <td>43</td>\n",
       "    </tr>\n",
       "  </tbody>\n",
       "</table>\n",
       "</div>"
      ],
      "text/plain": [
       "       Club  Last Name First Name  Pos  Base Salary  Compensation\n",
       "count   666        666        661  666          678           678\n",
       "unique   25        604        406   11          268           457\n",
       "top     VAN  Last Name      Chris    M        53004         53004\n",
       "freq     34         12         14  227           52            43"
      ]
     },
     "execution_count": 33,
     "metadata": {},
     "output_type": "execute_result"
    }
   ],
   "source": [
    "#column names in data\n",
    "salary2017_df.describe()"
   ]
  },
  {
   "cell_type": "code",
   "execution_count": 34,
   "id": "d7d6dbeb-eb9e-4f90-a3fd-0e26428abb71",
   "metadata": {},
   "outputs": [
    {
     "data": {
      "text/html": [
       "<div>\n",
       "<style scoped>\n",
       "    .dataframe tbody tr th:only-of-type {\n",
       "        vertical-align: middle;\n",
       "    }\n",
       "\n",
       "    .dataframe tbody tr th {\n",
       "        vertical-align: top;\n",
       "    }\n",
       "\n",
       "    .dataframe thead th {\n",
       "        text-align: right;\n",
       "    }\n",
       "</style>\n",
       "<table border=\"1\" class=\"dataframe\">\n",
       "  <thead>\n",
       "    <tr style=\"text-align: right;\">\n",
       "      <th></th>\n",
       "      <th>Club</th>\n",
       "      <th>Last Name</th>\n",
       "      <th>First Name</th>\n",
       "      <th>Pos</th>\n",
       "      <th>Base Salary</th>\n",
       "      <th>Compensation</th>\n",
       "    </tr>\n",
       "  </thead>\n",
       "  <tbody>\n",
       "    <tr>\n",
       "      <th>0</th>\n",
       "      <td>NYRB</td>\n",
       "      <td>Abang</td>\n",
       "      <td>Anatole</td>\n",
       "      <td>F</td>\n",
       "      <td>62500</td>\n",
       "      <td>62500</td>\n",
       "    </tr>\n",
       "    <tr>\n",
       "      <th>1</th>\n",
       "      <td>KC</td>\n",
       "      <td>Abdul-Salaam</td>\n",
       "      <td>Saad</td>\n",
       "      <td>D</td>\n",
       "      <td>63000</td>\n",
       "      <td>76750</td>\n",
       "    </tr>\n",
       "    <tr>\n",
       "      <th>2</th>\n",
       "      <td>CHI</td>\n",
       "      <td>Accam</td>\n",
       "      <td>David</td>\n",
       "      <td>F-M</td>\n",
       "      <td>700000</td>\n",
       "      <td>770937.5</td>\n",
       "    </tr>\n",
       "    <tr>\n",
       "      <th>3</th>\n",
       "      <td>RSL</td>\n",
       "      <td>Acosta</td>\n",
       "      <td>Danilo</td>\n",
       "      <td>M</td>\n",
       "      <td>62500</td>\n",
       "      <td>62500</td>\n",
       "    </tr>\n",
       "    <tr>\n",
       "      <th>4</th>\n",
       "      <td>DAL</td>\n",
       "      <td>Acosta</td>\n",
       "      <td>Kellyn</td>\n",
       "      <td>M</td>\n",
       "      <td>220000</td>\n",
       "      <td>240000</td>\n",
       "    </tr>\n",
       "  </tbody>\n",
       "</table>\n",
       "</div>"
      ],
      "text/plain": [
       "   Club     Last Name First Name  Pos Base Salary Compensation\n",
       "0  NYRB         Abang    Anatole    F       62500        62500\n",
       "1    KC  Abdul-Salaam       Saad    D       63000        76750\n",
       "2   CHI         Accam      David  F-M      700000     770937.5\n",
       "3   RSL        Acosta     Danilo    M       62500        62500\n",
       "4   DAL        Acosta     Kellyn    M      220000       240000"
      ]
     },
     "execution_count": 34,
     "metadata": {},
     "output_type": "execute_result"
    }
   ],
   "source": [
    "salary2016_df.head()"
   ]
  },
  {
   "cell_type": "code",
   "execution_count": 35,
   "id": "136bc12a-b5b3-49f9-a1a0-68c4d5927d4d",
   "metadata": {},
   "outputs": [
    {
     "name": "stdout",
     "output_type": "stream",
     "text": [
      "<class 'pandas.core.frame.DataFrame'>\n",
      "RangeIndex: 608 entries, 0 to 607\n",
      "Data columns (total 6 columns):\n",
      " #   Column        Non-Null Count  Dtype \n",
      "---  ------        --------------  ----- \n",
      " 0   Club          592 non-null    object\n",
      " 1   Last Name     597 non-null    object\n",
      " 2   First Name    596 non-null    object\n",
      " 3   Pos           597 non-null    object\n",
      " 4   Base Salary   608 non-null    object\n",
      " 5   Compensation  608 non-null    object\n",
      "dtypes: object(6)\n",
      "memory usage: 28.6+ KB\n"
     ]
    }
   ],
   "source": [
    "# First and Last name nulls\n",
    "salary2016_df.info()"
   ]
  },
  {
   "cell_type": "code",
   "execution_count": 36,
   "id": "7db752e4-113e-4d0e-b980-498d9561e339",
   "metadata": {},
   "outputs": [
    {
     "data": {
      "text/html": [
       "<div>\n",
       "<style scoped>\n",
       "    .dataframe tbody tr th:only-of-type {\n",
       "        vertical-align: middle;\n",
       "    }\n",
       "\n",
       "    .dataframe tbody tr th {\n",
       "        vertical-align: top;\n",
       "    }\n",
       "\n",
       "    .dataframe thead th {\n",
       "        text-align: right;\n",
       "    }\n",
       "</style>\n",
       "<table border=\"1\" class=\"dataframe\">\n",
       "  <thead>\n",
       "    <tr style=\"text-align: right;\">\n",
       "      <th></th>\n",
       "      <th>Club</th>\n",
       "      <th>Last Name</th>\n",
       "      <th>First Name</th>\n",
       "      <th>Pos</th>\n",
       "      <th>Base Salary</th>\n",
       "      <th>Compensation</th>\n",
       "    </tr>\n",
       "  </thead>\n",
       "  <tbody>\n",
       "    <tr>\n",
       "      <th>count</th>\n",
       "      <td>592</td>\n",
       "      <td>597</td>\n",
       "      <td>596</td>\n",
       "      <td>597</td>\n",
       "      <td>608</td>\n",
       "      <td>608</td>\n",
       "    </tr>\n",
       "    <tr>\n",
       "      <th>unique</th>\n",
       "      <td>23</td>\n",
       "      <td>538</td>\n",
       "      <td>373</td>\n",
       "      <td>11</td>\n",
       "      <td>210</td>\n",
       "      <td>401</td>\n",
       "    </tr>\n",
       "    <tr>\n",
       "      <th>top</th>\n",
       "      <td>DC</td>\n",
       "      <td>Last Name</td>\n",
       "      <td>Chris</td>\n",
       "      <td>M</td>\n",
       "      <td>63000</td>\n",
       "      <td>63000</td>\n",
       "    </tr>\n",
       "    <tr>\n",
       "      <th>freq</th>\n",
       "      <td>31</td>\n",
       "      <td>11</td>\n",
       "      <td>14</td>\n",
       "      <td>195</td>\n",
       "      <td>39</td>\n",
       "      <td>31</td>\n",
       "    </tr>\n",
       "  </tbody>\n",
       "</table>\n",
       "</div>"
      ],
      "text/plain": [
       "       Club  Last Name First Name  Pos  Base Salary  Compensation\n",
       "count   592        597        596  597          608           608\n",
       "unique   23        538        373   11          210           401\n",
       "top      DC  Last Name      Chris    M        63000         63000\n",
       "freq     31         11         14  195           39            31"
      ]
     },
     "execution_count": 36,
     "metadata": {},
     "output_type": "execute_result"
    }
   ],
   "source": [
    "# column names in data\n",
    "salary2016_df.describe()"
   ]
  },
  {
   "cell_type": "code",
   "execution_count": 37,
   "id": "f3746559-9a22-4e33-9ba4-a71d1235e0ac",
   "metadata": {},
   "outputs": [
    {
     "data": {
      "text/html": [
       "<div>\n",
       "<style scoped>\n",
       "    .dataframe tbody tr th:only-of-type {\n",
       "        vertical-align: middle;\n",
       "    }\n",
       "\n",
       "    .dataframe tbody tr th {\n",
       "        vertical-align: top;\n",
       "    }\n",
       "\n",
       "    .dataframe thead th {\n",
       "        text-align: right;\n",
       "    }\n",
       "</style>\n",
       "<table border=\"1\" class=\"dataframe\">\n",
       "  <thead>\n",
       "    <tr style=\"text-align: right;\">\n",
       "      <th></th>\n",
       "      <th>Club</th>\n",
       "      <th>Last Name</th>\n",
       "      <th>First Name</th>\n",
       "      <th>Pos</th>\n",
       "      <th>Base Salary</th>\n",
       "      <th>Compensation</th>\n",
       "    </tr>\n",
       "  </thead>\n",
       "  <tbody>\n",
       "    <tr>\n",
       "      <th>0</th>\n",
       "      <td>NY</td>\n",
       "      <td>Abang</td>\n",
       "      <td>Anatole</td>\n",
       "      <td>F</td>\n",
       "      <td>50000</td>\n",
       "      <td>50000</td>\n",
       "    </tr>\n",
       "    <tr>\n",
       "      <th>1</th>\n",
       "      <td>KC</td>\n",
       "      <td>Abdul-Salaam</td>\n",
       "      <td>Saad</td>\n",
       "      <td>D</td>\n",
       "      <td>60000</td>\n",
       "      <td>73750</td>\n",
       "    </tr>\n",
       "    <tr>\n",
       "      <th>2</th>\n",
       "      <td>CHI</td>\n",
       "      <td>Accam</td>\n",
       "      <td>David</td>\n",
       "      <td>F</td>\n",
       "      <td>650000</td>\n",
       "      <td>720937.5</td>\n",
       "    </tr>\n",
       "    <tr>\n",
       "      <th>3</th>\n",
       "      <td>DAL</td>\n",
       "      <td>Acosta</td>\n",
       "      <td>Kellyn</td>\n",
       "      <td>M</td>\n",
       "      <td>60000</td>\n",
       "      <td>84000</td>\n",
       "    </tr>\n",
       "    <tr>\n",
       "      <th>4</th>\n",
       "      <td>VAN</td>\n",
       "      <td>Adekugbe</td>\n",
       "      <td>Samuel</td>\n",
       "      <td>D</td>\n",
       "      <td>60000</td>\n",
       "      <td>65000</td>\n",
       "    </tr>\n",
       "  </tbody>\n",
       "</table>\n",
       "</div>"
      ],
      "text/plain": [
       "  Club     Last Name First Name Pos Base Salary Compensation\n",
       "0   NY         Abang    Anatole   F       50000        50000\n",
       "1   KC  Abdul-Salaam       Saad   D       60000        73750\n",
       "2  CHI         Accam      David   F      650000     720937.5\n",
       "3  DAL        Acosta     Kellyn   M       60000        84000\n",
       "4  VAN      Adekugbe     Samuel   D       60000        65000"
      ]
     },
     "execution_count": 37,
     "metadata": {},
     "output_type": "execute_result"
    }
   ],
   "source": [
    "salary2015_df.head()"
   ]
  },
  {
   "cell_type": "code",
   "execution_count": 38,
   "id": "92bbbf3d-66cd-49ff-b11d-fc1d05c70ad3",
   "metadata": {},
   "outputs": [
    {
     "name": "stdout",
     "output_type": "stream",
     "text": [
      "<class 'pandas.core.frame.DataFrame'>\n",
      "RangeIndex: 594 entries, 0 to 593\n",
      "Data columns (total 6 columns):\n",
      " #   Column        Non-Null Count  Dtype \n",
      "---  ------        --------------  ----- \n",
      " 0   Club          580 non-null    object\n",
      " 1   Last Name     584 non-null    object\n",
      " 2   First Name    580 non-null    object\n",
      " 3   Pos           583 non-null    object\n",
      " 4   Base Salary   594 non-null    object\n",
      " 5   Compensation  594 non-null    object\n",
      "dtypes: object(6)\n",
      "memory usage: 28.0+ KB\n"
     ]
    }
   ],
   "source": [
    "# First and last name nulls\n",
    "salary2015_df.info()"
   ]
  },
  {
   "cell_type": "code",
   "execution_count": 39,
   "id": "f57c3ecd-54e1-4a50-b49c-d82bd2e873d2",
   "metadata": {},
   "outputs": [
    {
     "data": {
      "text/html": [
       "<div>\n",
       "<style scoped>\n",
       "    .dataframe tbody tr th:only-of-type {\n",
       "        vertical-align: middle;\n",
       "    }\n",
       "\n",
       "    .dataframe tbody tr th {\n",
       "        vertical-align: top;\n",
       "    }\n",
       "\n",
       "    .dataframe thead th {\n",
       "        text-align: right;\n",
       "    }\n",
       "</style>\n",
       "<table border=\"1\" class=\"dataframe\">\n",
       "  <thead>\n",
       "    <tr style=\"text-align: right;\">\n",
       "      <th></th>\n",
       "      <th>Club</th>\n",
       "      <th>Last Name</th>\n",
       "      <th>First Name</th>\n",
       "      <th>Pos</th>\n",
       "      <th>Base Salary</th>\n",
       "      <th>Compensation</th>\n",
       "    </tr>\n",
       "  </thead>\n",
       "  <tbody>\n",
       "    <tr>\n",
       "      <th>count</th>\n",
       "      <td>580</td>\n",
       "      <td>584</td>\n",
       "      <td>580</td>\n",
       "      <td>583</td>\n",
       "      <td>594</td>\n",
       "      <td>594</td>\n",
       "    </tr>\n",
       "    <tr>\n",
       "      <th>unique</th>\n",
       "      <td>22</td>\n",
       "      <td>533</td>\n",
       "      <td>372</td>\n",
       "      <td>15</td>\n",
       "      <td>175</td>\n",
       "      <td>353</td>\n",
       "    </tr>\n",
       "    <tr>\n",
       "      <th>top</th>\n",
       "      <td>SEA</td>\n",
       "      <td>Last Name</td>\n",
       "      <td>Chris</td>\n",
       "      <td>M</td>\n",
       "      <td>60000</td>\n",
       "      <td>60000</td>\n",
       "    </tr>\n",
       "    <tr>\n",
       "      <th>freq</th>\n",
       "      <td>32</td>\n",
       "      <td>10</td>\n",
       "      <td>13</td>\n",
       "      <td>198</td>\n",
       "      <td>149</td>\n",
       "      <td>93</td>\n",
       "    </tr>\n",
       "  </tbody>\n",
       "</table>\n",
       "</div>"
      ],
      "text/plain": [
       "       Club  Last Name First Name  Pos  Base Salary  Compensation\n",
       "count   580        584        580  583          594           594\n",
       "unique   22        533        372   15          175           353\n",
       "top     SEA  Last Name      Chris    M        60000         60000\n",
       "freq     32         10         13  198          149            93"
      ]
     },
     "execution_count": 39,
     "metadata": {},
     "output_type": "execute_result"
    }
   ],
   "source": [
    "# column names in data\n",
    "salary2015_df.describe()"
   ]
  },
  {
   "cell_type": "code",
   "execution_count": 40,
   "id": "e1d0c9b2-056f-44c7-be6f-e8af73fd7389",
   "metadata": {},
   "outputs": [
    {
     "data": {
      "text/html": [
       "<div>\n",
       "<style scoped>\n",
       "    .dataframe tbody tr th:only-of-type {\n",
       "        vertical-align: middle;\n",
       "    }\n",
       "\n",
       "    .dataframe tbody tr th {\n",
       "        vertical-align: top;\n",
       "    }\n",
       "\n",
       "    .dataframe thead th {\n",
       "        text-align: right;\n",
       "    }\n",
       "</style>\n",
       "<table border=\"1\" class=\"dataframe\">\n",
       "  <thead>\n",
       "    <tr style=\"text-align: right;\">\n",
       "      <th></th>\n",
       "      <th>Club</th>\n",
       "      <th>Last Name</th>\n",
       "      <th>First Name</th>\n",
       "      <th>Pos</th>\n",
       "      <th>Base Salary</th>\n",
       "      <th>Compensation</th>\n",
       "    </tr>\n",
       "  </thead>\n",
       "  <tbody>\n",
       "    <tr>\n",
       "      <th>0</th>\n",
       "      <td>DAL</td>\n",
       "      <td>Acosta</td>\n",
       "      <td>Kellyn</td>\n",
       "      <td>M</td>\n",
       "      <td>55000</td>\n",
       "      <td>79000</td>\n",
       "    </tr>\n",
       "    <tr>\n",
       "      <th>1</th>\n",
       "      <td>VAN</td>\n",
       "      <td>Adekugbe</td>\n",
       "      <td>Samuel</td>\n",
       "      <td>D</td>\n",
       "      <td>50000</td>\n",
       "      <td>55000</td>\n",
       "    </tr>\n",
       "    <tr>\n",
       "      <th>2</th>\n",
       "      <td>POR</td>\n",
       "      <td>Adi</td>\n",
       "      <td>Fanendo</td>\n",
       "      <td>F</td>\n",
       "      <td>580800</td>\n",
       "      <td>593300</td>\n",
       "    </tr>\n",
       "    <tr>\n",
       "      <th>3</th>\n",
       "      <td>COL</td>\n",
       "      <td>Agbossoumonde</td>\n",
       "      <td>Gale</td>\n",
       "      <td>D</td>\n",
       "      <td>48825</td>\n",
       "      <td>55491.67</td>\n",
       "    </tr>\n",
       "    <tr>\n",
       "      <th>4</th>\n",
       "      <td>DAL</td>\n",
       "      <td>Akindele</td>\n",
       "      <td>Tesho</td>\n",
       "      <td>F</td>\n",
       "      <td>48500</td>\n",
       "      <td>48500</td>\n",
       "    </tr>\n",
       "  </tbody>\n",
       "</table>\n",
       "</div>"
      ],
      "text/plain": [
       "  Club      Last Name First Name Pos Base Salary Compensation\n",
       "0  DAL         Acosta     Kellyn   M       55000        79000\n",
       "1  VAN       Adekugbe     Samuel   D       50000        55000\n",
       "2  POR            Adi    Fanendo   F      580800       593300\n",
       "3  COL  Agbossoumonde       Gale   D       48825     55491.67\n",
       "4  DAL       Akindele      Tesho   F       48500        48500"
      ]
     },
     "execution_count": 40,
     "metadata": {},
     "output_type": "execute_result"
    }
   ],
   "source": [
    "salary2014_df.head()"
   ]
  },
  {
   "cell_type": "code",
   "execution_count": 41,
   "id": "600ea26f-82a3-434e-a321-099813f42d90",
   "metadata": {},
   "outputs": [
    {
     "name": "stdout",
     "output_type": "stream",
     "text": [
      "<class 'pandas.core.frame.DataFrame'>\n",
      "RangeIndex: 592 entries, 0 to 591\n",
      "Data columns (total 6 columns):\n",
      " #   Column        Non-Null Count  Dtype \n",
      "---  ------        --------------  ----- \n",
      " 0   Club          579 non-null    object\n",
      " 1   Last Name     582 non-null    object\n",
      " 2   First Name    578 non-null    object\n",
      " 3   Pos           582 non-null    object\n",
      " 4   Base Salary   592 non-null    object\n",
      " 5   Compensation  592 non-null    object\n",
      "dtypes: object(6)\n",
      "memory usage: 27.9+ KB\n"
     ]
    }
   ],
   "source": [
    "# First and last name nulls\n",
    "salary2014_df.info()"
   ]
  },
  {
   "cell_type": "code",
   "execution_count": 42,
   "id": "addfee61-c56e-4e2f-aee8-f7a4a77b0420",
   "metadata": {},
   "outputs": [
    {
     "data": {
      "text/html": [
       "<div>\n",
       "<style scoped>\n",
       "    .dataframe tbody tr th:only-of-type {\n",
       "        vertical-align: middle;\n",
       "    }\n",
       "\n",
       "    .dataframe tbody tr th {\n",
       "        vertical-align: top;\n",
       "    }\n",
       "\n",
       "    .dataframe thead th {\n",
       "        text-align: right;\n",
       "    }\n",
       "</style>\n",
       "<table border=\"1\" class=\"dataframe\">\n",
       "  <thead>\n",
       "    <tr style=\"text-align: right;\">\n",
       "      <th></th>\n",
       "      <th>Club</th>\n",
       "      <th>Last Name</th>\n",
       "      <th>First Name</th>\n",
       "      <th>Pos</th>\n",
       "      <th>Base Salary</th>\n",
       "      <th>Compensation</th>\n",
       "    </tr>\n",
       "  </thead>\n",
       "  <tbody>\n",
       "    <tr>\n",
       "      <th>count</th>\n",
       "      <td>579</td>\n",
       "      <td>582</td>\n",
       "      <td>578</td>\n",
       "      <td>582</td>\n",
       "      <td>592</td>\n",
       "      <td>592</td>\n",
       "    </tr>\n",
       "    <tr>\n",
       "      <th>unique</th>\n",
       "      <td>23</td>\n",
       "      <td>530</td>\n",
       "      <td>358</td>\n",
       "      <td>15</td>\n",
       "      <td>178</td>\n",
       "      <td>365</td>\n",
       "    </tr>\n",
       "    <tr>\n",
       "      <th>top</th>\n",
       "      <td>MTL</td>\n",
       "      <td>Last Name</td>\n",
       "      <td>Chris</td>\n",
       "      <td>M</td>\n",
       "      <td>48500</td>\n",
       "      <td>48500</td>\n",
       "    </tr>\n",
       "    <tr>\n",
       "      <th>freq</th>\n",
       "      <td>32</td>\n",
       "      <td>10</td>\n",
       "      <td>13</td>\n",
       "      <td>181</td>\n",
       "      <td>49</td>\n",
       "      <td>35</td>\n",
       "    </tr>\n",
       "  </tbody>\n",
       "</table>\n",
       "</div>"
      ],
      "text/plain": [
       "       Club  Last Name First Name  Pos  Base Salary  Compensation\n",
       "count   579        582        578  582          592           592\n",
       "unique   23        530        358   15          178           365\n",
       "top     MTL  Last Name      Chris    M        48500         48500\n",
       "freq     32         10         13  181           49            35"
      ]
     },
     "execution_count": 42,
     "metadata": {},
     "output_type": "execute_result"
    }
   ],
   "source": [
    "# columns names in data\n",
    "salary2014_df.describe()"
   ]
  },
  {
   "cell_type": "code",
   "execution_count": 43,
   "id": "6aa58ec3-406c-4e18-bb42-f478ad19423b",
   "metadata": {
    "scrolled": true
   },
   "outputs": [
    {
     "data": {
      "text/html": [
       "<div>\n",
       "<style scoped>\n",
       "    .dataframe tbody tr th:only-of-type {\n",
       "        vertical-align: middle;\n",
       "    }\n",
       "\n",
       "    .dataframe tbody tr th {\n",
       "        vertical-align: top;\n",
       "    }\n",
       "\n",
       "    .dataframe thead th {\n",
       "        text-align: right;\n",
       "    }\n",
       "</style>\n",
       "<table border=\"1\" class=\"dataframe\">\n",
       "  <thead>\n",
       "    <tr style=\"text-align: right;\">\n",
       "      <th></th>\n",
       "      <th>Club</th>\n",
       "      <th>Last Name</th>\n",
       "      <th>First Name</th>\n",
       "      <th>Pos</th>\n",
       "      <th>Base Salary</th>\n",
       "      <th>Compensation</th>\n",
       "    </tr>\n",
       "  </thead>\n",
       "  <tbody>\n",
       "    <tr>\n",
       "      <th>0</th>\n",
       "      <td>VAN</td>\n",
       "      <td>Abdallah</td>\n",
       "      <td>Aminu</td>\n",
       "      <td>M</td>\n",
       "      <td>46500</td>\n",
       "      <td>46500</td>\n",
       "    </tr>\n",
       "    <tr>\n",
       "      <th>1</th>\n",
       "      <td>DAL</td>\n",
       "      <td>Acosta</td>\n",
       "      <td>Kellyn</td>\n",
       "      <td>M</td>\n",
       "      <td>46500</td>\n",
       "      <td>70500</td>\n",
       "    </tr>\n",
       "    <tr>\n",
       "      <th>2</th>\n",
       "      <td>VAN</td>\n",
       "      <td>Adekugbe</td>\n",
       "      <td>Samuel</td>\n",
       "      <td>D</td>\n",
       "      <td>46500</td>\n",
       "      <td>51500</td>\n",
       "    </tr>\n",
       "    <tr>\n",
       "      <th>3</th>\n",
       "      <td>TOR</td>\n",
       "      <td>Agbossoumonde</td>\n",
       "      <td>Gale</td>\n",
       "      <td>D</td>\n",
       "      <td>46500</td>\n",
       "      <td>53166.67</td>\n",
       "    </tr>\n",
       "    <tr>\n",
       "      <th>4</th>\n",
       "      <td>NE</td>\n",
       "      <td>Agudelo</td>\n",
       "      <td>Juan</td>\n",
       "      <td>F</td>\n",
       "      <td>145000</td>\n",
       "      <td>175000</td>\n",
       "    </tr>\n",
       "  </tbody>\n",
       "</table>\n",
       "</div>"
      ],
      "text/plain": [
       "  Club      Last Name First Name Pos Base Salary Compensation\n",
       "0  VAN       Abdallah      Aminu   M       46500        46500\n",
       "1  DAL         Acosta     Kellyn   M       46500        70500\n",
       "2  VAN       Adekugbe     Samuel   D       46500        51500\n",
       "3  TOR  Agbossoumonde       Gale   D       46500     53166.67\n",
       "4   NE        Agudelo       Juan   F      145000       175000"
      ]
     },
     "execution_count": 43,
     "metadata": {},
     "output_type": "execute_result"
    }
   ],
   "source": [
    "salary2013_df.head()"
   ]
  },
  {
   "cell_type": "code",
   "execution_count": 44,
   "id": "3fce4fb4-c14d-4aa9-b80f-93a3f30b4fdb",
   "metadata": {},
   "outputs": [
    {
     "name": "stdout",
     "output_type": "stream",
     "text": [
      "<class 'pandas.core.frame.DataFrame'>\n",
      "RangeIndex: 596 entries, 0 to 595\n",
      "Data columns (total 6 columns):\n",
      " #   Column        Non-Null Count  Dtype \n",
      "---  ------        --------------  ----- \n",
      " 0   Club          583 non-null    object\n",
      " 1   Last Name     586 non-null    object\n",
      " 2   First Name    584 non-null    object\n",
      " 3   Pos           586 non-null    object\n",
      " 4   Base Salary   596 non-null    object\n",
      " 5   Compensation  596 non-null    object\n",
      "dtypes: object(6)\n",
      "memory usage: 28.1+ KB\n"
     ]
    }
   ],
   "source": [
    "# First and last name nulls\n",
    "salary2013_df.info()"
   ]
  },
  {
   "cell_type": "code",
   "execution_count": 45,
   "id": "15aae87b-02b2-48c6-ac34-cb2275e160d9",
   "metadata": {},
   "outputs": [
    {
     "data": {
      "text/html": [
       "<div>\n",
       "<style scoped>\n",
       "    .dataframe tbody tr th:only-of-type {\n",
       "        vertical-align: middle;\n",
       "    }\n",
       "\n",
       "    .dataframe tbody tr th {\n",
       "        vertical-align: top;\n",
       "    }\n",
       "\n",
       "    .dataframe thead th {\n",
       "        text-align: right;\n",
       "    }\n",
       "</style>\n",
       "<table border=\"1\" class=\"dataframe\">\n",
       "  <thead>\n",
       "    <tr style=\"text-align: right;\">\n",
       "      <th></th>\n",
       "      <th>Club</th>\n",
       "      <th>Last Name</th>\n",
       "      <th>First Name</th>\n",
       "      <th>Pos</th>\n",
       "      <th>Base Salary</th>\n",
       "      <th>Compensation</th>\n",
       "    </tr>\n",
       "  </thead>\n",
       "  <tbody>\n",
       "    <tr>\n",
       "      <th>count</th>\n",
       "      <td>583</td>\n",
       "      <td>586</td>\n",
       "      <td>584</td>\n",
       "      <td>586</td>\n",
       "      <td>596</td>\n",
       "      <td>596</td>\n",
       "    </tr>\n",
       "    <tr>\n",
       "      <th>unique</th>\n",
       "      <td>21</td>\n",
       "      <td>530</td>\n",
       "      <td>373</td>\n",
       "      <td>15</td>\n",
       "      <td>191</td>\n",
       "      <td>369</td>\n",
       "    </tr>\n",
       "    <tr>\n",
       "      <th>top</th>\n",
       "      <td>CHI</td>\n",
       "      <td>Last Name</td>\n",
       "      <td>Michael</td>\n",
       "      <td>M</td>\n",
       "      <td>46500</td>\n",
       "      <td>46500</td>\n",
       "    </tr>\n",
       "    <tr>\n",
       "      <th>freq</th>\n",
       "      <td>33</td>\n",
       "      <td>10</td>\n",
       "      <td>12</td>\n",
       "      <td>192</td>\n",
       "      <td>104</td>\n",
       "      <td>76</td>\n",
       "    </tr>\n",
       "  </tbody>\n",
       "</table>\n",
       "</div>"
      ],
      "text/plain": [
       "       Club  Last Name First Name  Pos  Base Salary  Compensation\n",
       "count   583        586        584  586          596           596\n",
       "unique   21        530        373   15          191           369\n",
       "top     CHI  Last Name    Michael    M        46500         46500\n",
       "freq     33         10         12  192          104            76"
      ]
     },
     "execution_count": 45,
     "metadata": {},
     "output_type": "execute_result"
    }
   ],
   "source": [
    "# column names in data\n",
    "salary2013_df.describe()"
   ]
  },
  {
   "cell_type": "code",
   "execution_count": 46,
   "id": "b487f5d7-ba3f-4190-a5d2-b519185aa529",
   "metadata": {},
   "outputs": [
    {
     "data": {
      "text/html": [
       "<div>\n",
       "<style scoped>\n",
       "    .dataframe tbody tr th:only-of-type {\n",
       "        vertical-align: middle;\n",
       "    }\n",
       "\n",
       "    .dataframe tbody tr th {\n",
       "        vertical-align: top;\n",
       "    }\n",
       "\n",
       "    .dataframe thead th {\n",
       "        text-align: right;\n",
       "    }\n",
       "</style>\n",
       "<table border=\"1\" class=\"dataframe\">\n",
       "  <thead>\n",
       "    <tr style=\"text-align: right;\">\n",
       "      <th></th>\n",
       "      <th>Club</th>\n",
       "      <th>Last Name</th>\n",
       "      <th>First Name</th>\n",
       "      <th>Pos</th>\n",
       "      <th>Base Salary</th>\n",
       "      <th>Compensation</th>\n",
       "    </tr>\n",
       "  </thead>\n",
       "  <tbody>\n",
       "    <tr>\n",
       "      <th>0</th>\n",
       "      <td>PHI</td>\n",
       "      <td>Adu</td>\n",
       "      <td>Freddy</td>\n",
       "      <td>M</td>\n",
       "      <td>400000</td>\n",
       "      <td>519000</td>\n",
       "    </tr>\n",
       "    <tr>\n",
       "      <th>1</th>\n",
       "      <td>CHV</td>\n",
       "      <td>Agudelo</td>\n",
       "      <td>Juan</td>\n",
       "      <td>F</td>\n",
       "      <td>70000</td>\n",
       "      <td>100000</td>\n",
       "    </tr>\n",
       "    <tr>\n",
       "      <th>2</th>\n",
       "      <td>KC</td>\n",
       "      <td>Aiyegbusi</td>\n",
       "      <td>Olukorede</td>\n",
       "      <td>D</td>\n",
       "      <td>44100</td>\n",
       "      <td>44100</td>\n",
       "    </tr>\n",
       "    <tr>\n",
       "      <th>3</th>\n",
       "      <td>COL</td>\n",
       "      <td>Akpan</td>\n",
       "      <td>Andre</td>\n",
       "      <td>F</td>\n",
       "      <td>57200</td>\n",
       "      <td>57200</td>\n",
       "    </tr>\n",
       "    <tr>\n",
       "      <th>4</th>\n",
       "      <td>PHI</td>\n",
       "      <td>Albright</td>\n",
       "      <td>Chris</td>\n",
       "      <td>D</td>\n",
       "      <td>55000</td>\n",
       "      <td>55000</td>\n",
       "    </tr>\n",
       "  </tbody>\n",
       "</table>\n",
       "</div>"
      ],
      "text/plain": [
       "  Club  Last Name First Name Pos Base Salary Compensation\n",
       "0  PHI        Adu     Freddy   M      400000       519000\n",
       "1  CHV    Agudelo       Juan   F       70000       100000\n",
       "2   KC  Aiyegbusi  Olukorede   D       44100        44100\n",
       "3  COL      Akpan      Andre   F       57200        57200\n",
       "4  PHI   Albright      Chris   D       55000        55000"
      ]
     },
     "execution_count": 46,
     "metadata": {},
     "output_type": "execute_result"
    }
   ],
   "source": [
    "salary2012_df.head()"
   ]
  },
  {
   "cell_type": "code",
   "execution_count": 47,
   "id": "5c0b9d51-c196-4a87-8a9b-8b924f26d851",
   "metadata": {},
   "outputs": [
    {
     "name": "stdout",
     "output_type": "stream",
     "text": [
      "<class 'pandas.core.frame.DataFrame'>\n",
      "RangeIndex: 574 entries, 0 to 573\n",
      "Data columns (total 6 columns):\n",
      " #   Column        Non-Null Count  Dtype \n",
      "---  ------        --------------  ----- \n",
      " 0   Club          562 non-null    object\n",
      " 1   Last Name     564 non-null    object\n",
      " 2   First Name    562 non-null    object\n",
      " 3   Pos           564 non-null    object\n",
      " 4   Base Salary   574 non-null    object\n",
      " 5   Compensation  574 non-null    object\n",
      "dtypes: object(6)\n",
      "memory usage: 27.0+ KB\n"
     ]
    }
   ],
   "source": [
    "#First and last name nulls\n",
    "salary2012_df.info()"
   ]
  },
  {
   "cell_type": "code",
   "execution_count": 48,
   "id": "7f6de211-fa4b-4f7c-9913-a83e98fbe18f",
   "metadata": {},
   "outputs": [
    {
     "data": {
      "text/html": [
       "<div>\n",
       "<style scoped>\n",
       "    .dataframe tbody tr th:only-of-type {\n",
       "        vertical-align: middle;\n",
       "    }\n",
       "\n",
       "    .dataframe tbody tr th {\n",
       "        vertical-align: top;\n",
       "    }\n",
       "\n",
       "    .dataframe thead th {\n",
       "        text-align: right;\n",
       "    }\n",
       "</style>\n",
       "<table border=\"1\" class=\"dataframe\">\n",
       "  <thead>\n",
       "    <tr style=\"text-align: right;\">\n",
       "      <th></th>\n",
       "      <th>Club</th>\n",
       "      <th>Last Name</th>\n",
       "      <th>First Name</th>\n",
       "      <th>Pos</th>\n",
       "      <th>Base Salary</th>\n",
       "      <th>Compensation</th>\n",
       "    </tr>\n",
       "  </thead>\n",
       "  <tbody>\n",
       "    <tr>\n",
       "      <th>count</th>\n",
       "      <td>562</td>\n",
       "      <td>564</td>\n",
       "      <td>562</td>\n",
       "      <td>564</td>\n",
       "      <td>574</td>\n",
       "      <td>574</td>\n",
       "    </tr>\n",
       "    <tr>\n",
       "      <th>unique</th>\n",
       "      <td>22</td>\n",
       "      <td>515</td>\n",
       "      <td>352</td>\n",
       "      <td>14</td>\n",
       "      <td>176</td>\n",
       "      <td>367</td>\n",
       "    </tr>\n",
       "    <tr>\n",
       "      <th>top</th>\n",
       "      <td>POR</td>\n",
       "      <td>Last Name</td>\n",
       "      <td>Chris</td>\n",
       "      <td>M</td>\n",
       "      <td>44000</td>\n",
       "      <td>33750</td>\n",
       "    </tr>\n",
       "    <tr>\n",
       "      <th>freq</th>\n",
       "      <td>32</td>\n",
       "      <td>10</td>\n",
       "      <td>13</td>\n",
       "      <td>188</td>\n",
       "      <td>53</td>\n",
       "      <td>39</td>\n",
       "    </tr>\n",
       "  </tbody>\n",
       "</table>\n",
       "</div>"
      ],
      "text/plain": [
       "       Club  Last Name First Name  Pos  Base Salary  Compensation\n",
       "count   562        564        562  564          574           574\n",
       "unique   22        515        352   14          176           367\n",
       "top     POR  Last Name      Chris    M        44000         33750\n",
       "freq     32         10         13  188           53            39"
      ]
     },
     "execution_count": 48,
     "metadata": {},
     "output_type": "execute_result"
    }
   ],
   "source": [
    "# Column names in data\n",
    "salary2012_df.describe()"
   ]
  },
  {
   "cell_type": "markdown",
   "id": "12784524-b14c-4470-aae4-74c0262fae9e",
   "metadata": {},
   "source": [
    "There are quite a few issues to tackle in these dataframes. Here I identified an issue where despite the appearance of the column name, running code based on that name did nothing. "
   ]
  },
  {
   "cell_type": "code",
   "execution_count": 49,
   "id": "16537174-fe45-45d3-b94a-bc5a5c487454",
   "metadata": {},
   "outputs": [
    {
     "data": {
      "text/html": [
       "<div>\n",
       "<style scoped>\n",
       "    .dataframe tbody tr th:only-of-type {\n",
       "        vertical-align: middle;\n",
       "    }\n",
       "\n",
       "    .dataframe tbody tr th {\n",
       "        vertical-align: top;\n",
       "    }\n",
       "\n",
       "    .dataframe thead th {\n",
       "        text-align: right;\n",
       "    }\n",
       "</style>\n",
       "<table border=\"1\" class=\"dataframe\">\n",
       "  <thead>\n",
       "    <tr style=\"text-align: right;\">\n",
       "      <th></th>\n",
       "      <th>Club</th>\n",
       "      <th>Last Name</th>\n",
       "      <th>First Name</th>\n",
       "      <th>Pos</th>\n",
       "      <th>Salary</th>\n",
       "      <th>Compensation</th>\n",
       "    </tr>\n",
       "  </thead>\n",
       "  <tbody>\n",
       "    <tr>\n",
       "      <th>0</th>\n",
       "      <td>New York Red Bulls</td>\n",
       "      <td>Abang</td>\n",
       "      <td>Anatole</td>\n",
       "      <td>F</td>\n",
       "      <td>68927</td>\n",
       "      <td>68927</td>\n",
       "    </tr>\n",
       "    <tr>\n",
       "      <th>1</th>\n",
       "      <td>New York City FC</td>\n",
       "      <td>Abdul-Salaam</td>\n",
       "      <td>Saad</td>\n",
       "      <td>D</td>\n",
       "      <td>106480</td>\n",
       "      <td>120230</td>\n",
       "    </tr>\n",
       "    <tr>\n",
       "      <th>2</th>\n",
       "      <td>Columbus Crew</td>\n",
       "      <td>Abu</td>\n",
       "      <td>Mohammed</td>\n",
       "      <td>M</td>\n",
       "      <td>175008</td>\n",
       "      <td>181258</td>\n",
       "    </tr>\n",
       "    <tr>\n",
       "      <th>3</th>\n",
       "      <td>Columbus Crew</td>\n",
       "      <td>Abubakar</td>\n",
       "      <td>Lalas</td>\n",
       "      <td>D</td>\n",
       "      <td>68250.04</td>\n",
       "      <td>75750.04</td>\n",
       "    </tr>\n",
       "    <tr>\n",
       "      <th>4</th>\n",
       "      <td>Philadelphia Union</td>\n",
       "      <td>Accam</td>\n",
       "      <td>David</td>\n",
       "      <td>F-M</td>\n",
       "      <td>1250000.04</td>\n",
       "      <td>1250000.04</td>\n",
       "    </tr>\n",
       "    <tr>\n",
       "      <th>...</th>\n",
       "      <td>...</td>\n",
       "      <td>...</td>\n",
       "      <td>...</td>\n",
       "      <td>...</td>\n",
       "      <td>...</td>\n",
       "      <td>...</td>\n",
       "    </tr>\n",
       "    <tr>\n",
       "      <th>700</th>\n",
       "      <td>FC Dallas</td>\n",
       "      <td>Ziegler</td>\n",
       "      <td>Reto</td>\n",
       "      <td>D</td>\n",
       "      <td>750000</td>\n",
       "      <td>800000</td>\n",
       "    </tr>\n",
       "    <tr>\n",
       "      <th>701</th>\n",
       "      <td>LAFC</td>\n",
       "      <td>Zimmerman</td>\n",
       "      <td>Walker</td>\n",
       "      <td>D</td>\n",
       "      <td>235000</td>\n",
       "      <td>235000</td>\n",
       "    </tr>\n",
       "    <tr>\n",
       "      <th>702</th>\n",
       "      <td>Atlanta United</td>\n",
       "      <td>Zizzo</td>\n",
       "      <td>Sal</td>\n",
       "      <td>D</td>\n",
       "      <td>129999.96</td>\n",
       "      <td>129999.96</td>\n",
       "    </tr>\n",
       "    <tr>\n",
       "      <th>703</th>\n",
       "      <td>FC Dallas</td>\n",
       "      <td>Zobeck</td>\n",
       "      <td>Kyle</td>\n",
       "      <td>GK</td>\n",
       "      <td>67500</td>\n",
       "      <td>67500</td>\n",
       "    </tr>\n",
       "    <tr>\n",
       "      <th>704</th>\n",
       "      <td>Sporting Kansas City</td>\n",
       "      <td>Zusi</td>\n",
       "      <td>Graham</td>\n",
       "      <td>D</td>\n",
       "      <td>750000</td>\n",
       "      <td>782102.27</td>\n",
       "    </tr>\n",
       "  </tbody>\n",
       "</table>\n",
       "<p>705 rows × 6 columns</p>\n",
       "</div>"
      ],
      "text/plain": [
       "                     Club     Last Name First Name  Pos     Salary   \\\n",
       "0      New York Red Bulls         Abang    Anatole    F       68927   \n",
       "1        New York City FC  Abdul-Salaam       Saad    D      106480   \n",
       "2           Columbus Crew           Abu   Mohammed    M      175008   \n",
       "3           Columbus Crew      Abubakar      Lalas    D    68250.04   \n",
       "4      Philadelphia Union         Accam      David  F-M  1250000.04   \n",
       "..                    ...           ...        ...  ...         ...   \n",
       "700             FC Dallas       Ziegler       Reto    D      750000   \n",
       "701                  LAFC     Zimmerman     Walker    D      235000   \n",
       "702        Atlanta United         Zizzo        Sal    D   129999.96   \n",
       "703             FC Dallas        Zobeck       Kyle   GK       67500   \n",
       "704  Sporting Kansas City          Zusi     Graham    D      750000   \n",
       "\n",
       "    Compensation   \n",
       "0           68927  \n",
       "1          120230  \n",
       "2          181258  \n",
       "3        75750.04  \n",
       "4      1250000.04  \n",
       "..            ...  \n",
       "700        800000  \n",
       "701        235000  \n",
       "702     129999.96  \n",
       "703         67500  \n",
       "704     782102.27  \n",
       "\n",
       "[705 rows x 6 columns]"
      ]
     },
     "execution_count": 49,
     "metadata": {},
     "output_type": "execute_result"
    }
   ],
   "source": [
    "# This didnt work.\n",
    "salary2018_df.rename(columns={'Salary': 'Base Salary'}, inplace=True)\n",
    "salary2018_df"
   ]
  },
  {
   "cell_type": "markdown",
   "id": "a075a182-0ddb-4003-a936-93f5461dead2",
   "metadata": {},
   "source": [
    "In order to resolve the above issue, I first created a dictionary of all the salary dataframes so I could clean them all at once."
   ]
  },
  {
   "cell_type": "code",
   "execution_count": 50,
   "id": "a9994944-30f4-460f-9d3a-e8d0563d23ac",
   "metadata": {},
   "outputs": [],
   "source": [
    "# create a dicitonary to iterate over all dataframes \n",
    "salary_dict = {\"2007\": salary2007_df, \"2008\": salary2008_df, \"2009\": salary2009_df, \"2010\": salary2010_df, \n",
    "               \"2011\": salary2011_df, \"2012\": salary2012_df, \"2013\": salary2013_df, \"2014\": salary2014_df, \n",
    "               \"2015\": salary2015_df, \"2016\": salary2016_df, \"2017\": salary2017_df, \"2018\": salary2018_df,\n",
    "               \"2019\": salary2019_df, \"2020\": salary2020_df}"
   ]
  },
  {
   "cell_type": "markdown",
   "id": "693f0703-641c-44b9-85e1-8baaaead02b8",
   "metadata": {},
   "source": [
    "I strip all whitespace from the column names and can now change those column names without a problem."
   ]
  },
  {
   "cell_type": "code",
   "execution_count": 51,
   "id": "ee6557f7-22d4-47ef-b693-6a28801cf234",
   "metadata": {},
   "outputs": [],
   "source": [
    "# When attempting to call certain column names, received errors saying they didnt exist. \n",
    "# Stripping white space to try to fix this\n",
    "for year in salary_dict.keys():\n",
    "    salary_dict[year].columns = salary_dict[year].columns.str.strip()"
   ]
  },
  {
   "cell_type": "markdown",
   "id": "5bb9607f-33fa-44b8-b2f4-895d8c8e46e2",
   "metadata": {},
   "source": [
    "Fixing the rest of the column name differences so I can further utilize the dictionary I created to process all dataframes at once."
   ]
  },
  {
   "cell_type": "code",
   "execution_count": 52,
   "id": "5c9dd24f-2e5c-4588-9a57-525625f0c5e3",
   "metadata": {},
   "outputs": [
    {
     "data": {
      "text/html": [
       "<div>\n",
       "<style scoped>\n",
       "    .dataframe tbody tr th:only-of-type {\n",
       "        vertical-align: middle;\n",
       "    }\n",
       "\n",
       "    .dataframe tbody tr th {\n",
       "        vertical-align: top;\n",
       "    }\n",
       "\n",
       "    .dataframe thead th {\n",
       "        text-align: right;\n",
       "    }\n",
       "</style>\n",
       "<table border=\"1\" class=\"dataframe\">\n",
       "  <thead>\n",
       "    <tr style=\"text-align: right;\">\n",
       "      <th></th>\n",
       "      <th>Club</th>\n",
       "      <th>Last Name</th>\n",
       "      <th>First Name</th>\n",
       "      <th>Pos</th>\n",
       "      <th>Base Salary</th>\n",
       "      <th>Compensation</th>\n",
       "    </tr>\n",
       "  </thead>\n",
       "  <tbody>\n",
       "    <tr>\n",
       "      <th>0</th>\n",
       "      <td>New York Red Bulls</td>\n",
       "      <td>Abang</td>\n",
       "      <td>Anatole</td>\n",
       "      <td>F</td>\n",
       "      <td>68927</td>\n",
       "      <td>68927</td>\n",
       "    </tr>\n",
       "    <tr>\n",
       "      <th>1</th>\n",
       "      <td>New York City FC</td>\n",
       "      <td>Abdul-Salaam</td>\n",
       "      <td>Saad</td>\n",
       "      <td>D</td>\n",
       "      <td>106480</td>\n",
       "      <td>120230</td>\n",
       "    </tr>\n",
       "    <tr>\n",
       "      <th>2</th>\n",
       "      <td>Columbus Crew</td>\n",
       "      <td>Abu</td>\n",
       "      <td>Mohammed</td>\n",
       "      <td>M</td>\n",
       "      <td>175008</td>\n",
       "      <td>181258</td>\n",
       "    </tr>\n",
       "    <tr>\n",
       "      <th>3</th>\n",
       "      <td>Columbus Crew</td>\n",
       "      <td>Abubakar</td>\n",
       "      <td>Lalas</td>\n",
       "      <td>D</td>\n",
       "      <td>68250.04</td>\n",
       "      <td>75750.04</td>\n",
       "    </tr>\n",
       "    <tr>\n",
       "      <th>4</th>\n",
       "      <td>Philadelphia Union</td>\n",
       "      <td>Accam</td>\n",
       "      <td>David</td>\n",
       "      <td>F-M</td>\n",
       "      <td>1250000.04</td>\n",
       "      <td>1250000.04</td>\n",
       "    </tr>\n",
       "    <tr>\n",
       "      <th>...</th>\n",
       "      <td>...</td>\n",
       "      <td>...</td>\n",
       "      <td>...</td>\n",
       "      <td>...</td>\n",
       "      <td>...</td>\n",
       "      <td>...</td>\n",
       "    </tr>\n",
       "    <tr>\n",
       "      <th>700</th>\n",
       "      <td>FC Dallas</td>\n",
       "      <td>Ziegler</td>\n",
       "      <td>Reto</td>\n",
       "      <td>D</td>\n",
       "      <td>750000</td>\n",
       "      <td>800000</td>\n",
       "    </tr>\n",
       "    <tr>\n",
       "      <th>701</th>\n",
       "      <td>LAFC</td>\n",
       "      <td>Zimmerman</td>\n",
       "      <td>Walker</td>\n",
       "      <td>D</td>\n",
       "      <td>235000</td>\n",
       "      <td>235000</td>\n",
       "    </tr>\n",
       "    <tr>\n",
       "      <th>702</th>\n",
       "      <td>Atlanta United</td>\n",
       "      <td>Zizzo</td>\n",
       "      <td>Sal</td>\n",
       "      <td>D</td>\n",
       "      <td>129999.96</td>\n",
       "      <td>129999.96</td>\n",
       "    </tr>\n",
       "    <tr>\n",
       "      <th>703</th>\n",
       "      <td>FC Dallas</td>\n",
       "      <td>Zobeck</td>\n",
       "      <td>Kyle</td>\n",
       "      <td>GK</td>\n",
       "      <td>67500</td>\n",
       "      <td>67500</td>\n",
       "    </tr>\n",
       "    <tr>\n",
       "      <th>704</th>\n",
       "      <td>Sporting Kansas City</td>\n",
       "      <td>Zusi</td>\n",
       "      <td>Graham</td>\n",
       "      <td>D</td>\n",
       "      <td>750000</td>\n",
       "      <td>782102.27</td>\n",
       "    </tr>\n",
       "  </tbody>\n",
       "</table>\n",
       "<p>705 rows × 6 columns</p>\n",
       "</div>"
      ],
      "text/plain": [
       "                     Club     Last Name First Name  Pos Base Salary  \\\n",
       "0      New York Red Bulls         Abang    Anatole    F       68927   \n",
       "1        New York City FC  Abdul-Salaam       Saad    D      106480   \n",
       "2           Columbus Crew           Abu   Mohammed    M      175008   \n",
       "3           Columbus Crew      Abubakar      Lalas    D    68250.04   \n",
       "4      Philadelphia Union         Accam      David  F-M  1250000.04   \n",
       "..                    ...           ...        ...  ...         ...   \n",
       "700             FC Dallas       Ziegler       Reto    D      750000   \n",
       "701                  LAFC     Zimmerman     Walker    D      235000   \n",
       "702        Atlanta United         Zizzo        Sal    D   129999.96   \n",
       "703             FC Dallas        Zobeck       Kyle   GK       67500   \n",
       "704  Sporting Kansas City          Zusi     Graham    D      750000   \n",
       "\n",
       "    Compensation  \n",
       "0          68927  \n",
       "1         120230  \n",
       "2         181258  \n",
       "3       75750.04  \n",
       "4     1250000.04  \n",
       "..           ...  \n",
       "700       800000  \n",
       "701       235000  \n",
       "702    129999.96  \n",
       "703        67500  \n",
       "704    782102.27  \n",
       "\n",
       "[705 rows x 6 columns]"
      ]
     },
     "execution_count": 52,
     "metadata": {},
     "output_type": "execute_result"
    }
   ],
   "source": [
    "# Renaming columns for consistency\n",
    "salary2018_df.rename(columns={'Salary': 'Base Salary'}, inplace=True)\n",
    "salary2018_df"
   ]
  },
  {
   "cell_type": "code",
   "execution_count": 53,
   "id": "19fda5c3-86f5-410f-a14d-0ad9c4f5ccc8",
   "metadata": {},
   "outputs": [
    {
     "name": "stdout",
     "output_type": "stream",
     "text": [
      "<class 'pandas.core.frame.DataFrame'>\n",
      "RangeIndex: 705 entries, 0 to 704\n",
      "Data columns (total 6 columns):\n",
      " #   Column        Non-Null Count  Dtype \n",
      "---  ------        --------------  ----- \n",
      " 0   Club          696 non-null    object\n",
      " 1   Last Name     705 non-null    object\n",
      " 2   First Name    704 non-null    object\n",
      " 3   Pos           705 non-null    object\n",
      " 4   Base Salary   705 non-null    object\n",
      " 5   Compensation  705 non-null    object\n",
      "dtypes: object(6)\n",
      "memory usage: 33.2+ KB\n"
     ]
    }
   ],
   "source": [
    "salary_dict[\"2018\"].info()"
   ]
  },
  {
   "cell_type": "code",
   "execution_count": 54,
   "id": "8d3e7c19-46cc-478b-bcd8-1cbc52505e00",
   "metadata": {},
   "outputs": [
    {
     "name": "stdout",
     "output_type": "stream",
     "text": [
      "<class 'pandas.core.frame.DataFrame'>\n",
      "RangeIndex: 714 entries, 0 to 713\n",
      "Data columns (total 6 columns):\n",
      " #   Column                       Non-Null Count  Dtype  \n",
      "---  ------                       --------------  -----  \n",
      " 0   Club                         714 non-null    object \n",
      " 1   Last Name                    714 non-null    object \n",
      " 2   First Name                   705 non-null    object \n",
      " 3   Playing Position             713 non-null    object \n",
      " 4   CY Salary (Annual)           714 non-null    float64\n",
      " 5   CY Guaranteed Comp (Annual)  714 non-null    float64\n",
      "dtypes: float64(2), object(4)\n",
      "memory usage: 33.6+ KB\n"
     ]
    }
   ],
   "source": [
    "salary2019_df.info()"
   ]
  },
  {
   "cell_type": "code",
   "execution_count": 55,
   "id": "70576fd0-8174-413e-a80b-0ed19f2c4223",
   "metadata": {},
   "outputs": [],
   "source": [
    "#Renaming columns for consistency\n",
    "salary2019_df.rename(columns={'Playing Position': 'Pos', 'CY Salary (Annual)': 'Base Salary',\n",
    "                              'CY Guaranteed Comp (Annual)': 'Compensation'}, inplace=True)"
   ]
  },
  {
   "cell_type": "code",
   "execution_count": 56,
   "id": "b83fcabd-f00d-47ca-bf10-5143807b794b",
   "metadata": {},
   "outputs": [
    {
     "name": "stdout",
     "output_type": "stream",
     "text": [
      "<class 'pandas.core.frame.DataFrame'>\n",
      "RangeIndex: 800 entries, 0 to 799\n",
      "Data columns (total 6 columns):\n",
      " #   Column                      Non-Null Count  Dtype \n",
      "---  ------                      --------------  ----- \n",
      " 0   Last Name                   795 non-null    object\n",
      " 1   First Name                  800 non-null    object\n",
      " 2   2020 Fall Salary List Club  800 non-null    object\n",
      " 3   Playing Position            798 non-null    object\n",
      " 4   Base Salary                 800 non-null    object\n",
      " 5   Base Guaranteed Comp.       800 non-null    object\n",
      "dtypes: object(6)\n",
      "memory usage: 37.6+ KB\n"
     ]
    }
   ],
   "source": [
    "salary2020_df.info()"
   ]
  },
  {
   "cell_type": "code",
   "execution_count": 57,
   "id": "8a1c7553-9960-4598-9392-7fb694631d4d",
   "metadata": {},
   "outputs": [],
   "source": [
    "#Renaming columns for consistency\n",
    "salary2020_df.rename(columns={'Playing Position': 'Pos', '2020 Fall Salary List Club': 'Club'}, inplace=True)"
   ]
  },
  {
   "cell_type": "markdown",
   "id": "ba15b960-6819-4e43-b753-e35012da8fd8",
   "metadata": {},
   "source": [
    "Adding year column so that I can match salary data to statistics data."
   ]
  },
  {
   "cell_type": "code",
   "execution_count": 58,
   "id": "6c686589-e175-4260-bd67-9a61f1ea0175",
   "metadata": {},
   "outputs": [],
   "source": [
    "#Starting year at 2012, same as our statistics dataframes\n",
    "df_year = 2007\n",
    "for year in salary_dict.keys():\n",
    "    # adding year column to each dataframe in salary_dict\n",
    "    salary_dict.get(year, {})['year'] = df_year\n",
    "    df_year+=1\n",
    "    "
   ]
  },
  {
   "cell_type": "code",
   "execution_count": 59,
   "id": "7cf5dc44-6c4f-44c6-b215-69905174b138",
   "metadata": {},
   "outputs": [
    {
     "data": {
      "text/html": [
       "<div>\n",
       "<style scoped>\n",
       "    .dataframe tbody tr th:only-of-type {\n",
       "        vertical-align: middle;\n",
       "    }\n",
       "\n",
       "    .dataframe tbody tr th {\n",
       "        vertical-align: top;\n",
       "    }\n",
       "\n",
       "    .dataframe thead th {\n",
       "        text-align: right;\n",
       "    }\n",
       "</style>\n",
       "<table border=\"1\" class=\"dataframe\">\n",
       "  <thead>\n",
       "    <tr style=\"text-align: right;\">\n",
       "      <th></th>\n",
       "      <th>Club</th>\n",
       "      <th>Last Name</th>\n",
       "      <th>First Name</th>\n",
       "      <th>Pos</th>\n",
       "      <th>Base Salary</th>\n",
       "      <th>Compensation</th>\n",
       "      <th>year</th>\n",
       "    </tr>\n",
       "  </thead>\n",
       "  <tbody>\n",
       "    <tr>\n",
       "      <th>0</th>\n",
       "      <td>DC</td>\n",
       "      <td>Addlery</td>\n",
       "      <td>Nicholas</td>\n",
       "      <td>F</td>\n",
       "      <td>36000</td>\n",
       "      <td>36000</td>\n",
       "      <td>2007</td>\n",
       "    </tr>\n",
       "    <tr>\n",
       "      <th>1</th>\n",
       "      <td>LA</td>\n",
       "      <td>Albright</td>\n",
       "      <td>Chris</td>\n",
       "      <td>M-D</td>\n",
       "      <td>142500</td>\n",
       "      <td>142500</td>\n",
       "      <td>2007</td>\n",
       "    </tr>\n",
       "    <tr>\n",
       "      <th>2</th>\n",
       "      <td>NY</td>\n",
       "      <td>Altidore</td>\n",
       "      <td>Josmer</td>\n",
       "      <td>F</td>\n",
       "      <td>85000</td>\n",
       "      <td>108333</td>\n",
       "      <td>2007</td>\n",
       "    </tr>\n",
       "    <tr>\n",
       "      <th>3</th>\n",
       "      <td>DAL</td>\n",
       "      <td>Alvarez</td>\n",
       "      <td>Arturo</td>\n",
       "      <td>M</td>\n",
       "      <td>32819</td>\n",
       "      <td>46019</td>\n",
       "      <td>2007</td>\n",
       "    </tr>\n",
       "    <tr>\n",
       "      <th>4</th>\n",
       "      <td>NY</td>\n",
       "      <td>Angel</td>\n",
       "      <td>Juan Pablo</td>\n",
       "      <td>F</td>\n",
       "      <td>1500000</td>\n",
       "      <td>1593750</td>\n",
       "      <td>2007</td>\n",
       "    </tr>\n",
       "  </tbody>\n",
       "</table>\n",
       "</div>"
      ],
      "text/plain": [
       "  Club Last Name  First Name  Pos Base Salary Compensation  year\n",
       "0   DC   Addlery    Nicholas    F       36000        36000  2007\n",
       "1   LA  Albright       Chris  M-D      142500       142500  2007\n",
       "2   NY  Altidore      Josmer    F       85000       108333  2007\n",
       "3  DAL   Alvarez      Arturo    M       32819        46019  2007\n",
       "4   NY     Angel  Juan Pablo    F     1500000      1593750  2007"
      ]
     },
     "execution_count": 59,
     "metadata": {},
     "output_type": "execute_result"
    }
   ],
   "source": [
    "salary2007_df.head()"
   ]
  },
  {
   "cell_type": "code",
   "execution_count": 60,
   "id": "ad70a476-3fe8-4b36-9f11-4208222c73f8",
   "metadata": {},
   "outputs": [
    {
     "data": {
      "text/html": [
       "<div>\n",
       "<style scoped>\n",
       "    .dataframe tbody tr th:only-of-type {\n",
       "        vertical-align: middle;\n",
       "    }\n",
       "\n",
       "    .dataframe tbody tr th {\n",
       "        vertical-align: top;\n",
       "    }\n",
       "\n",
       "    .dataframe thead th {\n",
       "        text-align: right;\n",
       "    }\n",
       "</style>\n",
       "<table border=\"1\" class=\"dataframe\">\n",
       "  <thead>\n",
       "    <tr style=\"text-align: right;\">\n",
       "      <th></th>\n",
       "      <th>Club</th>\n",
       "      <th>Last Name</th>\n",
       "      <th>First Name</th>\n",
       "      <th>Pos</th>\n",
       "      <th>Base Salary</th>\n",
       "      <th>Compensation</th>\n",
       "      <th>year</th>\n",
       "    </tr>\n",
       "  </thead>\n",
       "  <tbody>\n",
       "    <tr>\n",
       "      <th>0</th>\n",
       "      <td>NY</td>\n",
       "      <td>Abang</td>\n",
       "      <td>Anatole</td>\n",
       "      <td>F</td>\n",
       "      <td>50000</td>\n",
       "      <td>50000</td>\n",
       "      <td>2015</td>\n",
       "    </tr>\n",
       "    <tr>\n",
       "      <th>1</th>\n",
       "      <td>KC</td>\n",
       "      <td>Abdul-Salaam</td>\n",
       "      <td>Saad</td>\n",
       "      <td>D</td>\n",
       "      <td>60000</td>\n",
       "      <td>73750</td>\n",
       "      <td>2015</td>\n",
       "    </tr>\n",
       "    <tr>\n",
       "      <th>2</th>\n",
       "      <td>CHI</td>\n",
       "      <td>Accam</td>\n",
       "      <td>David</td>\n",
       "      <td>F</td>\n",
       "      <td>650000</td>\n",
       "      <td>720937.5</td>\n",
       "      <td>2015</td>\n",
       "    </tr>\n",
       "    <tr>\n",
       "      <th>3</th>\n",
       "      <td>DAL</td>\n",
       "      <td>Acosta</td>\n",
       "      <td>Kellyn</td>\n",
       "      <td>M</td>\n",
       "      <td>60000</td>\n",
       "      <td>84000</td>\n",
       "      <td>2015</td>\n",
       "    </tr>\n",
       "    <tr>\n",
       "      <th>4</th>\n",
       "      <td>VAN</td>\n",
       "      <td>Adekugbe</td>\n",
       "      <td>Samuel</td>\n",
       "      <td>D</td>\n",
       "      <td>60000</td>\n",
       "      <td>65000</td>\n",
       "      <td>2015</td>\n",
       "    </tr>\n",
       "  </tbody>\n",
       "</table>\n",
       "</div>"
      ],
      "text/plain": [
       "  Club     Last Name First Name Pos Base Salary Compensation  year\n",
       "0   NY         Abang    Anatole   F       50000        50000  2015\n",
       "1   KC  Abdul-Salaam       Saad   D       60000        73750  2015\n",
       "2  CHI         Accam      David   F      650000     720937.5  2015\n",
       "3  DAL        Acosta     Kellyn   M       60000        84000  2015\n",
       "4  VAN      Adekugbe     Samuel   D       60000        65000  2015"
      ]
     },
     "execution_count": 60,
     "metadata": {},
     "output_type": "execute_result"
    }
   ],
   "source": [
    "salary2015_df.head()"
   ]
  },
  {
   "cell_type": "code",
   "execution_count": 61,
   "id": "9e7bdce3-a062-459c-bbd8-4e07168b59a1",
   "metadata": {},
   "outputs": [
    {
     "data": {
      "text/html": [
       "<div>\n",
       "<style scoped>\n",
       "    .dataframe tbody tr th:only-of-type {\n",
       "        vertical-align: middle;\n",
       "    }\n",
       "\n",
       "    .dataframe tbody tr th {\n",
       "        vertical-align: top;\n",
       "    }\n",
       "\n",
       "    .dataframe thead th {\n",
       "        text-align: right;\n",
       "    }\n",
       "</style>\n",
       "<table border=\"1\" class=\"dataframe\">\n",
       "  <thead>\n",
       "    <tr style=\"text-align: right;\">\n",
       "      <th></th>\n",
       "      <th>Club</th>\n",
       "      <th>Last Name</th>\n",
       "      <th>First Name</th>\n",
       "      <th>Pos</th>\n",
       "      <th>Base Salary</th>\n",
       "      <th>Base Guaranteed Comp.</th>\n",
       "      <th>year</th>\n",
       "    </tr>\n",
       "  </thead>\n",
       "  <tbody>\n",
       "    <tr>\n",
       "      <th>0</th>\n",
       "      <td>Philadelphia Union</td>\n",
       "      <td>Aaronson</td>\n",
       "      <td>Brenden</td>\n",
       "      <td>M</td>\n",
       "      <td>85000</td>\n",
       "      <td>103309</td>\n",
       "      <td>2020</td>\n",
       "    </tr>\n",
       "    <tr>\n",
       "      <th>1</th>\n",
       "      <td>FC Cincinnati</td>\n",
       "      <td>Abdul-Salaam</td>\n",
       "      <td>Saad</td>\n",
       "      <td>D</td>\n",
       "      <td>81375</td>\n",
       "      <td>90042</td>\n",
       "      <td>2020</td>\n",
       "    </tr>\n",
       "    <tr>\n",
       "      <th>2</th>\n",
       "      <td>DC United</td>\n",
       "      <td>Abu</td>\n",
       "      <td>Mohammed</td>\n",
       "      <td>M</td>\n",
       "      <td>81375</td>\n",
       "      <td>81375</td>\n",
       "      <td>2020</td>\n",
       "    </tr>\n",
       "    <tr>\n",
       "      <th>3</th>\n",
       "      <td>Colorado Rapids</td>\n",
       "      <td>Abubakar</td>\n",
       "      <td>Lalas</td>\n",
       "      <td>D</td>\n",
       "      <td>145000</td>\n",
       "      <td>154937</td>\n",
       "      <td>2020</td>\n",
       "    </tr>\n",
       "    <tr>\n",
       "      <th>4</th>\n",
       "      <td>Nashville SC</td>\n",
       "      <td>Accam</td>\n",
       "      <td>David</td>\n",
       "      <td>F</td>\n",
       "      <td>875000</td>\n",
       "      <td>1002916</td>\n",
       "      <td>2020</td>\n",
       "    </tr>\n",
       "    <tr>\n",
       "      <th>...</th>\n",
       "      <td>...</td>\n",
       "      <td>...</td>\n",
       "      <td>...</td>\n",
       "      <td>...</td>\n",
       "      <td>...</td>\n",
       "      <td>...</td>\n",
       "      <td>...</td>\n",
       "    </tr>\n",
       "    <tr>\n",
       "      <th>795</th>\n",
       "      <td>New York Red Bulls</td>\n",
       "      <td>NaN</td>\n",
       "      <td>Kaku</td>\n",
       "      <td>M</td>\n",
       "      <td>850000</td>\n",
       "      <td>850000</td>\n",
       "      <td>2020</td>\n",
       "    </tr>\n",
       "    <tr>\n",
       "      <th>796</th>\n",
       "      <td>Orlando City SC</td>\n",
       "      <td>NaN</td>\n",
       "      <td>Robinho</td>\n",
       "      <td>M</td>\n",
       "      <td>198000</td>\n",
       "      <td>205500</td>\n",
       "      <td>2020</td>\n",
       "    </tr>\n",
       "    <tr>\n",
       "      <th>797</th>\n",
       "      <td>Philadelphia Union</td>\n",
       "      <td>NaN</td>\n",
       "      <td>Ilsinho</td>\n",
       "      <td>M</td>\n",
       "      <td>425000</td>\n",
       "      <td>476250</td>\n",
       "      <td>2020</td>\n",
       "    </tr>\n",
       "    <tr>\n",
       "      <th>798</th>\n",
       "      <td>San Jose Earthquakes</td>\n",
       "      <td>NaN</td>\n",
       "      <td>Judson</td>\n",
       "      <td>M</td>\n",
       "      <td>320000</td>\n",
       "      <td>325000</td>\n",
       "      <td>2020</td>\n",
       "    </tr>\n",
       "    <tr>\n",
       "      <th>799</th>\n",
       "      <td>Toronto FC</td>\n",
       "      <td>NaN</td>\n",
       "      <td>Auro</td>\n",
       "      <td>D</td>\n",
       "      <td>300000</td>\n",
       "      <td>328750</td>\n",
       "      <td>2020</td>\n",
       "    </tr>\n",
       "  </tbody>\n",
       "</table>\n",
       "<p>800 rows × 7 columns</p>\n",
       "</div>"
      ],
      "text/plain": [
       "                     Club     Last Name First Name Pos Base Salary  \\\n",
       "0      Philadelphia Union      Aaronson    Brenden   M       85000   \n",
       "1           FC Cincinnati  Abdul-Salaam       Saad   D       81375   \n",
       "2               DC United           Abu   Mohammed   M       81375   \n",
       "3         Colorado Rapids      Abubakar      Lalas   D      145000   \n",
       "4            Nashville SC         Accam      David   F      875000   \n",
       "..                    ...           ...        ...  ..         ...   \n",
       "795    New York Red Bulls           NaN       Kaku   M      850000   \n",
       "796       Orlando City SC           NaN    Robinho   M      198000   \n",
       "797    Philadelphia Union           NaN    Ilsinho   M      425000   \n",
       "798  San Jose Earthquakes           NaN     Judson   M      320000   \n",
       "799            Toronto FC           NaN       Auro   D      300000   \n",
       "\n",
       "    Base Guaranteed Comp.  year  \n",
       "0                  103309  2020  \n",
       "1                   90042  2020  \n",
       "2                   81375  2020  \n",
       "3                  154937  2020  \n",
       "4                 1002916  2020  \n",
       "..                    ...   ...  \n",
       "795                850000  2020  \n",
       "796                205500  2020  \n",
       "797                476250  2020  \n",
       "798                325000  2020  \n",
       "799                328750  2020  \n",
       "\n",
       "[800 rows x 7 columns]"
      ]
     },
     "execution_count": 61,
     "metadata": {},
     "output_type": "execute_result"
    }
   ],
   "source": [
    "# Rearranging order of columns for consistency\n",
    "salary2020_df = pd.DataFrame(salary2020_df, columns=['Club', 'Last Name', 'First Name', 'Pos', 'Base Salary', 'Base Guaranteed Comp.', 'year'])\n",
    "salary2020_df"
   ]
  },
  {
   "cell_type": "markdown",
   "id": "df128510-e763-4f96-9416-f6f21b879fc4",
   "metadata": {},
   "source": [
    "As I mentioned I was going to do above, I am dropping Club from all salary dataframes here as it is unneccessary to my anaylsis."
   ]
  },
  {
   "cell_type": "code",
   "execution_count": 62,
   "id": "6cb34d5e-cb78-4202-9633-0bc8abd91784",
   "metadata": {},
   "outputs": [],
   "source": [
    "for year, df in salary_dict.items():\n",
    "    # Remove columns i dont need\n",
    "    salary_dict[year] = salary_dict[year].drop(['Club'], axis=1)"
   ]
  },
  {
   "cell_type": "code",
   "execution_count": 63,
   "id": "6b977de8-7c13-4020-bbef-a8625396afd0",
   "metadata": {},
   "outputs": [
    {
     "data": {
      "text/html": [
       "<div>\n",
       "<style scoped>\n",
       "    .dataframe tbody tr th:only-of-type {\n",
       "        vertical-align: middle;\n",
       "    }\n",
       "\n",
       "    .dataframe tbody tr th {\n",
       "        vertical-align: top;\n",
       "    }\n",
       "\n",
       "    .dataframe thead th {\n",
       "        text-align: right;\n",
       "    }\n",
       "</style>\n",
       "<table border=\"1\" class=\"dataframe\">\n",
       "  <thead>\n",
       "    <tr style=\"text-align: right;\">\n",
       "      <th></th>\n",
       "      <th>Last Name</th>\n",
       "      <th>First Name</th>\n",
       "      <th>Pos</th>\n",
       "      <th>Base Salary</th>\n",
       "      <th>Compensation</th>\n",
       "      <th>year</th>\n",
       "    </tr>\n",
       "  </thead>\n",
       "  <tbody>\n",
       "    <tr>\n",
       "      <th>0</th>\n",
       "      <td>Adu</td>\n",
       "      <td>Freddy</td>\n",
       "      <td>M</td>\n",
       "      <td>400000</td>\n",
       "      <td>519000</td>\n",
       "      <td>2012</td>\n",
       "    </tr>\n",
       "    <tr>\n",
       "      <th>1</th>\n",
       "      <td>Agudelo</td>\n",
       "      <td>Juan</td>\n",
       "      <td>F</td>\n",
       "      <td>70000</td>\n",
       "      <td>100000</td>\n",
       "      <td>2012</td>\n",
       "    </tr>\n",
       "    <tr>\n",
       "      <th>2</th>\n",
       "      <td>Aiyegbusi</td>\n",
       "      <td>Olukorede</td>\n",
       "      <td>D</td>\n",
       "      <td>44100</td>\n",
       "      <td>44100</td>\n",
       "      <td>2012</td>\n",
       "    </tr>\n",
       "    <tr>\n",
       "      <th>3</th>\n",
       "      <td>Akpan</td>\n",
       "      <td>Andre</td>\n",
       "      <td>F</td>\n",
       "      <td>57200</td>\n",
       "      <td>57200</td>\n",
       "      <td>2012</td>\n",
       "    </tr>\n",
       "    <tr>\n",
       "      <th>4</th>\n",
       "      <td>Albright</td>\n",
       "      <td>Chris</td>\n",
       "      <td>D</td>\n",
       "      <td>55000</td>\n",
       "      <td>55000</td>\n",
       "      <td>2012</td>\n",
       "    </tr>\n",
       "  </tbody>\n",
       "</table>\n",
       "</div>"
      ],
      "text/plain": [
       "   Last Name First Name Pos Base Salary Compensation  year\n",
       "0        Adu     Freddy   M      400000       519000  2012\n",
       "1    Agudelo       Juan   F       70000       100000  2012\n",
       "2  Aiyegbusi  Olukorede   D       44100        44100  2012\n",
       "3      Akpan      Andre   F       57200        57200  2012\n",
       "4   Albright      Chris   D       55000        55000  2012"
      ]
     },
     "execution_count": 63,
     "metadata": {},
     "output_type": "execute_result"
    }
   ],
   "source": [
    "salary_dict['2012'].head()"
   ]
  },
  {
   "cell_type": "markdown",
   "id": "68667066-1c88-4526-acc6-f37699b4dc56",
   "metadata": {},
   "source": [
    "I still encountered errors where the colunn names were not consistent despite visually appearing to be the exact same throughout the different salary dataframes. So I went ahead and renamed all column names here to ensure they all match. "
   ]
  },
  {
   "cell_type": "code",
   "execution_count": 64,
   "id": "f7bccf16-c236-43a5-a313-e6e1df807076",
   "metadata": {},
   "outputs": [],
   "source": [
    "columns = ['Last Name', 'First Name', 'Pos', 'Base Salary', 'Base Guaranteed Comp.', 'Year']\n",
    "years = ['2007', '2008', '2009', '2010', '2011', '2012', '2013', '2014', '2015', '2016', '2017', '2018', '2019', '2020']\n",
    "\n",
    "for year in years:\n",
    "    salary_dict[year].columns = columns"
   ]
  },
  {
   "cell_type": "markdown",
   "id": "92833f34-c4cc-496b-95cb-03480086dff8",
   "metadata": {},
   "source": [
    "Now that all salary dataframes are consistent, we can combine into one dataframe vertically."
   ]
  },
  {
   "cell_type": "code",
   "execution_count": 65,
   "id": "c18835cd-693a-4bae-8bc6-77401c03c5bf",
   "metadata": {},
   "outputs": [
    {
     "data": {
      "text/html": [
       "<div>\n",
       "<style scoped>\n",
       "    .dataframe tbody tr th:only-of-type {\n",
       "        vertical-align: middle;\n",
       "    }\n",
       "\n",
       "    .dataframe tbody tr th {\n",
       "        vertical-align: top;\n",
       "    }\n",
       "\n",
       "    .dataframe thead th {\n",
       "        text-align: right;\n",
       "    }\n",
       "</style>\n",
       "<table border=\"1\" class=\"dataframe\">\n",
       "  <thead>\n",
       "    <tr style=\"text-align: right;\">\n",
       "      <th></th>\n",
       "      <th>Last Name</th>\n",
       "      <th>First Name</th>\n",
       "      <th>Pos</th>\n",
       "      <th>Base Salary</th>\n",
       "      <th>Base Guaranteed Comp.</th>\n",
       "      <th>Year</th>\n",
       "    </tr>\n",
       "  </thead>\n",
       "  <tbody>\n",
       "    <tr>\n",
       "      <th>0</th>\n",
       "      <td>Addlery</td>\n",
       "      <td>Nicholas</td>\n",
       "      <td>F</td>\n",
       "      <td>36000</td>\n",
       "      <td>36000</td>\n",
       "      <td>2007</td>\n",
       "    </tr>\n",
       "    <tr>\n",
       "      <th>1</th>\n",
       "      <td>Albright</td>\n",
       "      <td>Chris</td>\n",
       "      <td>M-D</td>\n",
       "      <td>142500</td>\n",
       "      <td>142500</td>\n",
       "      <td>2007</td>\n",
       "    </tr>\n",
       "    <tr>\n",
       "      <th>2</th>\n",
       "      <td>Altidore</td>\n",
       "      <td>Josmer</td>\n",
       "      <td>F</td>\n",
       "      <td>85000</td>\n",
       "      <td>108333</td>\n",
       "      <td>2007</td>\n",
       "    </tr>\n",
       "    <tr>\n",
       "      <th>3</th>\n",
       "      <td>Alvarez</td>\n",
       "      <td>Arturo</td>\n",
       "      <td>M</td>\n",
       "      <td>32819</td>\n",
       "      <td>46019</td>\n",
       "      <td>2007</td>\n",
       "    </tr>\n",
       "    <tr>\n",
       "      <th>4</th>\n",
       "      <td>Angel</td>\n",
       "      <td>Juan Pablo</td>\n",
       "      <td>F</td>\n",
       "      <td>1500000</td>\n",
       "      <td>1593750</td>\n",
       "      <td>2007</td>\n",
       "    </tr>\n",
       "    <tr>\n",
       "      <th>...</th>\n",
       "      <td>...</td>\n",
       "      <td>...</td>\n",
       "      <td>...</td>\n",
       "      <td>...</td>\n",
       "      <td>...</td>\n",
       "      <td>...</td>\n",
       "    </tr>\n",
       "    <tr>\n",
       "      <th>8007</th>\n",
       "      <td>NaN</td>\n",
       "      <td>Kaku</td>\n",
       "      <td>M</td>\n",
       "      <td>850000</td>\n",
       "      <td>850000</td>\n",
       "      <td>2020</td>\n",
       "    </tr>\n",
       "    <tr>\n",
       "      <th>8008</th>\n",
       "      <td>NaN</td>\n",
       "      <td>Robinho</td>\n",
       "      <td>M</td>\n",
       "      <td>198000</td>\n",
       "      <td>205500</td>\n",
       "      <td>2020</td>\n",
       "    </tr>\n",
       "    <tr>\n",
       "      <th>8009</th>\n",
       "      <td>NaN</td>\n",
       "      <td>Ilsinho</td>\n",
       "      <td>M</td>\n",
       "      <td>425000</td>\n",
       "      <td>476250</td>\n",
       "      <td>2020</td>\n",
       "    </tr>\n",
       "    <tr>\n",
       "      <th>8010</th>\n",
       "      <td>NaN</td>\n",
       "      <td>Judson</td>\n",
       "      <td>M</td>\n",
       "      <td>320000</td>\n",
       "      <td>325000</td>\n",
       "      <td>2020</td>\n",
       "    </tr>\n",
       "    <tr>\n",
       "      <th>8011</th>\n",
       "      <td>NaN</td>\n",
       "      <td>Auro</td>\n",
       "      <td>D</td>\n",
       "      <td>300000</td>\n",
       "      <td>328750</td>\n",
       "      <td>2020</td>\n",
       "    </tr>\n",
       "  </tbody>\n",
       "</table>\n",
       "<p>8012 rows × 6 columns</p>\n",
       "</div>"
      ],
      "text/plain": [
       "     Last Name  First Name  Pos Base Salary Base Guaranteed Comp.  Year\n",
       "0      Addlery    Nicholas    F       36000                 36000  2007\n",
       "1     Albright       Chris  M-D      142500                142500  2007\n",
       "2     Altidore      Josmer    F       85000                108333  2007\n",
       "3      Alvarez      Arturo    M       32819                 46019  2007\n",
       "4        Angel  Juan Pablo    F     1500000               1593750  2007\n",
       "...        ...         ...  ...         ...                   ...   ...\n",
       "8007       NaN        Kaku    M      850000                850000  2020\n",
       "8008       NaN     Robinho    M      198000                205500  2020\n",
       "8009       NaN     Ilsinho    M      425000                476250  2020\n",
       "8010       NaN      Judson    M      320000                325000  2020\n",
       "8011       NaN        Auro    D      300000                328750  2020\n",
       "\n",
       "[8012 rows x 6 columns]"
      ]
     },
     "execution_count": 65,
     "metadata": {},
     "output_type": "execute_result"
    }
   ],
   "source": [
    "salary_df = pd.concat(salary_dict, ignore_index=True)  \n",
    "salary_df"
   ]
  },
  {
   "cell_type": "code",
   "execution_count": 66,
   "id": "271730ef-f9ba-45f7-9057-b8914aee17b8",
   "metadata": {},
   "outputs": [
    {
     "data": {
      "text/plain": [
       "Pos\n",
       "M                   2449\n",
       "D                   2242\n",
       "F                   1563\n",
       "GK                   883\n",
       "M-F                  298\n",
       "D-M                  178\n",
       "Pos                  110\n",
       "M-D                   74\n",
       "F-M                   63\n",
       "Playing Position      22\n",
       "M/F                   20\n",
       "M/D                    9\n",
       "MF                     7\n",
       "D/M                    6\n",
       "F/M                    6\n",
       "D/F                    4\n",
       "F-D                    1\n",
       "D-F                    1\n",
       "Name: count, dtype: int64"
      ]
     },
     "execution_count": 66,
     "metadata": {},
     "output_type": "execute_result"
    }
   ],
   "source": [
    "# GK must be split because they have different statistics data.\n",
    "salary_df['Pos'].value_counts()"
   ]
  },
  {
   "cell_type": "markdown",
   "id": "eca7753e-3f5e-47e9-9807-300cf5c3ffe6",
   "metadata": {},
   "source": [
    "I'm filtering the dataframe to only contain field players."
   ]
  },
  {
   "cell_type": "code",
   "execution_count": 67,
   "id": "87b738d2-4021-4889-b095-ac82f4f9cf6a",
   "metadata": {},
   "outputs": [
    {
     "data": {
      "text/html": [
       "<div>\n",
       "<style scoped>\n",
       "    .dataframe tbody tr th:only-of-type {\n",
       "        vertical-align: middle;\n",
       "    }\n",
       "\n",
       "    .dataframe tbody tr th {\n",
       "        vertical-align: top;\n",
       "    }\n",
       "\n",
       "    .dataframe thead th {\n",
       "        text-align: right;\n",
       "    }\n",
       "</style>\n",
       "<table border=\"1\" class=\"dataframe\">\n",
       "  <thead>\n",
       "    <tr style=\"text-align: right;\">\n",
       "      <th></th>\n",
       "      <th>Last Name</th>\n",
       "      <th>First Name</th>\n",
       "      <th>Pos</th>\n",
       "      <th>Base Salary</th>\n",
       "      <th>Base Guaranteed Comp.</th>\n",
       "      <th>Year</th>\n",
       "    </tr>\n",
       "  </thead>\n",
       "  <tbody>\n",
       "    <tr>\n",
       "      <th>0</th>\n",
       "      <td>Addlery</td>\n",
       "      <td>Nicholas</td>\n",
       "      <td>F</td>\n",
       "      <td>36000</td>\n",
       "      <td>36000</td>\n",
       "      <td>2007</td>\n",
       "    </tr>\n",
       "    <tr>\n",
       "      <th>1</th>\n",
       "      <td>Albright</td>\n",
       "      <td>Chris</td>\n",
       "      <td>M-D</td>\n",
       "      <td>142500</td>\n",
       "      <td>142500</td>\n",
       "      <td>2007</td>\n",
       "    </tr>\n",
       "    <tr>\n",
       "      <th>2</th>\n",
       "      <td>Altidore</td>\n",
       "      <td>Josmer</td>\n",
       "      <td>F</td>\n",
       "      <td>85000</td>\n",
       "      <td>108333</td>\n",
       "      <td>2007</td>\n",
       "    </tr>\n",
       "    <tr>\n",
       "      <th>3</th>\n",
       "      <td>Alvarez</td>\n",
       "      <td>Arturo</td>\n",
       "      <td>M</td>\n",
       "      <td>32819</td>\n",
       "      <td>46019</td>\n",
       "      <td>2007</td>\n",
       "    </tr>\n",
       "    <tr>\n",
       "      <th>4</th>\n",
       "      <td>Angel</td>\n",
       "      <td>Juan Pablo</td>\n",
       "      <td>F</td>\n",
       "      <td>1500000</td>\n",
       "      <td>1593750</td>\n",
       "      <td>2007</td>\n",
       "    </tr>\n",
       "    <tr>\n",
       "      <th>...</th>\n",
       "      <td>...</td>\n",
       "      <td>...</td>\n",
       "      <td>...</td>\n",
       "      <td>...</td>\n",
       "      <td>...</td>\n",
       "      <td>...</td>\n",
       "    </tr>\n",
       "    <tr>\n",
       "      <th>8007</th>\n",
       "      <td>NaN</td>\n",
       "      <td>Kaku</td>\n",
       "      <td>M</td>\n",
       "      <td>850000</td>\n",
       "      <td>850000</td>\n",
       "      <td>2020</td>\n",
       "    </tr>\n",
       "    <tr>\n",
       "      <th>8008</th>\n",
       "      <td>NaN</td>\n",
       "      <td>Robinho</td>\n",
       "      <td>M</td>\n",
       "      <td>198000</td>\n",
       "      <td>205500</td>\n",
       "      <td>2020</td>\n",
       "    </tr>\n",
       "    <tr>\n",
       "      <th>8009</th>\n",
       "      <td>NaN</td>\n",
       "      <td>Ilsinho</td>\n",
       "      <td>M</td>\n",
       "      <td>425000</td>\n",
       "      <td>476250</td>\n",
       "      <td>2020</td>\n",
       "    </tr>\n",
       "    <tr>\n",
       "      <th>8010</th>\n",
       "      <td>NaN</td>\n",
       "      <td>Judson</td>\n",
       "      <td>M</td>\n",
       "      <td>320000</td>\n",
       "      <td>325000</td>\n",
       "      <td>2020</td>\n",
       "    </tr>\n",
       "    <tr>\n",
       "      <th>8011</th>\n",
       "      <td>NaN</td>\n",
       "      <td>Auro</td>\n",
       "      <td>D</td>\n",
       "      <td>300000</td>\n",
       "      <td>328750</td>\n",
       "      <td>2020</td>\n",
       "    </tr>\n",
       "  </tbody>\n",
       "</table>\n",
       "<p>7129 rows × 6 columns</p>\n",
       "</div>"
      ],
      "text/plain": [
       "     Last Name  First Name  Pos Base Salary Base Guaranteed Comp.  Year\n",
       "0      Addlery    Nicholas    F       36000                 36000  2007\n",
       "1     Albright       Chris  M-D      142500                142500  2007\n",
       "2     Altidore      Josmer    F       85000                108333  2007\n",
       "3      Alvarez      Arturo    M       32819                 46019  2007\n",
       "4        Angel  Juan Pablo    F     1500000               1593750  2007\n",
       "...        ...         ...  ...         ...                   ...   ...\n",
       "8007       NaN        Kaku    M      850000                850000  2020\n",
       "8008       NaN     Robinho    M      198000                205500  2020\n",
       "8009       NaN     Ilsinho    M      425000                476250  2020\n",
       "8010       NaN      Judson    M      320000                325000  2020\n",
       "8011       NaN        Auro    D      300000                328750  2020\n",
       "\n",
       "[7129 rows x 6 columns]"
      ]
     },
     "execution_count": 67,
     "metadata": {},
     "output_type": "execute_result"
    }
   ],
   "source": [
    "# Creating player_salary_df without GK data\n",
    "player_salary_df = salary_df[salary_df['Pos'] != 'GK']\n",
    "player_salary_df"
   ]
  },
  {
   "cell_type": "code",
   "execution_count": 68,
   "id": "1a8e49cd-885e-4ae7-bb41-166a05f1b524",
   "metadata": {},
   "outputs": [
    {
     "name": "stderr",
     "output_type": "stream",
     "text": [
      "/var/folders/g_/5gwjpx2j5c7cg2mn_rrdzqpc0000gn/T/ipykernel_41680/2983055035.py:2: SettingWithCopyWarning: \n",
      "A value is trying to be set on a copy of a slice from a DataFrame\n",
      "\n",
      "See the caveats in the documentation: https://pandas.pydata.org/pandas-docs/stable/user_guide/indexing.html#returning-a-view-versus-a-copy\n",
      "  player_salary_df.dropna(subset=['First Name', 'Last Name'], how='all', inplace=True)\n"
     ]
    }
   ],
   "source": [
    "# Dropping rows where both First and Last name are null\n",
    "player_salary_df.dropna(subset=['First Name', 'Last Name'], how='all', inplace=True)"
   ]
  },
  {
   "cell_type": "code",
   "execution_count": 69,
   "id": "9351b217-552f-49b3-b96e-427472a6315f",
   "metadata": {},
   "outputs": [
    {
     "data": {
      "text/plain": [
       "Last Name                 5\n",
       "First Name               29\n",
       "Pos                       4\n",
       "Base Salary               0\n",
       "Base Guaranteed Comp.     0\n",
       "Year                      0\n",
       "dtype: int64"
      ]
     },
     "execution_count": 69,
     "metadata": {},
     "output_type": "execute_result"
    }
   ],
   "source": [
    "player_salary_df.isna().sum()"
   ]
  },
  {
   "cell_type": "markdown",
   "id": "cf2fe296-93b7-4d02-9c95-7dc1142b06c4",
   "metadata": {},
   "source": [
    "I'm now going to fix the nulls in First Name and Last Name. "
   ]
  },
  {
   "cell_type": "code",
   "execution_count": 70,
   "id": "05437100-7a64-452c-8781-537b418964eb",
   "metadata": {},
   "outputs": [
    {
     "data": {
      "text/html": [
       "<div>\n",
       "<style scoped>\n",
       "    .dataframe tbody tr th:only-of-type {\n",
       "        vertical-align: middle;\n",
       "    }\n",
       "\n",
       "    .dataframe tbody tr th {\n",
       "        vertical-align: top;\n",
       "    }\n",
       "\n",
       "    .dataframe thead th {\n",
       "        text-align: right;\n",
       "    }\n",
       "</style>\n",
       "<table border=\"1\" class=\"dataframe\">\n",
       "  <thead>\n",
       "    <tr style=\"text-align: right;\">\n",
       "      <th></th>\n",
       "      <th>Last Name</th>\n",
       "      <th>First Name</th>\n",
       "      <th>Pos</th>\n",
       "      <th>Base Salary</th>\n",
       "      <th>Base Guaranteed Comp.</th>\n",
       "      <th>Year</th>\n",
       "    </tr>\n",
       "  </thead>\n",
       "  <tbody>\n",
       "    <tr>\n",
       "      <th>1852</th>\n",
       "      <td>Jeferson</td>\n",
       "      <td>NaN</td>\n",
       "      <td>F</td>\n",
       "      <td>429996</td>\n",
       "      <td>484996</td>\n",
       "      <td>2011</td>\n",
       "    </tr>\n",
       "    <tr>\n",
       "      <th>2157</th>\n",
       "      <td>Alex</td>\n",
       "      <td>NaN</td>\n",
       "      <td>M</td>\n",
       "      <td>96000</td>\n",
       "      <td>105950</td>\n",
       "      <td>2012</td>\n",
       "    </tr>\n",
       "    <tr>\n",
       "      <th>2409</th>\n",
       "      <td>Juninho</td>\n",
       "      <td>NaN</td>\n",
       "      <td>M</td>\n",
       "      <td>50000</td>\n",
       "      <td>65625</td>\n",
       "      <td>2012</td>\n",
       "    </tr>\n",
       "    <tr>\n",
       "      <th>2734</th>\n",
       "      <td>Alex</td>\n",
       "      <td>NaN</td>\n",
       "      <td>M</td>\n",
       "      <td>110000</td>\n",
       "      <td>119950</td>\n",
       "      <td>2013</td>\n",
       "    </tr>\n",
       "    <tr>\n",
       "      <th>3003</th>\n",
       "      <td>Juninho</td>\n",
       "      <td>NaN</td>\n",
       "      <td>M</td>\n",
       "      <td>290000</td>\n",
       "      <td>290000</td>\n",
       "      <td>2013</td>\n",
       "    </tr>\n",
       "    <tr>\n",
       "      <th>3328</th>\n",
       "      <td>Alex</td>\n",
       "      <td>NaN</td>\n",
       "      <td>M</td>\n",
       "      <td>123750</td>\n",
       "      <td>133700</td>\n",
       "      <td>2014</td>\n",
       "    </tr>\n",
       "    <tr>\n",
       "      <th>3487</th>\n",
       "      <td>Fabinho</td>\n",
       "      <td>NaN</td>\n",
       "      <td>D</td>\n",
       "      <td>96000</td>\n",
       "      <td>100500</td>\n",
       "      <td>2014</td>\n",
       "    </tr>\n",
       "    <tr>\n",
       "      <th>3592</th>\n",
       "      <td>Juninho</td>\n",
       "      <td>NaN</td>\n",
       "      <td>M</td>\n",
       "      <td>325000</td>\n",
       "      <td>325000</td>\n",
       "      <td>2014</td>\n",
       "    </tr>\n",
       "    <tr>\n",
       "      <th>3599</th>\n",
       "      <td>Kaka</td>\n",
       "      <td>NaN</td>\n",
       "      <td>M</td>\n",
       "      <td>6660000</td>\n",
       "      <td>7167500</td>\n",
       "      <td>2014</td>\n",
       "    </tr>\n",
       "    <tr>\n",
       "      <th>3924</th>\n",
       "      <td>Alex</td>\n",
       "      <td>NaN</td>\n",
       "      <td>M</td>\n",
       "      <td>142000</td>\n",
       "      <td>142000</td>\n",
       "      <td>2015</td>\n",
       "    </tr>\n",
       "    <tr>\n",
       "      <th>4176</th>\n",
       "      <td>Juninho</td>\n",
       "      <td>NaN</td>\n",
       "      <td>M</td>\n",
       "      <td>350000</td>\n",
       "      <td>350000</td>\n",
       "      <td>2015</td>\n",
       "    </tr>\n",
       "    <tr>\n",
       "      <th>4179</th>\n",
       "      <td>Kaka</td>\n",
       "      <td>NaN</td>\n",
       "      <td>M</td>\n",
       "      <td>6660000</td>\n",
       "      <td>7167500</td>\n",
       "      <td>2015</td>\n",
       "    </tr>\n",
       "    <tr>\n",
       "      <th>4323</th>\n",
       "      <td>Pecka</td>\n",
       "      <td>NaN</td>\n",
       "      <td>M</td>\n",
       "      <td>60000</td>\n",
       "      <td>64166.67</td>\n",
       "      <td>2015</td>\n",
       "    </tr>\n",
       "    <tr>\n",
       "      <th>4799</th>\n",
       "      <td>Kaka</td>\n",
       "      <td>NaN</td>\n",
       "      <td>M</td>\n",
       "      <td>6660000</td>\n",
       "      <td>7167500</td>\n",
       "      <td>2016</td>\n",
       "    </tr>\n",
       "    <tr>\n",
       "      <th>5331</th>\n",
       "      <td>Fabinho</td>\n",
       "      <td>NaN</td>\n",
       "      <td>D</td>\n",
       "      <td>159759</td>\n",
       "      <td>167759</td>\n",
       "      <td>2017</td>\n",
       "    </tr>\n",
       "    <tr>\n",
       "      <th>5424</th>\n",
       "      <td>Ibson</td>\n",
       "      <td>NaN</td>\n",
       "      <td>M</td>\n",
       "      <td>200004</td>\n",
       "      <td>210337.4</td>\n",
       "      <td>2017</td>\n",
       "    </tr>\n",
       "    <tr>\n",
       "      <th>5426</th>\n",
       "      <td>Ilsinho</td>\n",
       "      <td>NaN</td>\n",
       "      <td>M</td>\n",
       "      <td>470000</td>\n",
       "      <td>518333.33</td>\n",
       "      <td>2017</td>\n",
       "    </tr>\n",
       "    <tr>\n",
       "      <th>5449</th>\n",
       "      <td>Juninho</td>\n",
       "      <td>NaN</td>\n",
       "      <td>M</td>\n",
       "      <td>700008</td>\n",
       "      <td>716674.67</td>\n",
       "      <td>2017</td>\n",
       "    </tr>\n",
       "    <tr>\n",
       "      <th>5450</th>\n",
       "      <td>Kaka</td>\n",
       "      <td>NaN</td>\n",
       "      <td>M</td>\n",
       "      <td>6660000</td>\n",
       "      <td>7167500</td>\n",
       "      <td>2017</td>\n",
       "    </tr>\n",
       "    <tr>\n",
       "      <th>5844</th>\n",
       "      <td>Auro</td>\n",
       "      <td>NaN</td>\n",
       "      <td>D</td>\n",
       "      <td>200004</td>\n",
       "      <td>272504</td>\n",
       "      <td>2018</td>\n",
       "    </tr>\n",
       "    <tr>\n",
       "      <th>6543</th>\n",
       "      <td>Artur</td>\n",
       "      <td>NaN</td>\n",
       "      <td>D-M</td>\n",
       "      <td>360000.0</td>\n",
       "      <td>411633.33</td>\n",
       "      <td>2019</td>\n",
       "    </tr>\n",
       "    <tr>\n",
       "      <th>6549</th>\n",
       "      <td>Auro</td>\n",
       "      <td>NaN</td>\n",
       "      <td>D</td>\n",
       "      <td>225000.0</td>\n",
       "      <td>276666.67</td>\n",
       "      <td>2019</td>\n",
       "    </tr>\n",
       "    <tr>\n",
       "      <th>6598</th>\n",
       "      <td>Bressan</td>\n",
       "      <td>NaN</td>\n",
       "      <td>D</td>\n",
       "      <td>485300.04</td>\n",
       "      <td>521931.29</td>\n",
       "      <td>2019</td>\n",
       "    </tr>\n",
       "    <tr>\n",
       "      <th>6802</th>\n",
       "      <td>Ilsinho</td>\n",
       "      <td>NaN</td>\n",
       "      <td>M</td>\n",
       "      <td>330000.0</td>\n",
       "      <td>357000.0</td>\n",
       "      <td>2019</td>\n",
       "    </tr>\n",
       "    <tr>\n",
       "      <th>6822</th>\n",
       "      <td>Judson</td>\n",
       "      <td>NaN</td>\n",
       "      <td>D-M</td>\n",
       "      <td>300000.0</td>\n",
       "      <td>305000.0</td>\n",
       "      <td>2019</td>\n",
       "    </tr>\n",
       "    <tr>\n",
       "      <th>6824</th>\n",
       "      <td>Juninho</td>\n",
       "      <td>NaN</td>\n",
       "      <td>M</td>\n",
       "      <td>150000.0</td>\n",
       "      <td>163125.0</td>\n",
       "      <td>2019</td>\n",
       "    </tr>\n",
       "    <tr>\n",
       "      <th>6826</th>\n",
       "      <td>Kaku</td>\n",
       "      <td>NaN</td>\n",
       "      <td>M-F</td>\n",
       "      <td>799999.92</td>\n",
       "      <td>799999.92</td>\n",
       "      <td>2019</td>\n",
       "    </tr>\n",
       "    <tr>\n",
       "      <th>6967</th>\n",
       "      <td>Nani</td>\n",
       "      <td>NaN</td>\n",
       "      <td>M-F</td>\n",
       "      <td>2333333.04</td>\n",
       "      <td>2486249.7</td>\n",
       "      <td>2019</td>\n",
       "    </tr>\n",
       "    <tr>\n",
       "      <th>7057</th>\n",
       "      <td>Robinho</td>\n",
       "      <td>NaN</td>\n",
       "      <td>M-F</td>\n",
       "      <td>198000.0</td>\n",
       "      <td>205500.0</td>\n",
       "      <td>2019</td>\n",
       "    </tr>\n",
       "  </tbody>\n",
       "</table>\n",
       "</div>"
      ],
      "text/plain": [
       "     Last Name First Name  Pos Base Salary Base Guaranteed Comp.  Year\n",
       "1852  Jeferson        NaN    F      429996                484996  2011\n",
       "2157      Alex        NaN    M       96000                105950  2012\n",
       "2409   Juninho        NaN    M       50000                 65625  2012\n",
       "2734      Alex        NaN    M      110000                119950  2013\n",
       "3003   Juninho        NaN    M      290000                290000  2013\n",
       "3328      Alex        NaN    M      123750                133700  2014\n",
       "3487   Fabinho        NaN    D       96000                100500  2014\n",
       "3592   Juninho        NaN    M      325000                325000  2014\n",
       "3599      Kaka        NaN    M     6660000               7167500  2014\n",
       "3924      Alex        NaN    M      142000                142000  2015\n",
       "4176   Juninho        NaN    M      350000                350000  2015\n",
       "4179      Kaka        NaN    M     6660000               7167500  2015\n",
       "4323     Pecka        NaN    M       60000              64166.67  2015\n",
       "4799      Kaka        NaN    M     6660000               7167500  2016\n",
       "5331   Fabinho        NaN    D      159759                167759  2017\n",
       "5424     Ibson        NaN    M      200004              210337.4  2017\n",
       "5426   Ilsinho        NaN    M      470000             518333.33  2017\n",
       "5449   Juninho        NaN    M      700008             716674.67  2017\n",
       "5450      Kaka        NaN    M     6660000               7167500  2017\n",
       "5844      Auro        NaN    D      200004                272504  2018\n",
       "6543     Artur        NaN  D-M    360000.0             411633.33  2019\n",
       "6549      Auro        NaN    D    225000.0             276666.67  2019\n",
       "6598   Bressan        NaN    D   485300.04             521931.29  2019\n",
       "6802   Ilsinho        NaN    M    330000.0              357000.0  2019\n",
       "6822    Judson        NaN  D-M    300000.0              305000.0  2019\n",
       "6824   Juninho        NaN    M    150000.0              163125.0  2019\n",
       "6826      Kaku        NaN  M-F   799999.92             799999.92  2019\n",
       "6967      Nani        NaN  M-F  2333333.04             2486249.7  2019\n",
       "7057   Robinho        NaN  M-F    198000.0              205500.0  2019"
      ]
     },
     "execution_count": 70,
     "metadata": {},
     "output_type": "execute_result"
    }
   ],
   "source": [
    "player_salary_df[player_salary_df['First Name'].isna()]"
   ]
  },
  {
   "cell_type": "markdown",
   "id": "3c45e545-655d-4213-b1d8-f52478a0a71d",
   "metadata": {},
   "source": [
    "I had to get a little creative circumvent the null values. So I made first and last name the same for players that only have one or the other so that I can merge them into a singular player name."
   ]
  },
  {
   "cell_type": "code",
   "execution_count": 71,
   "id": "0939739f-7471-4d40-bfcb-b30347ef7e11",
   "metadata": {},
   "outputs": [],
   "source": [
    "for i, player in player_salary_df.iterrows():\n",
    "    if pd.isnull(player['First Name']):\n",
    "        player_salary_df.at[i, 'First Name'] = player_salary_df.at[i, 'Last Name']\n",
    "    if pd.isnull(player['Last Name']):\n",
    "        player_salary_df.at[i, 'Last Name'] = player_salary_df.at[i, 'First Name']"
   ]
  },
  {
   "cell_type": "markdown",
   "id": "68e12ccc-f057-49d2-859d-954c652ab2b6",
   "metadata": {},
   "source": [
    "Great, no more nulls for First and Last name."
   ]
  },
  {
   "cell_type": "code",
   "execution_count": 72,
   "id": "0eab0adf-6ce3-4e0b-91fa-b3caa90f06db",
   "metadata": {},
   "outputs": [
    {
     "data": {
      "text/html": [
       "<div>\n",
       "<style scoped>\n",
       "    .dataframe tbody tr th:only-of-type {\n",
       "        vertical-align: middle;\n",
       "    }\n",
       "\n",
       "    .dataframe tbody tr th {\n",
       "        vertical-align: top;\n",
       "    }\n",
       "\n",
       "    .dataframe thead th {\n",
       "        text-align: right;\n",
       "    }\n",
       "</style>\n",
       "<table border=\"1\" class=\"dataframe\">\n",
       "  <thead>\n",
       "    <tr style=\"text-align: right;\">\n",
       "      <th></th>\n",
       "      <th>Last Name</th>\n",
       "      <th>First Name</th>\n",
       "      <th>Pos</th>\n",
       "      <th>Base Salary</th>\n",
       "      <th>Base Guaranteed Comp.</th>\n",
       "      <th>Year</th>\n",
       "    </tr>\n",
       "  </thead>\n",
       "  <tbody>\n",
       "  </tbody>\n",
       "</table>\n",
       "</div>"
      ],
      "text/plain": [
       "Empty DataFrame\n",
       "Columns: [Last Name, First Name, Pos, Base Salary, Base Guaranteed Comp., Year]\n",
       "Index: []"
      ]
     },
     "execution_count": 72,
     "metadata": {},
     "output_type": "execute_result"
    }
   ],
   "source": [
    "player_salary_df[player_salary_df['First Name'].isna()]"
   ]
  },
  {
   "cell_type": "code",
   "execution_count": 73,
   "id": "b2b704ff-462e-4a34-a812-608234684499",
   "metadata": {},
   "outputs": [
    {
     "data": {
      "text/html": [
       "<div>\n",
       "<style scoped>\n",
       "    .dataframe tbody tr th:only-of-type {\n",
       "        vertical-align: middle;\n",
       "    }\n",
       "\n",
       "    .dataframe tbody tr th {\n",
       "        vertical-align: top;\n",
       "    }\n",
       "\n",
       "    .dataframe thead th {\n",
       "        text-align: right;\n",
       "    }\n",
       "</style>\n",
       "<table border=\"1\" class=\"dataframe\">\n",
       "  <thead>\n",
       "    <tr style=\"text-align: right;\">\n",
       "      <th></th>\n",
       "      <th>Last Name</th>\n",
       "      <th>First Name</th>\n",
       "      <th>Pos</th>\n",
       "      <th>Base Salary</th>\n",
       "      <th>Base Guaranteed Comp.</th>\n",
       "      <th>Year</th>\n",
       "    </tr>\n",
       "  </thead>\n",
       "  <tbody>\n",
       "  </tbody>\n",
       "</table>\n",
       "</div>"
      ],
      "text/plain": [
       "Empty DataFrame\n",
       "Columns: [Last Name, First Name, Pos, Base Salary, Base Guaranteed Comp., Year]\n",
       "Index: []"
      ]
     },
     "execution_count": 73,
     "metadata": {},
     "output_type": "execute_result"
    }
   ],
   "source": [
    "player_salary_df[player_salary_df['Last Name'].isna()]"
   ]
  },
  {
   "cell_type": "markdown",
   "id": "6109b64b-3fb2-47b0-9352-845d3625f152",
   "metadata": {},
   "source": [
    "Now to get a Player's name into a new column called Player, matching the statistics dataframe."
   ]
  },
  {
   "cell_type": "code",
   "execution_count": 74,
   "id": "275521ee-32ff-4887-83de-80d2c9ad6e7f",
   "metadata": {},
   "outputs": [
    {
     "name": "stderr",
     "output_type": "stream",
     "text": [
      "/var/folders/g_/5gwjpx2j5c7cg2mn_rrdzqpc0000gn/T/ipykernel_41680/714029785.py:7: SettingWithCopyWarning: \n",
      "A value is trying to be set on a copy of a slice from a DataFrame.\n",
      "Try using .loc[row_indexer,col_indexer] = value instead\n",
      "\n",
      "See the caveats in the documentation: https://pandas.pydata.org/pandas-docs/stable/user_guide/indexing.html#returning-a-view-versus-a-copy\n",
      "  player_salary_df.at[i, 'Player'] = player_salary_df.at[i, 'First Name'] + \" \" +  player_salary_df.at[i, 'Last Name']\n",
      "/var/folders/g_/5gwjpx2j5c7cg2mn_rrdzqpc0000gn/T/ipykernel_41680/714029785.py:7: FutureWarning: Setting an item of incompatible dtype is deprecated and will raise in a future error of pandas. Value 'Nicholas Addlery' has dtype incompatible with float64, please explicitly cast to a compatible dtype first.\n",
      "  player_salary_df.at[i, 'Player'] = player_salary_df.at[i, 'First Name'] + \" \" +  player_salary_df.at[i, 'Last Name']\n",
      "/var/folders/g_/5gwjpx2j5c7cg2mn_rrdzqpc0000gn/T/ipykernel_41680/714029785.py:9: SettingWithCopyWarning: \n",
      "A value is trying to be set on a copy of a slice from a DataFrame\n",
      "\n",
      "See the caveats in the documentation: https://pandas.pydata.org/pandas-docs/stable/user_guide/indexing.html#returning-a-view-versus-a-copy\n",
      "  player_salary_df.drop(columns=['First Name', 'Last Name', 'Pos'], inplace=True)\n"
     ]
    }
   ],
   "source": [
    "for i, player in player_salary_df.iterrows():\n",
    "    if player_salary_df.at[i, 'First Name'] == player_salary_df.at[i, 'Last Name']:\n",
    "        # For rows where first and last name are the same, player name equals just the last name\n",
    "        player_salary_df.at[i, 'Player'] = player_salary_df.at[i, 'Last Name']\n",
    "    else:\n",
    "        # player name equals first name plus last name for all other players \n",
    "        player_salary_df.at[i, 'Player'] = player_salary_df.at[i, 'First Name'] + \" \" +  player_salary_df.at[i, 'Last Name']\n",
    "# Drop first name, last name, and position\n",
    "player_salary_df.drop(columns=['First Name', 'Last Name', 'Pos'], inplace=True)"
   ]
  },
  {
   "cell_type": "code",
   "execution_count": 75,
   "id": "1ce7fc00-5330-4fa5-ba1e-f4536d83c86c",
   "metadata": {},
   "outputs": [
    {
     "data": {
      "text/html": [
       "<div>\n",
       "<style scoped>\n",
       "    .dataframe tbody tr th:only-of-type {\n",
       "        vertical-align: middle;\n",
       "    }\n",
       "\n",
       "    .dataframe tbody tr th {\n",
       "        vertical-align: top;\n",
       "    }\n",
       "\n",
       "    .dataframe thead th {\n",
       "        text-align: right;\n",
       "    }\n",
       "</style>\n",
       "<table border=\"1\" class=\"dataframe\">\n",
       "  <thead>\n",
       "    <tr style=\"text-align: right;\">\n",
       "      <th></th>\n",
       "      <th>Base Salary</th>\n",
       "      <th>Base Guaranteed Comp.</th>\n",
       "      <th>Year</th>\n",
       "      <th>Player</th>\n",
       "    </tr>\n",
       "  </thead>\n",
       "  <tbody>\n",
       "    <tr>\n",
       "      <th>0</th>\n",
       "      <td>36000</td>\n",
       "      <td>36000</td>\n",
       "      <td>2007</td>\n",
       "      <td>Nicholas Addlery</td>\n",
       "    </tr>\n",
       "    <tr>\n",
       "      <th>1</th>\n",
       "      <td>142500</td>\n",
       "      <td>142500</td>\n",
       "      <td>2007</td>\n",
       "      <td>Chris Albright</td>\n",
       "    </tr>\n",
       "    <tr>\n",
       "      <th>2</th>\n",
       "      <td>85000</td>\n",
       "      <td>108333</td>\n",
       "      <td>2007</td>\n",
       "      <td>Josmer Altidore</td>\n",
       "    </tr>\n",
       "    <tr>\n",
       "      <th>3</th>\n",
       "      <td>32819</td>\n",
       "      <td>46019</td>\n",
       "      <td>2007</td>\n",
       "      <td>Arturo Alvarez</td>\n",
       "    </tr>\n",
       "    <tr>\n",
       "      <th>4</th>\n",
       "      <td>1500000</td>\n",
       "      <td>1593750</td>\n",
       "      <td>2007</td>\n",
       "      <td>Juan Pablo Angel</td>\n",
       "    </tr>\n",
       "    <tr>\n",
       "      <th>...</th>\n",
       "      <td>...</td>\n",
       "      <td>...</td>\n",
       "      <td>...</td>\n",
       "      <td>...</td>\n",
       "    </tr>\n",
       "    <tr>\n",
       "      <th>8007</th>\n",
       "      <td>850000</td>\n",
       "      <td>850000</td>\n",
       "      <td>2020</td>\n",
       "      <td>Kaku</td>\n",
       "    </tr>\n",
       "    <tr>\n",
       "      <th>8008</th>\n",
       "      <td>198000</td>\n",
       "      <td>205500</td>\n",
       "      <td>2020</td>\n",
       "      <td>Robinho</td>\n",
       "    </tr>\n",
       "    <tr>\n",
       "      <th>8009</th>\n",
       "      <td>425000</td>\n",
       "      <td>476250</td>\n",
       "      <td>2020</td>\n",
       "      <td>Ilsinho</td>\n",
       "    </tr>\n",
       "    <tr>\n",
       "      <th>8010</th>\n",
       "      <td>320000</td>\n",
       "      <td>325000</td>\n",
       "      <td>2020</td>\n",
       "      <td>Judson</td>\n",
       "    </tr>\n",
       "    <tr>\n",
       "      <th>8011</th>\n",
       "      <td>300000</td>\n",
       "      <td>328750</td>\n",
       "      <td>2020</td>\n",
       "      <td>Auro</td>\n",
       "    </tr>\n",
       "  </tbody>\n",
       "</table>\n",
       "<p>7057 rows × 4 columns</p>\n",
       "</div>"
      ],
      "text/plain": [
       "     Base Salary Base Guaranteed Comp.  Year            Player\n",
       "0          36000                 36000  2007  Nicholas Addlery\n",
       "1         142500                142500  2007    Chris Albright\n",
       "2          85000                108333  2007   Josmer Altidore\n",
       "3          32819                 46019  2007    Arturo Alvarez\n",
       "4        1500000               1593750  2007  Juan Pablo Angel\n",
       "...          ...                   ...   ...               ...\n",
       "8007      850000                850000  2020              Kaku\n",
       "8008      198000                205500  2020           Robinho\n",
       "8009      425000                476250  2020           Ilsinho\n",
       "8010      320000                325000  2020            Judson\n",
       "8011      300000                328750  2020              Auro\n",
       "\n",
       "[7057 rows x 4 columns]"
      ]
     },
     "execution_count": 75,
     "metadata": {},
     "output_type": "execute_result"
    }
   ],
   "source": [
    "player_salary_df"
   ]
  },
  {
   "cell_type": "markdown",
   "id": "32104175-eb0d-4042-9e60-c043b00ec392",
   "metadata": {},
   "source": [
    "### String Matching\n",
    "Player names are not perfectly matching up between the player statistics and player salary dataframes, creating null values when I attempt to combine them. In order to at least reduce this, I'm utilizing rapid fuzz to match player names from the statistics dataframe to the name that most closely resembles it in the salary dataframe. "
   ]
  },
  {
   "cell_type": "markdown",
   "id": "bb300cd3-da46-4eaf-a72a-1ed7da659ff3",
   "metadata": {},
   "source": [
    "First, I create a normalize_string function to clean Player column strings so that I'm able to combine stats and salary dataframes on player and year columns."
   ]
  },
  {
   "cell_type": "code",
   "execution_count": 76,
   "id": "0d64fe24-ee0d-4ef1-ba6b-5d0e7ac9e40a",
   "metadata": {},
   "outputs": [],
   "source": [
    "#def normalize_string(string):\n",
    "#    normalized = unidecode(string)\n",
    "#    re.sub(r'[^A-Za-z0-9\\s]+', '', string)\n",
    "#    return re.sub(r'[^\\w\\s]', '', normalized)"
   ]
  },
  {
   "cell_type": "markdown",
   "id": "71d330fe-7e66-42b6-aa87-d0f623930d37",
   "metadata": {},
   "source": [
    "Next, I apply the function to player stats and salary dataframes."
   ]
  },
  {
   "cell_type": "code",
   "execution_count": 77,
   "id": "a60af116-5eda-400a-82d9-3ed70dec5317",
   "metadata": {},
   "outputs": [],
   "source": [
    "#player_stats_df['Player'] = player_stats_df['Player'].apply(normalize_string)\n",
    "#player_salary_df['Player'] = player_salary_df['Player'].apply(normalize_string)\n",
    "# change all strings to lowercase\n",
    "#player_stats_df['Player'] = player_stats_df['Player'].str.lower()\n",
    "#player_salary_df['Player'] = player_salary_df['Player'].str.lower()"
   ]
  },
  {
   "cell_type": "markdown",
   "id": "de8b857f-e736-4373-8974-cf2e9d242df1",
   "metadata": {},
   "source": [
    "I'm creating lists at the top here so that I can visualize how rapid fuzz is reassigning names from the player_stats_df to make sure there arent any errors. \n",
    "\n",
    "In order to use rapid fuzz here, I have to loop over every row in player_stats_df and then for each row, loop over every row in player_salary_df. \n",
    "\n",
    "I assign the variable similarity to the score created by the fuzz.ratio comparison of player name in player_stats_df and player_salary_df. \n",
    "\n",
    "Each time a new similarity score is higher than the previous high, the newest score is added to highest_similarity, and the corresponding player name in player_salary_df is assigned to closest_match.\n",
    "\n",
    "If, at the end of this process for each individual row in player_stats_df, highest_similarity is less than a score of .80, the name in player_stats_df stays the same. Otherwise, the player name in player_stats_df is reassigned to the closest match in player_salary_df. \n"
   ]
  },
  {
   "cell_type": "code",
   "execution_count": 78,
   "id": "c771235d-80aa-4a0f-8c47-96e0f69b391a",
   "metadata": {},
   "outputs": [],
   "source": [
    "#left_player_name = []\n",
    "#fuzz_player_name = []\n",
    "\n",
    "#for i, player in player_stats_df.iterrows():\n",
    "#    left_player = player['Player']\n",
    "#    left_player_name.append(left_player)\n",
    "#    closest_match = None\n",
    "#    highest_similarity = 0\n",
    "\n",
    "#    for _, right_player in player_salary_df.iterrows():\n",
    "#        right_player_1 = right_player['Player']\n",
    "#        similarity = fuzz.ratio(left_player, right_player_1)\n",
    "\n",
    "#        if similarity > highest_similarity:\n",
    "#            highest_similarity = similarity\n",
    "#            closest_match = right_player_1\n",
    "            \n",
    "#    if highest_similarity < 80: \n",
    "#        fuzz_player_name.append(left_player)\n",
    "#    else:\n",
    "#        fuzz_player_name.append(closest_match)\n",
    "#        player_stats_df.at[i, 'Player'] = closest_match"
   ]
  },
  {
   "cell_type": "markdown",
   "id": "e55adb34-9da8-4884-8b44-a15558c98175",
   "metadata": {},
   "source": [
    "This dataframe shows each player name from player_statistics_df and the player name it was matched to."
   ]
  },
  {
   "cell_type": "code",
   "execution_count": 79,
   "id": "f50defa6-37b9-43c5-b955-d3f32ce0e4cd",
   "metadata": {},
   "outputs": [],
   "source": [
    "#creating a fuzz df to see how fuzz did\n",
    "#fuzz_df = pd.DataFrame({'Left Name': left_player_name,\n",
    "#                        'Fuzz Name': fuzz_player_name})\n",
    "#fuzz_df"
   ]
  },
  {
   "cell_type": "markdown",
   "id": "59bd40ce-aa24-4f86-a722-7aa025b8f81e",
   "metadata": {},
   "source": [
    "There are still names that have not been matched perfectly, but it has been dropped down to 291 rows. While some seem to just be an issue of how a player's name was inputted, others are selecting different players. The best I can do here is to remove all 291 rows at this moment and move on.\n",
    "\n",
    "I created a bad_fuzz dataframe to see which names did not match up.\n",
    "\n",
    "Upon inspection, it looks like there is potentially good data getting thrown because names are incredibly close but cannot be matched properly between the player_statistics_df and player_salary_df. However, there are also bad matches where player names are changed to a different players name. I discovered this because I found null values in Base Salary when I combined the two dataframes. Because there wasnt a perfect match on a particular row, it corrupted some of the data and became useless information.\n",
    "\n",
    "I have to remove all rows in bad_fuzz in order to keep the integrity of the combined dataframe."
   ]
  },
  {
   "cell_type": "code",
   "execution_count": 80,
   "id": "c1d7a912-10f3-43c5-93cd-03b97c77ee32",
   "metadata": {},
   "outputs": [],
   "source": [
    "#bad_fuzz = fuzz_df[fuzz_df['Left Name'] != fuzz_df['Fuzz Name']]\n",
    "#bad_fuzz"
   ]
  },
  {
   "cell_type": "code",
   "execution_count": 81,
   "id": "5f66987b-aee3-47f4-acf8-ffadb9fb55ea",
   "metadata": {},
   "outputs": [],
   "source": [
    "# merging keeper stats and salary df's \n",
    "#keeper_stats_salaries_df = pd.merge(keeper_stats_df, keeper_salary_df, how='left',\n",
    "#                                    left_on=['Player', 'Year'], right_on=['Player', 'Year'])\n",
    "#keeper_stats_salaries_df                    "
   ]
  },
  {
   "cell_type": "code",
   "execution_count": 82,
   "id": "bf833844-a053-4e19-abc8-addfa38f075d",
   "metadata": {},
   "outputs": [],
   "source": [
    "# Some nulls in Salary\n",
    "#keeper_stats_salaries_df.isna().sum()"
   ]
  },
  {
   "cell_type": "code",
   "execution_count": 83,
   "id": "59c0688f-66a5-4954-926e-f3e2472f1255",
   "metadata": {},
   "outputs": [],
   "source": [
    "#player_stats_salaries_df = pd.merge(player_stats_df, player_salary_df, how='left', \n",
    "#                                    left_on=['Player', 'Year'], right_on=['Player', 'Year'])\n",
    "#player_stats_salaries_df"
   ]
  },
  {
   "cell_type": "code",
   "execution_count": 84,
   "id": "af93ad5a-9008-40e0-b58e-b3e79c1ccf9f",
   "metadata": {},
   "outputs": [],
   "source": [
    "#Some nulls to deal with\n",
    "#player_stats_salaries_df.isna().sum()"
   ]
  },
  {
   "cell_type": "code",
   "execution_count": 85,
   "id": "852cdcaa-e66b-4132-a521-d5d7c03c71cd",
   "metadata": {},
   "outputs": [],
   "source": [
    "#player_stats_salaries_df[player_stats_salaries_df['Base Salary'].isna()].head(30)"
   ]
  },
  {
   "cell_type": "code",
   "execution_count": 86,
   "id": "5c2d2bc1-da65-43bd-b867-ef81204fc7cd",
   "metadata": {},
   "outputs": [],
   "source": [
    "# Dropping all rows with player names in bad fuzz df\n",
    "#for i, player in player_stats_salaries_df.iterrows():\n",
    "#    if player['Player'] in bad_fuzz['Fuzz Name'].values:\n",
    "#        player_stats_salaries_df.drop(i, inplace=True)"
   ]
  },
  {
   "cell_type": "markdown",
   "id": "a2ad6df2-2218-4df8-9d9c-977ae9c3dea5",
   "metadata": {},
   "source": [
    "Even after dropping all names in bad_fuzz, there are still a small amount of nulls in Base Salary to deal with. I am going to drop these as well, but am still left with plenty of data."
   ]
  },
  {
   "cell_type": "code",
   "execution_count": 87,
   "id": "8d8b689e-5a8b-46e1-819d-6f9a3688f9df",
   "metadata": {},
   "outputs": [],
   "source": [
    "#player_stats_salaries_df.isna().sum()"
   ]
  },
  {
   "cell_type": "code",
   "execution_count": 88,
   "id": "521dce20-f3cb-49bd-a4b2-8de20445a9f6",
   "metadata": {},
   "outputs": [],
   "source": [
    "#player_stats_salaries_df[player_stats_salaries_df['Base Salary'].isna()]"
   ]
  },
  {
   "cell_type": "code",
   "execution_count": 89,
   "id": "0596ac9f-a51f-4c94-99c3-14dab6b8b6f7",
   "metadata": {},
   "outputs": [],
   "source": [
    "# Drop all rows where Base Salary is null\n",
    "#player_stats_salaries_df.dropna(subset='Base Salary',inplace = True)"
   ]
  },
  {
   "cell_type": "code",
   "execution_count": 90,
   "id": "f19a07e4-3047-4011-8eb7-58c5448a543d",
   "metadata": {},
   "outputs": [],
   "source": [
    "#player_stats_salaries_df.isna().sum()"
   ]
  },
  {
   "cell_type": "code",
   "execution_count": 91,
   "id": "95ac2bd8-0a34-41ec-b74c-7228fbd0c764",
   "metadata": {},
   "outputs": [],
   "source": [
    "#player_stats_salaries_df.info()"
   ]
  },
  {
   "cell_type": "code",
   "execution_count": 92,
   "id": "0e71fb0e-b3eb-492c-851a-758ce194db15",
   "metadata": {},
   "outputs": [],
   "source": [
    "#keeper_stats_salaries_df.isna().sum()"
   ]
  },
  {
   "cell_type": "code",
   "execution_count": 93,
   "id": "efadf4c2-289d-45cb-9474-f791c60f4565",
   "metadata": {},
   "outputs": [],
   "source": [
    "#Drop all rows where Base salary is null\n",
    "#keeper_stats_salaries_df.dropna(subset='Base Salary', inplace=True)"
   ]
  },
  {
   "cell_type": "markdown",
   "id": "1d26a745-6997-4478-a7e6-25db57ab6ef4",
   "metadata": {},
   "source": [
    "Running rapid fuzz took around an hour every time it would run so I turned player_stats_salaries_df and keeper_stats_salaries_df to csv files so that I could comment our rapid fuzz and run the entire notebook faster."
   ]
  },
  {
   "cell_type": "code",
   "execution_count": 94,
   "id": "5717a28b-0ff2-4b18-a7bc-f1abbebf4579",
   "metadata": {},
   "outputs": [],
   "source": [
    "#player_stats_salaries_df.to_csv('./data/final_player_stats.csv')"
   ]
  },
  {
   "cell_type": "code",
   "execution_count": 95,
   "id": "52acfa91-f1ee-4556-b7ad-700ff8305260",
   "metadata": {},
   "outputs": [],
   "source": [
    "player_stats_salaries_df = pd.read_csv('./data/final_player_stats.csv')"
   ]
  },
  {
   "cell_type": "markdown",
   "id": "ffa97e56-83cf-4294-ac59-e8b17432d291",
   "metadata": {},
   "source": [
    "### Adding Features"
   ]
  },
  {
   "cell_type": "markdown",
   "id": "c54d35aa-6621-4b71-9c80-b5918fc85efb",
   "metadata": {},
   "source": [
    " I'd like to use position to as a feature but need to break it down into simpler components. If a player was given two positions I used whichever came first as their primary position and changed the entry to that."
   ]
  },
  {
   "cell_type": "code",
   "execution_count": 96,
   "id": "596e650d-91a7-4893-ad75-33e1ee76eb22",
   "metadata": {},
   "outputs": [],
   "source": [
    "for i in range(len(player_stats_salaries_df)):\n",
    "    pos = player_stats_salaries_df.at[i, 'POS']\n",
    "    if pos == 'M-F':\n",
    "        player_stats_salaries_df.at[i, 'POS'] = 'M'\n",
    "    elif pos == 'D-M':\n",
    "        player_stats_salaries_df.at[i, 'POS'] = 'D'\n",
    "    elif pos == 'F-M':\n",
    "        player_stats_salaries_df.at[i, 'POS'] = 'F'\n",
    "    elif pos == 'M-D':\n",
    "        player_stats_salaries_df.at[i, 'POS'] = 'M'"
   ]
  },
  {
   "cell_type": "markdown",
   "id": "2f0e4a3f-f92c-4aa1-b008-4c4fa6d8ae10",
   "metadata": {},
   "source": [
    "Utilizing OneHotEncoder to set the values of positions in the position column to boolean value."
   ]
  },
  {
   "cell_type": "code",
   "execution_count": 97,
   "id": "6959735f-214c-4169-8a0c-5494a0017289",
   "metadata": {},
   "outputs": [
    {
     "data": {
      "text/html": [
       "<div>\n",
       "<style scoped>\n",
       "    .dataframe tbody tr th:only-of-type {\n",
       "        vertical-align: middle;\n",
       "    }\n",
       "\n",
       "    .dataframe tbody tr th {\n",
       "        vertical-align: top;\n",
       "    }\n",
       "\n",
       "    .dataframe thead th {\n",
       "        text-align: right;\n",
       "    }\n",
       "</style>\n",
       "<table border=\"1\" class=\"dataframe\">\n",
       "  <thead>\n",
       "    <tr style=\"text-align: right;\">\n",
       "      <th></th>\n",
       "      <th>POS_D</th>\n",
       "      <th>POS_F</th>\n",
       "      <th>POS_M</th>\n",
       "    </tr>\n",
       "  </thead>\n",
       "  <tbody>\n",
       "    <tr>\n",
       "      <th>0</th>\n",
       "      <td>0.0</td>\n",
       "      <td>1.0</td>\n",
       "      <td>0.0</td>\n",
       "    </tr>\n",
       "    <tr>\n",
       "      <th>1</th>\n",
       "      <td>0.0</td>\n",
       "      <td>1.0</td>\n",
       "      <td>0.0</td>\n",
       "    </tr>\n",
       "    <tr>\n",
       "      <th>2</th>\n",
       "      <td>0.0</td>\n",
       "      <td>1.0</td>\n",
       "      <td>0.0</td>\n",
       "    </tr>\n",
       "    <tr>\n",
       "      <th>3</th>\n",
       "      <td>0.0</td>\n",
       "      <td>1.0</td>\n",
       "      <td>0.0</td>\n",
       "    </tr>\n",
       "    <tr>\n",
       "      <th>4</th>\n",
       "      <td>0.0</td>\n",
       "      <td>1.0</td>\n",
       "      <td>0.0</td>\n",
       "    </tr>\n",
       "    <tr>\n",
       "      <th>...</th>\n",
       "      <td>...</td>\n",
       "      <td>...</td>\n",
       "      <td>...</td>\n",
       "    </tr>\n",
       "    <tr>\n",
       "      <th>6156</th>\n",
       "      <td>1.0</td>\n",
       "      <td>0.0</td>\n",
       "      <td>0.0</td>\n",
       "    </tr>\n",
       "    <tr>\n",
       "      <th>6157</th>\n",
       "      <td>0.0</td>\n",
       "      <td>0.0</td>\n",
       "      <td>1.0</td>\n",
       "    </tr>\n",
       "    <tr>\n",
       "      <th>6158</th>\n",
       "      <td>0.0</td>\n",
       "      <td>0.0</td>\n",
       "      <td>1.0</td>\n",
       "    </tr>\n",
       "    <tr>\n",
       "      <th>6159</th>\n",
       "      <td>0.0</td>\n",
       "      <td>0.0</td>\n",
       "      <td>1.0</td>\n",
       "    </tr>\n",
       "    <tr>\n",
       "      <th>6160</th>\n",
       "      <td>1.0</td>\n",
       "      <td>0.0</td>\n",
       "      <td>0.0</td>\n",
       "    </tr>\n",
       "  </tbody>\n",
       "</table>\n",
       "<p>6161 rows × 3 columns</p>\n",
       "</div>"
      ],
      "text/plain": [
       "      POS_D  POS_F  POS_M\n",
       "0       0.0    1.0    0.0\n",
       "1       0.0    1.0    0.0\n",
       "2       0.0    1.0    0.0\n",
       "3       0.0    1.0    0.0\n",
       "4       0.0    1.0    0.0\n",
       "...     ...    ...    ...\n",
       "6156    1.0    0.0    0.0\n",
       "6157    0.0    0.0    1.0\n",
       "6158    0.0    0.0    1.0\n",
       "6159    0.0    0.0    1.0\n",
       "6160    1.0    0.0    0.0\n",
       "\n",
       "[6161 rows x 3 columns]"
      ]
     },
     "execution_count": 97,
     "metadata": {},
     "output_type": "execute_result"
    }
   ],
   "source": [
    "# One hot encoding the three positions \n",
    "encoder = OneHotEncoder()\n",
    "encoded_positions = encoder.fit_transform(player_stats_salaries_df[['POS']])\n",
    "encoded_positions_df = pd.DataFrame(encoded_positions.toarray(), columns=encoder.get_feature_names_out(['POS']))\n",
    "encoded_positions_df"
   ]
  },
  {
   "cell_type": "markdown",
   "id": "b44240e5-40e6-439d-8653-0c723cc15598",
   "metadata": {},
   "source": [
    "Now I can create new columns based on position in player_stats_salaries_df utilizing the position columns in encoded_positions_df"
   ]
  },
  {
   "cell_type": "code",
   "execution_count": 98,
   "id": "147d33e2-48a8-41bf-b758-d016a9808179",
   "metadata": {},
   "outputs": [],
   "source": [
    "player_stats_salaries_df['Defender'] = encoded_positions_df['POS_D']\n",
    "player_stats_salaries_df['Forward'] = encoded_positions_df['POS_F']\n",
    "player_stats_salaries_df['Midfielder'] = encoded_positions_df['POS_M']\n",
    "player_stats_salaries_df.drop(columns='POS', inplace=True)"
   ]
  },
  {
   "cell_type": "code",
   "execution_count": 99,
   "id": "d528f3b5-8b07-4886-94c2-4ab8ab66b458",
   "metadata": {},
   "outputs": [
    {
     "data": {
      "text/html": [
       "<div>\n",
       "<style scoped>\n",
       "    .dataframe tbody tr th:only-of-type {\n",
       "        vertical-align: middle;\n",
       "    }\n",
       "\n",
       "    .dataframe tbody tr th {\n",
       "        vertical-align: top;\n",
       "    }\n",
       "\n",
       "    .dataframe thead th {\n",
       "        text-align: right;\n",
       "    }\n",
       "</style>\n",
       "<table border=\"1\" class=\"dataframe\">\n",
       "  <thead>\n",
       "    <tr style=\"text-align: right;\">\n",
       "      <th></th>\n",
       "      <th>Unnamed: 0</th>\n",
       "      <th>Player</th>\n",
       "      <th>Club</th>\n",
       "      <th>GP</th>\n",
       "      <th>GS</th>\n",
       "      <th>MINS</th>\n",
       "      <th>G</th>\n",
       "      <th>A</th>\n",
       "      <th>SHTS</th>\n",
       "      <th>SOG</th>\n",
       "      <th>...</th>\n",
       "      <th>RC</th>\n",
       "      <th>SOG%</th>\n",
       "      <th>Year</th>\n",
       "      <th>Season</th>\n",
       "      <th>Postseason</th>\n",
       "      <th>Base Salary</th>\n",
       "      <th>Base Guaranteed Comp.</th>\n",
       "      <th>Defender</th>\n",
       "      <th>Forward</th>\n",
       "      <th>Midfielder</th>\n",
       "    </tr>\n",
       "  </thead>\n",
       "  <tbody>\n",
       "    <tr>\n",
       "      <th>0</th>\n",
       "      <td>0</td>\n",
       "      <td>luciano emilio</td>\n",
       "      <td>DC</td>\n",
       "      <td>29</td>\n",
       "      <td>28</td>\n",
       "      <td>2410</td>\n",
       "      <td>20</td>\n",
       "      <td>1</td>\n",
       "      <td>79</td>\n",
       "      <td>47</td>\n",
       "      <td>...</td>\n",
       "      <td>0</td>\n",
       "      <td>59.49</td>\n",
       "      <td>2007</td>\n",
       "      <td>reg</td>\n",
       "      <td>1</td>\n",
       "      <td>265000.0</td>\n",
       "      <td>293125.0</td>\n",
       "      <td>0.0</td>\n",
       "      <td>1.0</td>\n",
       "      <td>0.0</td>\n",
       "    </tr>\n",
       "    <tr>\n",
       "      <th>1</th>\n",
       "      <td>1</td>\n",
       "      <td>juan pablo angel</td>\n",
       "      <td>NY</td>\n",
       "      <td>24</td>\n",
       "      <td>24</td>\n",
       "      <td>2125</td>\n",
       "      <td>19</td>\n",
       "      <td>5</td>\n",
       "      <td>97</td>\n",
       "      <td>53</td>\n",
       "      <td>...</td>\n",
       "      <td>1</td>\n",
       "      <td>54.64</td>\n",
       "      <td>2007</td>\n",
       "      <td>reg</td>\n",
       "      <td>1</td>\n",
       "      <td>1500000.0</td>\n",
       "      <td>1593750.0</td>\n",
       "      <td>0.0</td>\n",
       "      <td>1.0</td>\n",
       "      <td>0.0</td>\n",
       "    </tr>\n",
       "    <tr>\n",
       "      <th>2</th>\n",
       "      <td>2</td>\n",
       "      <td>taylor twellman</td>\n",
       "      <td>NE</td>\n",
       "      <td>26</td>\n",
       "      <td>25</td>\n",
       "      <td>2283</td>\n",
       "      <td>16</td>\n",
       "      <td>3</td>\n",
       "      <td>90</td>\n",
       "      <td>55</td>\n",
       "      <td>...</td>\n",
       "      <td>0</td>\n",
       "      <td>61.11</td>\n",
       "      <td>2007</td>\n",
       "      <td>reg</td>\n",
       "      <td>1</td>\n",
       "      <td>325008.0</td>\n",
       "      <td>350008.0</td>\n",
       "      <td>0.0</td>\n",
       "      <td>1.0</td>\n",
       "      <td>0.0</td>\n",
       "    </tr>\n",
       "    <tr>\n",
       "      <th>3</th>\n",
       "      <td>4</td>\n",
       "      <td>maykel galindo</td>\n",
       "      <td>CHV</td>\n",
       "      <td>28</td>\n",
       "      <td>24</td>\n",
       "      <td>2021</td>\n",
       "      <td>12</td>\n",
       "      <td>5</td>\n",
       "      <td>55</td>\n",
       "      <td>28</td>\n",
       "      <td>...</td>\n",
       "      <td>0</td>\n",
       "      <td>50.91</td>\n",
       "      <td>2007</td>\n",
       "      <td>reg</td>\n",
       "      <td>1</td>\n",
       "      <td>72500.0</td>\n",
       "      <td>72500.0</td>\n",
       "      <td>0.0</td>\n",
       "      <td>1.0</td>\n",
       "      <td>0.0</td>\n",
       "    </tr>\n",
       "    <tr>\n",
       "      <th>4</th>\n",
       "      <td>5</td>\n",
       "      <td>ante razov</td>\n",
       "      <td>CHV</td>\n",
       "      <td>26</td>\n",
       "      <td>24</td>\n",
       "      <td>2041</td>\n",
       "      <td>11</td>\n",
       "      <td>8</td>\n",
       "      <td>85</td>\n",
       "      <td>42</td>\n",
       "      <td>...</td>\n",
       "      <td>0</td>\n",
       "      <td>49.41</td>\n",
       "      <td>2007</td>\n",
       "      <td>reg</td>\n",
       "      <td>1</td>\n",
       "      <td>245000.0</td>\n",
       "      <td>248750.0</td>\n",
       "      <td>0.0</td>\n",
       "      <td>1.0</td>\n",
       "      <td>0.0</td>\n",
       "    </tr>\n",
       "    <tr>\n",
       "      <th>...</th>\n",
       "      <td>...</td>\n",
       "      <td>...</td>\n",
       "      <td>...</td>\n",
       "      <td>...</td>\n",
       "      <td>...</td>\n",
       "      <td>...</td>\n",
       "      <td>...</td>\n",
       "      <td>...</td>\n",
       "      <td>...</td>\n",
       "      <td>...</td>\n",
       "      <td>...</td>\n",
       "      <td>...</td>\n",
       "      <td>...</td>\n",
       "      <td>...</td>\n",
       "      <td>...</td>\n",
       "      <td>...</td>\n",
       "      <td>...</td>\n",
       "      <td>...</td>\n",
       "      <td>...</td>\n",
       "      <td>...</td>\n",
       "      <td>...</td>\n",
       "    </tr>\n",
       "    <tr>\n",
       "      <th>6156</th>\n",
       "      <td>7237</td>\n",
       "      <td>nedum onuoha</td>\n",
       "      <td>RSL</td>\n",
       "      <td>15</td>\n",
       "      <td>15</td>\n",
       "      <td>1318</td>\n",
       "      <td>0</td>\n",
       "      <td>0</td>\n",
       "      <td>12</td>\n",
       "      <td>2</td>\n",
       "      <td>...</td>\n",
       "      <td>0</td>\n",
       "      <td>16.67</td>\n",
       "      <td>2020</td>\n",
       "      <td>reg</td>\n",
       "      <td>0</td>\n",
       "      <td>549996.0</td>\n",
       "      <td>603996.0</td>\n",
       "      <td>1.0</td>\n",
       "      <td>0.0</td>\n",
       "      <td>0.0</td>\n",
       "    </tr>\n",
       "    <tr>\n",
       "      <th>6157</th>\n",
       "      <td>7238</td>\n",
       "      <td>sacha kljestan</td>\n",
       "      <td>LA</td>\n",
       "      <td>15</td>\n",
       "      <td>8</td>\n",
       "      <td>769</td>\n",
       "      <td>0</td>\n",
       "      <td>0</td>\n",
       "      <td>13</td>\n",
       "      <td>4</td>\n",
       "      <td>...</td>\n",
       "      <td>0</td>\n",
       "      <td>30.77</td>\n",
       "      <td>2020</td>\n",
       "      <td>reg</td>\n",
       "      <td>0</td>\n",
       "      <td>307000.0</td>\n",
       "      <td>307000.0</td>\n",
       "      <td>0.0</td>\n",
       "      <td>0.0</td>\n",
       "      <td>1.0</td>\n",
       "    </tr>\n",
       "    <tr>\n",
       "      <th>6158</th>\n",
       "      <td>7239</td>\n",
       "      <td>judson</td>\n",
       "      <td>SJ</td>\n",
       "      <td>21</td>\n",
       "      <td>20</td>\n",
       "      <td>1701</td>\n",
       "      <td>0</td>\n",
       "      <td>0</td>\n",
       "      <td>14</td>\n",
       "      <td>1</td>\n",
       "      <td>...</td>\n",
       "      <td>0</td>\n",
       "      <td>7.14</td>\n",
       "      <td>2020</td>\n",
       "      <td>reg</td>\n",
       "      <td>1</td>\n",
       "      <td>320000.0</td>\n",
       "      <td>325000.0</td>\n",
       "      <td>0.0</td>\n",
       "      <td>0.0</td>\n",
       "      <td>1.0</td>\n",
       "    </tr>\n",
       "    <tr>\n",
       "      <th>6159</th>\n",
       "      <td>7241</td>\n",
       "      <td>kelyn rowe</td>\n",
       "      <td>NE</td>\n",
       "      <td>16</td>\n",
       "      <td>10</td>\n",
       "      <td>896</td>\n",
       "      <td>0</td>\n",
       "      <td>0</td>\n",
       "      <td>17</td>\n",
       "      <td>4</td>\n",
       "      <td>...</td>\n",
       "      <td>0</td>\n",
       "      <td>23.53</td>\n",
       "      <td>2020</td>\n",
       "      <td>reg</td>\n",
       "      <td>1</td>\n",
       "      <td>310610.0</td>\n",
       "      <td>310610.0</td>\n",
       "      <td>0.0</td>\n",
       "      <td>0.0</td>\n",
       "      <td>1.0</td>\n",
       "    </tr>\n",
       "    <tr>\n",
       "      <th>6160</th>\n",
       "      <td>7243</td>\n",
       "      <td>maxime chanot</td>\n",
       "      <td>NYC</td>\n",
       "      <td>20</td>\n",
       "      <td>20</td>\n",
       "      <td>1712</td>\n",
       "      <td>0</td>\n",
       "      <td>0</td>\n",
       "      <td>19</td>\n",
       "      <td>4</td>\n",
       "      <td>...</td>\n",
       "      <td>1</td>\n",
       "      <td>21.05</td>\n",
       "      <td>2020</td>\n",
       "      <td>reg</td>\n",
       "      <td>1</td>\n",
       "      <td>725000.0</td>\n",
       "      <td>725000.0</td>\n",
       "      <td>1.0</td>\n",
       "      <td>0.0</td>\n",
       "      <td>0.0</td>\n",
       "    </tr>\n",
       "  </tbody>\n",
       "</table>\n",
       "<p>6161 rows × 34 columns</p>\n",
       "</div>"
      ],
      "text/plain": [
       "      Unnamed: 0            Player Club  GP  GS  MINS   G  A  SHTS  SOG  ...  \\\n",
       "0              0    luciano emilio  DC   29  28  2410  20  1    79   47  ...   \n",
       "1              1  juan pablo angel  NY   24  24  2125  19  5    97   53  ...   \n",
       "2              2   taylor twellman  NE   26  25  2283  16  3    90   55  ...   \n",
       "3              4    maykel galindo  CHV  28  24  2021  12  5    55   28  ...   \n",
       "4              5        ante razov  CHV  26  24  2041  11  8    85   42  ...   \n",
       "...          ...               ...  ...  ..  ..   ...  .. ..   ...  ...  ...   \n",
       "6156        7237      nedum onuoha  RSL  15  15  1318   0  0    12    2  ...   \n",
       "6157        7238    sacha kljestan   LA  15   8   769   0  0    13    4  ...   \n",
       "6158        7239            judson   SJ  21  20  1701   0  0    14    1  ...   \n",
       "6159        7241        kelyn rowe   NE  16  10   896   0  0    17    4  ...   \n",
       "6160        7243     maxime chanot  NYC  20  20  1712   0  0    19    4  ...   \n",
       "\n",
       "      RC   SOG%  Year  Season  Postseason  Base Salary  Base Guaranteed Comp.  \\\n",
       "0      0  59.49  2007     reg           1     265000.0               293125.0   \n",
       "1      1  54.64  2007     reg           1    1500000.0              1593750.0   \n",
       "2      0  61.11  2007     reg           1     325008.0               350008.0   \n",
       "3      0  50.91  2007     reg           1      72500.0                72500.0   \n",
       "4      0  49.41  2007     reg           1     245000.0               248750.0   \n",
       "...   ..    ...   ...     ...         ...          ...                    ...   \n",
       "6156   0  16.67  2020     reg           0     549996.0               603996.0   \n",
       "6157   0  30.77  2020     reg           0     307000.0               307000.0   \n",
       "6158   0   7.14  2020     reg           1     320000.0               325000.0   \n",
       "6159   0  23.53  2020     reg           1     310610.0               310610.0   \n",
       "6160   1  21.05  2020     reg           1     725000.0               725000.0   \n",
       "\n",
       "      Defender  Forward  Midfielder  \n",
       "0          0.0      1.0         0.0  \n",
       "1          0.0      1.0         0.0  \n",
       "2          0.0      1.0         0.0  \n",
       "3          0.0      1.0         0.0  \n",
       "4          0.0      1.0         0.0  \n",
       "...        ...      ...         ...  \n",
       "6156       1.0      0.0         0.0  \n",
       "6157       0.0      0.0         1.0  \n",
       "6158       0.0      0.0         1.0  \n",
       "6159       0.0      0.0         1.0  \n",
       "6160       1.0      0.0         0.0  \n",
       "\n",
       "[6161 rows x 34 columns]"
      ]
     },
     "execution_count": 99,
     "metadata": {},
     "output_type": "execute_result"
    }
   ],
   "source": [
    "player_stats_salaries_df"
   ]
  },
  {
   "cell_type": "markdown",
   "id": "83b4631b-439d-445e-ab56-84a70d5e4df9",
   "metadata": {},
   "source": [
    "I am creating a minimum salary column in order to remove all players whose salary falls below the official minimum salary set by the MLS. There are many different categories of contracts and this information was not readily accesssible, so I'd like to make a comparison of players between the minimum and designated player salary."
   ]
  },
  {
   "cell_type": "code",
   "execution_count": 100,
   "id": "d18ad258-ac62-4cd0-980b-eb6495bf0130",
   "metadata": {},
   "outputs": [],
   "source": [
    "# create minimum_salary dictionary to apply to determine if player salary is below the minimum.\n",
    "minimum_salary = {2007: 30000, 2008: 33000, 2009: 34000, 2010: 40000, 2011: 42000, 2012: 45000, 2013: 46500,\n",
    "                  2014: 48500, 2015: 60000, 2016: 62500, 2017: 65000, 2018: 67500, 2019: 70250, 2020: 81375}\n",
    "\n",
    "player_stats_salaries_df['Minimum_Salary'] = player_stats_salaries_df['Year'].apply(lambda year: minimum_salary.get(year, 0))\n",
    "\n"
   ]
  },
  {
   "cell_type": "code",
   "execution_count": 101,
   "id": "353f1bf0-c561-457b-86a5-6cf9811fb38a",
   "metadata": {},
   "outputs": [
    {
     "data": {
      "text/html": [
       "<div>\n",
       "<style scoped>\n",
       "    .dataframe tbody tr th:only-of-type {\n",
       "        vertical-align: middle;\n",
       "    }\n",
       "\n",
       "    .dataframe tbody tr th {\n",
       "        vertical-align: top;\n",
       "    }\n",
       "\n",
       "    .dataframe thead th {\n",
       "        text-align: right;\n",
       "    }\n",
       "</style>\n",
       "<table border=\"1\" class=\"dataframe\">\n",
       "  <thead>\n",
       "    <tr style=\"text-align: right;\">\n",
       "      <th></th>\n",
       "      <th>Unnamed: 0</th>\n",
       "      <th>Player</th>\n",
       "      <th>Club</th>\n",
       "      <th>GP</th>\n",
       "      <th>GS</th>\n",
       "      <th>MINS</th>\n",
       "      <th>G</th>\n",
       "      <th>A</th>\n",
       "      <th>SHTS</th>\n",
       "      <th>SOG</th>\n",
       "      <th>...</th>\n",
       "      <th>SOG%</th>\n",
       "      <th>Year</th>\n",
       "      <th>Season</th>\n",
       "      <th>Postseason</th>\n",
       "      <th>Base Salary</th>\n",
       "      <th>Base Guaranteed Comp.</th>\n",
       "      <th>Defender</th>\n",
       "      <th>Forward</th>\n",
       "      <th>Midfielder</th>\n",
       "      <th>Minimum_Salary</th>\n",
       "    </tr>\n",
       "  </thead>\n",
       "  <tbody>\n",
       "    <tr>\n",
       "      <th>33</th>\n",
       "      <td>42</td>\n",
       "      <td>adam cristman</td>\n",
       "      <td>NE</td>\n",
       "      <td>28</td>\n",
       "      <td>14</td>\n",
       "      <td>1421</td>\n",
       "      <td>4</td>\n",
       "      <td>4</td>\n",
       "      <td>40</td>\n",
       "      <td>16</td>\n",
       "      <td>...</td>\n",
       "      <td>40.00</td>\n",
       "      <td>2007</td>\n",
       "      <td>reg</td>\n",
       "      <td>1</td>\n",
       "      <td>17700.0</td>\n",
       "      <td>17700.0</td>\n",
       "      <td>0.0</td>\n",
       "      <td>1.0</td>\n",
       "      <td>0.0</td>\n",
       "      <td>30000</td>\n",
       "    </tr>\n",
       "    <tr>\n",
       "      <th>71</th>\n",
       "      <td>85</td>\n",
       "      <td>colin clark</td>\n",
       "      <td>COL</td>\n",
       "      <td>16</td>\n",
       "      <td>16</td>\n",
       "      <td>1321</td>\n",
       "      <td>2</td>\n",
       "      <td>2</td>\n",
       "      <td>26</td>\n",
       "      <td>5</td>\n",
       "      <td>...</td>\n",
       "      <td>19.23</td>\n",
       "      <td>2007</td>\n",
       "      <td>reg</td>\n",
       "      <td>0</td>\n",
       "      <td>17700.0</td>\n",
       "      <td>17700.0</td>\n",
       "      <td>0.0</td>\n",
       "      <td>0.0</td>\n",
       "      <td>1.0</td>\n",
       "      <td>30000</td>\n",
       "    </tr>\n",
       "    <tr>\n",
       "      <th>76</th>\n",
       "      <td>90</td>\n",
       "      <td>kyle brown</td>\n",
       "      <td>RSL</td>\n",
       "      <td>8</td>\n",
       "      <td>3</td>\n",
       "      <td>286</td>\n",
       "      <td>2</td>\n",
       "      <td>0</td>\n",
       "      <td>7</td>\n",
       "      <td>4</td>\n",
       "      <td>...</td>\n",
       "      <td>57.14</td>\n",
       "      <td>2007</td>\n",
       "      <td>reg</td>\n",
       "      <td>0</td>\n",
       "      <td>17700.0</td>\n",
       "      <td>17700.0</td>\n",
       "      <td>0.0</td>\n",
       "      <td>1.0</td>\n",
       "      <td>0.0</td>\n",
       "      <td>30000</td>\n",
       "    </tr>\n",
       "    <tr>\n",
       "      <th>106</th>\n",
       "      <td>127</td>\n",
       "      <td>jeff curtin</td>\n",
       "      <td>CHI</td>\n",
       "      <td>3</td>\n",
       "      <td>3</td>\n",
       "      <td>248</td>\n",
       "      <td>1</td>\n",
       "      <td>0</td>\n",
       "      <td>2</td>\n",
       "      <td>1</td>\n",
       "      <td>...</td>\n",
       "      <td>50.00</td>\n",
       "      <td>2007</td>\n",
       "      <td>reg</td>\n",
       "      <td>1</td>\n",
       "      <td>12900.0</td>\n",
       "      <td>12900.0</td>\n",
       "      <td>1.0</td>\n",
       "      <td>0.0</td>\n",
       "      <td>0.0</td>\n",
       "      <td>30000</td>\n",
       "    </tr>\n",
       "    <tr>\n",
       "      <th>109</th>\n",
       "      <td>131</td>\n",
       "      <td>floyd franks</td>\n",
       "      <td>CHI</td>\n",
       "      <td>7</td>\n",
       "      <td>2</td>\n",
       "      <td>223</td>\n",
       "      <td>1</td>\n",
       "      <td>0</td>\n",
       "      <td>3</td>\n",
       "      <td>1</td>\n",
       "      <td>...</td>\n",
       "      <td>33.33</td>\n",
       "      <td>2007</td>\n",
       "      <td>reg</td>\n",
       "      <td>1</td>\n",
       "      <td>17700.0</td>\n",
       "      <td>17700.0</td>\n",
       "      <td>0.0</td>\n",
       "      <td>0.0</td>\n",
       "      <td>1.0</td>\n",
       "      <td>30000</td>\n",
       "    </tr>\n",
       "    <tr>\n",
       "      <th>...</th>\n",
       "      <td>...</td>\n",
       "      <td>...</td>\n",
       "      <td>...</td>\n",
       "      <td>...</td>\n",
       "      <td>...</td>\n",
       "      <td>...</td>\n",
       "      <td>...</td>\n",
       "      <td>...</td>\n",
       "      <td>...</td>\n",
       "      <td>...</td>\n",
       "      <td>...</td>\n",
       "      <td>...</td>\n",
       "      <td>...</td>\n",
       "      <td>...</td>\n",
       "      <td>...</td>\n",
       "      <td>...</td>\n",
       "      <td>...</td>\n",
       "      <td>...</td>\n",
       "      <td>...</td>\n",
       "      <td>...</td>\n",
       "      <td>...</td>\n",
       "    </tr>\n",
       "    <tr>\n",
       "      <th>6106</th>\n",
       "      <td>7182</td>\n",
       "      <td>tah brian anunga</td>\n",
       "      <td>NSH</td>\n",
       "      <td>14</td>\n",
       "      <td>8</td>\n",
       "      <td>779</td>\n",
       "      <td>0</td>\n",
       "      <td>0</td>\n",
       "      <td>3</td>\n",
       "      <td>0</td>\n",
       "      <td>...</td>\n",
       "      <td>0.00</td>\n",
       "      <td>2020</td>\n",
       "      <td>reg</td>\n",
       "      <td>1</td>\n",
       "      <td>63547.0</td>\n",
       "      <td>63547.0</td>\n",
       "      <td>0.0</td>\n",
       "      <td>0.0</td>\n",
       "      <td>1.0</td>\n",
       "      <td>81375</td>\n",
       "    </tr>\n",
       "    <tr>\n",
       "      <th>6108</th>\n",
       "      <td>7184</td>\n",
       "      <td>kamal miller</td>\n",
       "      <td>ORL</td>\n",
       "      <td>12</td>\n",
       "      <td>9</td>\n",
       "      <td>805</td>\n",
       "      <td>0</td>\n",
       "      <td>0</td>\n",
       "      <td>3</td>\n",
       "      <td>0</td>\n",
       "      <td>...</td>\n",
       "      <td>0.00</td>\n",
       "      <td>2020</td>\n",
       "      <td>reg</td>\n",
       "      <td>1</td>\n",
       "      <td>63547.0</td>\n",
       "      <td>63547.0</td>\n",
       "      <td>1.0</td>\n",
       "      <td>0.0</td>\n",
       "      <td>0.0</td>\n",
       "      <td>81375</td>\n",
       "    </tr>\n",
       "    <tr>\n",
       "      <th>6118</th>\n",
       "      <td>7194</td>\n",
       "      <td>alan winn</td>\n",
       "      <td>NSH</td>\n",
       "      <td>7</td>\n",
       "      <td>1</td>\n",
       "      <td>239</td>\n",
       "      <td>0</td>\n",
       "      <td>0</td>\n",
       "      <td>4</td>\n",
       "      <td>1</td>\n",
       "      <td>...</td>\n",
       "      <td>25.00</td>\n",
       "      <td>2020</td>\n",
       "      <td>reg</td>\n",
       "      <td>1</td>\n",
       "      <td>63547.0</td>\n",
       "      <td>63547.0</td>\n",
       "      <td>0.0</td>\n",
       "      <td>1.0</td>\n",
       "      <td>0.0</td>\n",
       "      <td>81375</td>\n",
       "    </tr>\n",
       "    <tr>\n",
       "      <th>6119</th>\n",
       "      <td>7195</td>\n",
       "      <td>laurence wyke</td>\n",
       "      <td>ATL</td>\n",
       "      <td>7</td>\n",
       "      <td>2</td>\n",
       "      <td>226</td>\n",
       "      <td>0</td>\n",
       "      <td>0</td>\n",
       "      <td>4</td>\n",
       "      <td>1</td>\n",
       "      <td>...</td>\n",
       "      <td>25.00</td>\n",
       "      <td>2020</td>\n",
       "      <td>reg</td>\n",
       "      <td>0</td>\n",
       "      <td>63547.0</td>\n",
       "      <td>63547.0</td>\n",
       "      <td>1.0</td>\n",
       "      <td>0.0</td>\n",
       "      <td>0.0</td>\n",
       "      <td>81375</td>\n",
       "    </tr>\n",
       "    <tr>\n",
       "      <th>6131</th>\n",
       "      <td>7208</td>\n",
       "      <td>sebastian berhalter</td>\n",
       "      <td>CLB</td>\n",
       "      <td>9</td>\n",
       "      <td>4</td>\n",
       "      <td>395</td>\n",
       "      <td>0</td>\n",
       "      <td>0</td>\n",
       "      <td>6</td>\n",
       "      <td>0</td>\n",
       "      <td>...</td>\n",
       "      <td>0.00</td>\n",
       "      <td>2020</td>\n",
       "      <td>reg</td>\n",
       "      <td>1</td>\n",
       "      <td>75000.0</td>\n",
       "      <td>76250.0</td>\n",
       "      <td>0.0</td>\n",
       "      <td>0.0</td>\n",
       "      <td>1.0</td>\n",
       "      <td>81375</td>\n",
       "    </tr>\n",
       "  </tbody>\n",
       "</table>\n",
       "<p>794 rows × 35 columns</p>\n",
       "</div>"
      ],
      "text/plain": [
       "      Unnamed: 0               Player Club  GP  GS  MINS  G  A  SHTS  SOG  \\\n",
       "33            42        adam cristman  NE   28  14  1421  4  4    40   16   \n",
       "71            85          colin clark  COL  16  16  1321  2  2    26    5   \n",
       "76            90           kyle brown  RSL   8   3   286  2  0     7    4   \n",
       "106          127          jeff curtin  CHI   3   3   248  1  0     2    1   \n",
       "109          131         floyd franks  CHI   7   2   223  1  0     3    1   \n",
       "...          ...                  ...  ...  ..  ..   ... .. ..   ...  ...   \n",
       "6106        7182     tah brian anunga  NSH  14   8   779  0  0     3    0   \n",
       "6108        7184         kamal miller  ORL  12   9   805  0  0     3    0   \n",
       "6118        7194            alan winn  NSH   7   1   239  0  0     4    1   \n",
       "6119        7195        laurence wyke  ATL   7   2   226  0  0     4    1   \n",
       "6131        7208  sebastian berhalter  CLB   9   4   395  0  0     6    0   \n",
       "\n",
       "      ...   SOG%  Year  Season  Postseason  Base Salary  \\\n",
       "33    ...  40.00  2007     reg           1      17700.0   \n",
       "71    ...  19.23  2007     reg           0      17700.0   \n",
       "76    ...  57.14  2007     reg           0      17700.0   \n",
       "106   ...  50.00  2007     reg           1      12900.0   \n",
       "109   ...  33.33  2007     reg           1      17700.0   \n",
       "...   ...    ...   ...     ...         ...          ...   \n",
       "6106  ...   0.00  2020     reg           1      63547.0   \n",
       "6108  ...   0.00  2020     reg           1      63547.0   \n",
       "6118  ...  25.00  2020     reg           1      63547.0   \n",
       "6119  ...  25.00  2020     reg           0      63547.0   \n",
       "6131  ...   0.00  2020     reg           1      75000.0   \n",
       "\n",
       "      Base Guaranteed Comp.  Defender  Forward  Midfielder  Minimum_Salary  \n",
       "33                  17700.0       0.0      1.0         0.0           30000  \n",
       "71                  17700.0       0.0      0.0         1.0           30000  \n",
       "76                  17700.0       0.0      1.0         0.0           30000  \n",
       "106                 12900.0       1.0      0.0         0.0           30000  \n",
       "109                 17700.0       0.0      0.0         1.0           30000  \n",
       "...                     ...       ...      ...         ...             ...  \n",
       "6106                63547.0       0.0      0.0         1.0           81375  \n",
       "6108                63547.0       1.0      0.0         0.0           81375  \n",
       "6118                63547.0       0.0      1.0         0.0           81375  \n",
       "6119                63547.0       1.0      0.0         0.0           81375  \n",
       "6131                76250.0       0.0      0.0         1.0           81375  \n",
       "\n",
       "[794 rows x 35 columns]"
      ]
     },
     "execution_count": 101,
     "metadata": {},
     "output_type": "execute_result"
    }
   ],
   "source": [
    "player_stats_salaries_df[player_stats_salaries_df['Base Salary'] < player_stats_salaries_df['Minimum_Salary']]"
   ]
  },
  {
   "cell_type": "code",
   "execution_count": 102,
   "id": "06e4ab47-1b36-4e5d-a8c1-af35d7eeaab6",
   "metadata": {},
   "outputs": [],
   "source": [
    "# Renaming columns so that they are easily interpretable\n",
    "player_stats_salaries_df.rename(columns={'PKG/A': 'Penalty_Kick_Conversion_Rate', 'G/90min': 'Goals_per_90_Minutes', \n",
    "                                          'A/90min': 'Assists_per_90_Minutes', 'GP': 'Games_Played',\n",
    "                                         'GS': 'Games_Started', 'MINS': 'Total_Minutes_Played', 'G': 'Goals',\n",
    "                                         'A': 'Assists', 'SHTS': 'Shots', 'SOG': 'Shots_On_Goal', \n",
    "                                        'GWG': 'Game_Winning_Goals', 'HmG': 'Home_Goals', 'RdG': 'Road_Goals',\n",
    "                                        'SC%': 'Shots_Conversion', 'GWA': 'Game_Winning_Assists',\n",
    "                                        'HmA': 'Home_Assists', 'RdA': 'Road_Assists', 'FC': 'Fouls_Committed',\n",
    "                                        'FS': 'Fouls_Suffered', 'OFF': 'Offsides', 'YC': 'Yellow_Cards',\n",
    "                                        'RC': 'Red_Cards', 'SOG%': 'Shots_On_Goal_Rate'}, inplace=True)"
   ]
  },
  {
   "cell_type": "markdown",
   "id": "f7a1a3e6-70f3-4443-bfe9-1a8725c18d09",
   "metadata": {},
   "source": [
    "Penalty_Kick_Conversion_Rate needs to be separated into scored and taken columns, the numerator and denominator of the current column."
   ]
  },
  {
   "cell_type": "code",
   "execution_count": 103,
   "id": "5ccfba54-7c60-4677-899a-29adaf985b10",
   "metadata": {},
   "outputs": [],
   "source": [
    "# Separating out Penalty Kick conversion rate into penalty kicks scored and taken, and making conversion rate a float.\n",
    "player_stats_salaries_df[[\"Penalty_Kicks_Scored\", \"Penalty_Kicks_Taken\"]] = player_stats_salaries_df['Penalty_Kick_Conversion_Rate'].str.split(\"/\", expand=True)\n",
    "player_stats_salaries_df['Penalty_Kick_Conversion_Rate'] = player_stats_salaries_df[\"Penalty_Kicks_Scored\"].astype(int) / player_stats_salaries_df[\"Penalty_Kicks_Taken\"].astype(int)\n",
    "player_stats_salaries_df['Penalty_Kick_Conversion_Rate'].fillna(value=0, inplace=True)"
   ]
  },
  {
   "cell_type": "markdown",
   "id": "60bd72b9-0861-449e-b922-40c3f93498f2",
   "metadata": {},
   "source": [
    "There are nulls in Shots_On_Goal_Rate. The nulls should actually be zeros when looking at a player's shot statistics, so I'm filling them with 0."
   ]
  },
  {
   "cell_type": "code",
   "execution_count": 104,
   "id": "e72b3bca-e4d0-4bf1-abf9-72903412b516",
   "metadata": {},
   "outputs": [],
   "source": [
    "# filling in nulls in Shots on goal rate with 0\n",
    "player_stats_salaries_df['Shots_On_Goal_Rate'].fillna(value=0, inplace=True)"
   ]
  },
  {
   "cell_type": "markdown",
   "id": "b6c5d59d-cbe8-4b13-b6b8-d77f97880bd0",
   "metadata": {},
   "source": [
    "I tried to add a feature that includes the yearly salary cap for an MLS team. It seems to have an effect on the overall model but is not my strongest feature by any means."
   ]
  },
  {
   "cell_type": "code",
   "execution_count": 105,
   "id": "7f7c7c52-6e88-4453-9e93-989ff5a8d914",
   "metadata": {},
   "outputs": [],
   "source": [
    "salary_cap = {2007: 2100000, 2008: 2300000, 2009: 2300000, 2010: 2550000, 2011: 2670000, 2012: 2810000, 2013: 2950000, 2014: 3100000, 2015: 3490000, 2016: 3660000, 2017: 3845000,\n",
    "              2018: 4035000, 2019: 4240000, 2020: 4900000}\n",
    "player_stats_salaries_df['Salary Cap'] = player_stats_salaries_df['Year'].apply(lambda year: salary_cap.get(year, 0))"
   ]
  },
  {
   "cell_type": "markdown",
   "id": "f1b5816a-cc91-416f-af19-94696c0dc6ef",
   "metadata": {},
   "source": [
    "When running the model with Base Guaranteed Comp., it was incredibly overfit. Base Salary and Base Guaranteed Comp. are too directly related and the model uses Base Guaranteed Comp. as its main feature to predict salary, and rather than accomplishing the task of predicting whether a player is overpaid or underpaid based on their statistics, the model is just playing it safe and predicting within a tight range of Base Guaranteed Comp. because it knows the actual Base Salary of the player is somewhere nearby.\n",
    "\n",
    "All that said, I instead creature a feature column, Bonus Pay, which is the difference between Base Guaranteed Comp. and Base Salary. This feature boosts my performance while not overfitting because it only tells the model how much of a bonus a player has gotten on their salary, without the information of how much the Base Salary or Compensation are. The idea is that more often than not, players getting bonus pay are those who are more popular, perform better, or otherwise are more deserving of it than other players, which generally should mean a better Base Salary. "
   ]
  },
  {
   "cell_type": "code",
   "execution_count": 106,
   "id": "42a88488-9add-427e-92bf-9e7ab84e8342",
   "metadata": {},
   "outputs": [],
   "source": [
    "player_stats_salaries_df['Bonus Pay'] = player_stats_salaries_df['Base Guaranteed Comp.'] - player_stats_salaries_df['Base Salary']"
   ]
  },
  {
   "cell_type": "code",
   "execution_count": 107,
   "id": "3f1cd2a7-95f3-48c5-aca8-03988b45c5d1",
   "metadata": {},
   "outputs": [],
   "source": [
    "# Dropping columns that I wont use for modeling.\n",
    "stats_salaries_df = player_stats_salaries_df.drop(columns=['Player', 'Club', 'Season', 'Base Guaranteed Comp.', 'Unnamed: 0'\n",
    "                                                           ])"
   ]
  },
  {
   "cell_type": "markdown",
   "id": "c0ad20c6-8355-4b5a-b10b-31d550cfc8ba",
   "metadata": {},
   "source": [
    "Interesting observation to make, the correlation between most of the statistics feature columns and Defenders seems to be negative. One of the limitations of this dataset is that the player statistics are geared heavily towards more attacking players on the field (goals, assists, shots, etc). This project could benefit from getting statistics on tackles, pass completion percentage, and more to help determine what defending players should be paid."
   ]
  },
  {
   "cell_type": "code",
   "execution_count": 108,
   "id": "72900338-770e-4e44-bac7-8b9a698aa5d2",
   "metadata": {},
   "outputs": [
    {
     "data": {
      "image/png": "[encoded data removed]",
      "text/plain": [
       "<Figure size 1000x1000 with 2 Axes>"
      ]
     },
     "metadata": {},
     "output_type": "display_data"
    }
   ],
   "source": [
    "sns.set(rc={'figure.figsize': (10, 10)})\n",
    "\n",
    "sns.heatmap(stats_salaries_df.corr(), annot=True);"
   ]
  },
  {
   "cell_type": "markdown",
   "id": "6ce30ccb-f478-46a3-a286-34576e04d9b1",
   "metadata": {},
   "source": [
    "## Modeling \n",
    "\n",
    "During the modeling process,  I took a look at the  MSE, RMSE, MAE, and r2. The RMSE, MAE and r2 values held the most significance throughout the process, with the difference in the RMSE and MAE explaining how large some of the errors in  predicting salary are, and the r2 explaining how much of the variance in salary is explained by the features implemented.\n",
    "\n",
    "I trained the data on multiple predictive models with several iterations. Two of the models required scaling so I used StandardScaler. All of the models utilized a Pipeline with Principal Component Analysis, and were tuned with hyperparameter selection in GridSearchCV. \n",
    "\n",
    "Ultimately, the Random Forest Regression model performed the best, predicting player salary with a Mean Absolute Error"
   ]
  },
  {
   "cell_type": "markdown",
   "id": "224016ac-862f-4627-bdae-31942269e642",
   "metadata": {},
   "source": [
    "### Creating Train Test Split for Base Salary\n",
    "\n",
    "All modeling will be done on the training data. After choosing the model with the best RMSE and r2, I will evaluate on testing data."
   ]
  },
  {
   "cell_type": "code",
   "execution_count": 109,
   "id": "111fd12c-b839-44c0-8193-85eb4786de36",
   "metadata": {},
   "outputs": [],
   "source": [
    "# Splitting our data into independent variable X and dependent variable y\n",
    "X = stats_salaries_df.drop(columns='Base Salary')\n",
    "y = stats_salaries_df['Base Salary']\n",
    "\n",
    "# Running a train test split\n",
    "X_train, X_test, y_train, y_test = train_test_split(X, y, random_state=42)"
   ]
  },
  {
   "cell_type": "markdown",
   "id": "b403ab24-2e74-4dd8-a3cb-69e2c694ecba",
   "metadata": {},
   "source": [
    "### Dummy Model"
   ]
  },
  {
   "cell_type": "markdown",
   "id": "bfe32ae7-cdb6-45d3-8fc2-4c1acd5770a1",
   "metadata": {},
   "source": [
    "Settting a Dummy model to create a baseline."
   ]
  },
  {
   "cell_type": "code",
   "execution_count": 110,
   "id": "dbc90355-5534-4476-8791-f012e187be9b",
   "metadata": {},
   "outputs": [
    {
     "data": {
      "text/html": [
       "<style>#sk-container-id-1 {color: black;}#sk-container-id-1 pre{padding: 0;}#sk-container-id-1 div.sk-toggleable {background-color: white;}#sk-container-id-1 label.sk-toggleable__label {cursor: pointer;display: block;width: 100%;margin-bottom: 0;padding: 0.3em;box-sizing: border-box;text-align: center;}#sk-container-id-1 label.sk-toggleable__label-arrow:before {content: \"▸\";float: left;margin-right: 0.25em;color: #696969;}#sk-container-id-1 label.sk-toggleable__label-arrow:hover:before {color: black;}#sk-container-id-1 div.sk-estimator:hover label.sk-toggleable__label-arrow:before {color: black;}#sk-container-id-1 div.sk-toggleable__content {max-height: 0;max-width: 0;overflow: hidden;text-align: left;background-color: #f0f8ff;}#sk-container-id-1 div.sk-toggleable__content pre {margin: 0.2em;color: black;border-radius: 0.25em;background-color: #f0f8ff;}#sk-container-id-1 input.sk-toggleable__control:checked~div.sk-toggleable__content {max-height: 200px;max-width: 100%;overflow: auto;}#sk-container-id-1 input.sk-toggleable__control:checked~label.sk-toggleable__label-arrow:before {content: \"▾\";}#sk-container-id-1 div.sk-estimator input.sk-toggleable__control:checked~label.sk-toggleable__label {background-color: #d4ebff;}#sk-container-id-1 div.sk-label input.sk-toggleable__control:checked~label.sk-toggleable__label {background-color: #d4ebff;}#sk-container-id-1 input.sk-hidden--visually {border: 0;clip: rect(1px 1px 1px 1px);clip: rect(1px, 1px, 1px, 1px);height: 1px;margin: -1px;overflow: hidden;padding: 0;position: absolute;width: 1px;}#sk-container-id-1 div.sk-estimator {font-family: monospace;background-color: #f0f8ff;border: 1px dotted black;border-radius: 0.25em;box-sizing: border-box;margin-bottom: 0.5em;}#sk-container-id-1 div.sk-estimator:hover {background-color: #d4ebff;}#sk-container-id-1 div.sk-parallel-item::after {content: \"\";width: 100%;border-bottom: 1px solid gray;flex-grow: 1;}#sk-container-id-1 div.sk-label:hover label.sk-toggleable__label {background-color: #d4ebff;}#sk-container-id-1 div.sk-serial::before {content: \"\";position: absolute;border-left: 1px solid gray;box-sizing: border-box;top: 0;bottom: 0;left: 50%;z-index: 0;}#sk-container-id-1 div.sk-serial {display: flex;flex-direction: column;align-items: center;background-color: white;padding-right: 0.2em;padding-left: 0.2em;position: relative;}#sk-container-id-1 div.sk-item {position: relative;z-index: 1;}#sk-container-id-1 div.sk-parallel {display: flex;align-items: stretch;justify-content: center;background-color: white;position: relative;}#sk-container-id-1 div.sk-item::before, #sk-container-id-1 div.sk-parallel-item::before {content: \"\";position: absolute;border-left: 1px solid gray;box-sizing: border-box;top: 0;bottom: 0;left: 50%;z-index: -1;}#sk-container-id-1 div.sk-parallel-item {display: flex;flex-direction: column;z-index: 1;position: relative;background-color: white;}#sk-container-id-1 div.sk-parallel-item:first-child::after {align-self: flex-end;width: 50%;}#sk-container-id-1 div.sk-parallel-item:last-child::after {align-self: flex-start;width: 50%;}#sk-container-id-1 div.sk-parallel-item:only-child::after {width: 0;}#sk-container-id-1 div.sk-dashed-wrapped {border: 1px dashed gray;margin: 0 0.4em 0.5em 0.4em;box-sizing: border-box;padding-bottom: 0.4em;background-color: white;}#sk-container-id-1 div.sk-label label {font-family: monospace;font-weight: bold;display: inline-block;line-height: 1.2em;}#sk-container-id-1 div.sk-label-container {text-align: center;}#sk-container-id-1 div.sk-container {/* jupyter's `normalize.less` sets `[hidden] { display: none; }` but bootstrap.min.css set `[hidden] { display: none !important; }` so we also need the `!important` here to be able to override the default hidden behavior on the sphinx rendered scikit-learn.org. See: https://github.com/scikit-learn/scikit-learn/issues/21755 */display: inline-block !important;position: relative;}#sk-container-id-1 div.sk-text-repr-fallback {display: none;}</style><div id=\"sk-container-id-1\" class=\"sk-top-container\"><div class=\"sk-text-repr-fallback\"><pre>DummyRegressor()</pre><b>In a Jupyter environment, please rerun this cell to show the HTML representation or trust the notebook. <br />On GitHub, the HTML representation is unable to render, please try loading this page with nbviewer.org.</b></div><div class=\"sk-container\" hidden><div class=\"sk-item\"><div class=\"sk-estimator sk-toggleable\"><input class=\"sk-toggleable__control sk-hidden--visually\" id=\"sk-estimator-id-1\" type=\"checkbox\" checked><label for=\"sk-estimator-id-1\" class=\"sk-toggleable__label sk-toggleable__label-arrow\">DummyRegressor</label><div class=\"sk-toggleable__content\"><pre>DummyRegressor()</pre></div></div></div></div></div>"
      ],
      "text/plain": [
       "DummyRegressor()"
      ]
     },
     "execution_count": 110,
     "metadata": {},
     "output_type": "execute_result"
    }
   ],
   "source": [
    "# Instantiating and fitting a dummy, or baseline, regression model\n",
    "dummy = DummyRegressor()\n",
    "dummy.fit(X_train, y_train)"
   ]
  },
  {
   "cell_type": "markdown",
   "id": "4556c49f-173e-4a08-9994-a1453db092ef",
   "metadata": {},
   "source": [
    "As expected, all evaluation metric scores below are absolutely terrible."
   ]
  },
  {
   "cell_type": "code",
   "execution_count": 111,
   "id": "6a88f0b2-0828-46d4-89c6-47695a55c33e",
   "metadata": {},
   "outputs": [
    {
     "data": {
      "text/plain": [
       "0.0"
      ]
     },
     "execution_count": 111,
     "metadata": {},
     "output_type": "execute_result"
    }
   ],
   "source": [
    "# Creating y_pred to plot and see how dummy predicts\n",
    "y_pred = dummy.predict(X_train)\n",
    "\n",
    "# Dummy r2 score\n",
    "dummy_score = r2_score(y_train, y_pred)\n",
    "dummy_score"
   ]
  },
  {
   "cell_type": "code",
   "execution_count": 112,
   "id": "26778ce8-21ec-46da-ac54-77ea9637c9c9",
   "metadata": {},
   "outputs": [
    {
     "data": {
      "text/plain": [
       "351729327337.52454"
      ]
     },
     "execution_count": 112,
     "metadata": {},
     "output_type": "execute_result"
    }
   ],
   "source": [
    "dummy_mse_train = mean_squared_error(y_train, y_pred)\n",
    "dummy_mse_train"
   ]
  },
  {
   "cell_type": "code",
   "execution_count": 113,
   "id": "87d3b866-ef66-4b7c-bd37-529e17eee06f",
   "metadata": {},
   "outputs": [
    {
     "data": {
      "text/plain": [
       "-351949694371.2107"
      ]
     },
     "execution_count": 113,
     "metadata": {},
     "output_type": "execute_result"
    }
   ],
   "source": [
    "# Setting up a kfold to cross-validate the scores from each model\n",
    "kf = KFold(n_splits=5, shuffle=True, random_state=42)\n",
    "\n",
    "# Dummy Mean Squared Error\n",
    "dummy_mse = np.mean(cross_val_score(dummy, X_train, y_train, cv=kf, scoring='neg_mean_squared_error'))\n",
    "dummy_mse"
   ]
  },
  {
   "cell_type": "code",
   "execution_count": 114,
   "id": "e053ea0b-ec4b-42ce-add0-18ebcbf7d27a",
   "metadata": {},
   "outputs": [
    {
     "data": {
      "text/plain": [
       "593067.7257594824"
      ]
     },
     "execution_count": 114,
     "metadata": {},
     "output_type": "execute_result"
    }
   ],
   "source": [
    "dummy_rmse_train = np.sqrt(dummy_mse_train)\n",
    "dummy_rmse_train"
   ]
  },
  {
   "cell_type": "code",
   "execution_count": 115,
   "id": "99c9b78b-69ed-4696-b2ab-b54a6487abf4",
   "metadata": {},
   "outputs": [
    {
     "data": {
      "text/plain": [
       "-586582.9156247482"
      ]
     },
     "execution_count": 115,
     "metadata": {},
     "output_type": "execute_result"
    }
   ],
   "source": [
    "# Dummy Root Mean Squared Error\n",
    "dummy_rmse = np.mean(cross_val_score(dummy, X_train, y_train, cv=kf, scoring='neg_root_mean_squared_error'))\n",
    "dummy_rmse"
   ]
  },
  {
   "cell_type": "code",
   "execution_count": 116,
   "id": "72d11974-b2c5-4e05-a85a-7499c86a38bc",
   "metadata": {},
   "outputs": [
    {
     "data": {
      "text/plain": [
       "252908.180404865"
      ]
     },
     "execution_count": 116,
     "metadata": {},
     "output_type": "execute_result"
    }
   ],
   "source": [
    "dummy_mae_train = mean_absolute_error(y_train, y_pred)\n",
    "dummy_mae_train"
   ]
  },
  {
   "cell_type": "code",
   "execution_count": 117,
   "id": "877dc6da-281b-4c71-98ed-76b15d294b4e",
   "metadata": {},
   "outputs": [
    {
     "data": {
      "text/plain": [
       "-252992.57324805102"
      ]
     },
     "execution_count": 117,
     "metadata": {},
     "output_type": "execute_result"
    }
   ],
   "source": [
    "# Dummy Mean Absolute Error\n",
    "dummy_mae = np.mean(cross_val_score(dummy, X_train, y_train, cv=kf, scoring='neg_mean_absolute_error'))\n",
    "dummy_mae"
   ]
  },
  {
   "cell_type": "markdown",
   "id": "bdace1a7-7044-4011-8723-069dbacbfc23",
   "metadata": {},
   "source": [
    "### Linear Regression\n",
    "I started model analyisis with Linear Regression because its a relatively straightforward model to instantiate.\n",
    "The Linear Regression was not chosen as the final model, as it had a poor r2 score."
   ]
  },
  {
   "cell_type": "markdown",
   "id": "18af3b0f-32c9-454c-add5-853407506d7e",
   "metadata": {},
   "source": [
    "#### Instantiating the Model\n"
   ]
  },
  {
   "cell_type": "code",
   "execution_count": 118,
   "id": "04e5e62c-cab3-44b7-a5b7-9760b3bc489f",
   "metadata": {},
   "outputs": [],
   "source": [
    "# Setting up our first model\n",
    "lr = LinearRegression()\n",
    "scaler = StandardScaler()\n",
    "X_train_sc= scaler.fit_transform(X_train)\n",
    "X_test_sc= scaler.transform(X_test)\n",
    "\n",
    "lr.fit(X_train_sc, y_train)\n",
    "y_pred = lr.predict(X_train_sc)"
   ]
  },
  {
   "cell_type": "code",
   "execution_count": 119,
   "id": "9ef32079-02b4-49e0-a443-c922c532cf0d",
   "metadata": {},
   "outputs": [
    {
     "data": {
      "text/plain": [
       "0.3697446780587472"
      ]
     },
     "execution_count": 119,
     "metadata": {},
     "output_type": "execute_result"
    }
   ],
   "source": [
    "y_pred_lr = lr.predict(X_train_sc)\n",
    "\n",
    "lr_score_train = r2_score(y_train, y_pred_lr)\n",
    "lr_score_train"
   ]
  },
  {
   "cell_type": "code",
   "execution_count": 120,
   "id": "958b54c0-617b-4d35-8180-ce480e1e8fe7",
   "metadata": {},
   "outputs": [
    {
     "data": {
      "text/plain": [
       "0.2815086321898012"
      ]
     },
     "execution_count": 120,
     "metadata": {},
     "output_type": "execute_result"
    }
   ],
   "source": [
    "lr_score =  np.mean(cross_val_score(lr, X_train_sc, y_train, cv=kf, scoring = 'r2'))\n",
    "lr_score"
   ]
  },
  {
   "cell_type": "code",
   "execution_count": 121,
   "id": "c59f7f98-b7e7-4f12-ade7-90364da369d6",
   "metadata": {},
   "outputs": [
    {
     "data": {
      "text/plain": [
       "221679280437.2918"
      ]
     },
     "execution_count": 121,
     "metadata": {},
     "output_type": "execute_result"
    }
   ],
   "source": [
    "lr_mse_train = mean_squared_error(y_train, y_pred_lr)\n",
    "lr_mse_train"
   ]
  },
  {
   "cell_type": "code",
   "execution_count": 122,
   "id": "ad00c649-19dc-4bad-a90a-47e73ec03e0e",
   "metadata": {},
   "outputs": [
    {
     "data": {
      "text/plain": [
       "-244586250369.50238"
      ]
     },
     "execution_count": 122,
     "metadata": {},
     "output_type": "execute_result"
    }
   ],
   "source": [
    "lr_mse = np.mean(cross_val_score(lr, X_train_sc, y_train, cv=kf, scoring = 'neg_mean_squared_error'))\n",
    "lr_mse"
   ]
  },
  {
   "cell_type": "code",
   "execution_count": 123,
   "id": "0dfa3e64-0976-4c99-bbb6-115b6aef2584",
   "metadata": {},
   "outputs": [
    {
     "data": {
      "text/plain": [
       "470828.29188281775"
      ]
     },
     "execution_count": 123,
     "metadata": {},
     "output_type": "execute_result"
    }
   ],
   "source": [
    "lr_rmse_train = np.sqrt(lr_mse_train)\n",
    "lr_rmse_train"
   ]
  },
  {
   "cell_type": "code",
   "execution_count": 124,
   "id": "b1803759-91c9-4294-8414-869f1463f73e",
   "metadata": {},
   "outputs": [
    {
     "data": {
      "text/plain": [
       "-491171.03951882955"
      ]
     },
     "execution_count": 124,
     "metadata": {},
     "output_type": "execute_result"
    }
   ],
   "source": [
    "lr_rmse = np.mean(cross_val_score(lr, X_train_sc, y_train, cv=kf, scoring = 'neg_root_mean_squared_error'))\n",
    "lr_rmse"
   ]
  },
  {
   "cell_type": "code",
   "execution_count": 125,
   "id": "0ed36f90-57f3-4bfc-a467-b6878cca74ec",
   "metadata": {},
   "outputs": [
    {
     "data": {
      "text/plain": [
       "184603.25402650362"
      ]
     },
     "execution_count": 125,
     "metadata": {},
     "output_type": "execute_result"
    }
   ],
   "source": [
    "lr_mae_train = mean_absolute_error(y_train, y_pred_lr)\n",
    "lr_mae_train"
   ]
  },
  {
   "cell_type": "code",
   "execution_count": 126,
   "id": "0dcf4bcc-e108-48f0-b841-ca7c479d399f",
   "metadata": {},
   "outputs": [
    {
     "data": {
      "text/plain": [
       "-188143.12087777266"
      ]
     },
     "execution_count": 126,
     "metadata": {},
     "output_type": "execute_result"
    }
   ],
   "source": [
    "lr_mae =  np.mean(cross_val_score(lr, X_train_sc, y_train, cv=kf, scoring = 'neg_mean_absolute_error'))\n",
    "lr_mae"
   ]
  },
  {
   "cell_type": "markdown",
   "id": "4b611ac6-14c5-4989-b6dd-e1208446a534",
   "metadata": {},
   "source": [
    "#### Data Processing through a Pipeline\n",
    "All of the models were run through a Pipeline with Principal Component Analysis. The initial linear regression cross_validated r2 of .28 was far too low."
   ]
  },
  {
   "cell_type": "code",
   "execution_count": 127,
   "id": "ae2996db-f150-48c3-b8de-63e361faaea5",
   "metadata": {},
   "outputs": [],
   "source": [
    "pipe = Pipeline([\n",
    "    ('pca', PCA(random_state=42)),\n",
    "    ('lr', LinearRegression())\n",
    "])\n",
    "    "
   ]
  },
  {
   "cell_type": "markdown",
   "id": "d9ff3e4c-fa13-4f93-be9f-650a33cffbb0",
   "metadata": {},
   "source": [
    "### Parameter Tuning with GridSearchCV\n"
   ]
  },
  {
   "cell_type": "code",
   "execution_count": 128,
   "id": "b2e16392-4a97-4aa1-99e5-85f3f52a544e",
   "metadata": {},
   "outputs": [],
   "source": [
    "#Defining parameter grid\n",
    "param_grid = {\n",
    "    'pca__n_components': [10, 20, 30],\n",
    "    'pca__copy': [False, True],\n",
    "    'pca__whiten': [False, True]\n",
    "}   "
   ]
  },
  {
   "cell_type": "code",
   "execution_count": 129,
   "id": "7b5a6120-6cf8-48f1-a0b2-9fbb3fd357d1",
   "metadata": {},
   "outputs": [
    {
     "name": "stdout",
     "output_type": "stream",
     "text": [
      "Pipeline(steps=[('pca', PCA(copy=False, n_components=30, random_state=42)),\n",
      "                ('lr', LinearRegression())])\n",
      "0.3205098950209747\n"
     ]
    }
   ],
   "source": [
    "grid = GridSearchCV(pipe, param_grid, n_jobs=-1, cv=5)\n",
    "grid.fit(X_train_sc, y_train)\n",
    "print(grid.best_estimator_)\n",
    "print(grid.best_score_)"
   ]
  },
  {
   "cell_type": "markdown",
   "id": "f0f75c8b-c7f7-4d85-b445-30aa2da3d3a6",
   "metadata": {},
   "source": [
    "After the first GridSearch, r2 improves slightly but its still very low at .32."
   ]
  },
  {
   "cell_type": "code",
   "execution_count": 130,
   "id": "538978ca-4eee-4d01-99a9-4cf760befd9d",
   "metadata": {},
   "outputs": [],
   "source": [
    "param_grid = {\n",
    "    'pca__n_components': [30, 32, 33],\n",
    "    'pca__copy': [False, True],\n",
    "    'pca__whiten': [False, True]\n",
    "}   "
   ]
  },
  {
   "cell_type": "code",
   "execution_count": 131,
   "id": "05932592-34b3-45e6-8705-869e056f0b43",
   "metadata": {},
   "outputs": [
    {
     "name": "stdout",
     "output_type": "stream",
     "text": [
      "Pipeline(steps=[('pca',\n",
      "                 PCA(copy=False, n_components=33, random_state=42,\n",
      "                     whiten=True)),\n",
      "                ('lr', LinearRegression())])\n",
      "0.3217249452378338\n"
     ]
    }
   ],
   "source": [
    "grid = GridSearchCV(pipe, param_grid, n_jobs=-1, cv=5)\n",
    "grid.fit(X_train_sc, y_train)\n",
    "print(grid.best_estimator_)\n",
    "print(grid.best_score_)"
   ]
  },
  {
   "cell_type": "markdown",
   "id": "676fecd6-6ea0-44d3-9beb-fe0942ae075f",
   "metadata": {},
   "source": [
    "Nearly identical. We're not getting anywhere with Linear Regression unfortunately."
   ]
  },
  {
   "cell_type": "code",
   "execution_count": 132,
   "id": "77314e4f-3259-4eb1-bdcf-3fae4118e499",
   "metadata": {},
   "outputs": [],
   "source": [
    "lpipe = Pipeline(steps=[('pca',\n",
    "                 PCA(copy=False, n_components=30, random_state=42, whiten=False)),\n",
    "                ('lr', LinearRegression())])"
   ]
  },
  {
   "cell_type": "code",
   "execution_count": 133,
   "id": "1931ef04-54b9-4254-a467-573706198d0a",
   "metadata": {},
   "outputs": [
    {
     "data": {
      "text/plain": [
       "184603.2540265036"
      ]
     },
     "execution_count": 133,
     "metadata": {},
     "output_type": "execute_result"
    }
   ],
   "source": [
    "lpipe.fit(X_train_sc, y_train)\n",
    "y_pred_lr = lpipe.predict(X_train_sc)\n",
    "mae = mean_absolute_error(y_train, y_pred_lr)\n",
    "mae"
   ]
  },
  {
   "cell_type": "markdown",
   "id": "ee897fcf-b8b8-45bc-a705-3b6b0cfc1846",
   "metadata": {},
   "source": [
    "Mean Absolute error is too high, some players don't make that salary in a year."
   ]
  },
  {
   "cell_type": "code",
   "execution_count": 134,
   "id": "4f0bcad3-d24b-4e35-94e0-f7c3c1a7e3dd",
   "metadata": {},
   "outputs": [
    {
     "data": {
      "image/png": "[encoded data removed]",
      "text/plain": [
       "<Figure size 1000x1000 with 1 Axes>"
      ]
     },
     "metadata": {},
     "output_type": "display_data"
    }
   ],
   "source": [
    "plt.scatter(y_pred_lr, y_train)\n",
    "plt.plot([y.min(), y.max()], [y.min(), y.max()], 'k--', lw=2)\n",
    "plt.xlabel('Predicted Salary (USD In Millions)')\n",
    "plt.ylabel('Actual Salary (USD IN Millions)')\n",
    "\n",
    "plt.ticklabel_format(style='plain')\n",
    "plt.show()"
   ]
  },
  {
   "cell_type": "markdown",
   "id": "8bb80835-0068-46a8-a961-4a0d3e1e0ff8",
   "metadata": {},
   "source": [
    "I plotted a comparison of my model's predicted salary vs a player's actual salary, and it failing to predict across the board but especially when predicting highly paid players."
   ]
  },
  {
   "cell_type": "markdown",
   "id": "db6ea864-ddd2-491c-80e6-b3c8c5b5870b",
   "metadata": {},
   "source": [
    "### Random Forest Model \n",
    "I ran a Random Forest Regression next, which was chosen as my final model. I produced the highest r2 of .53 and a MAE of $146,430."
   ]
  },
  {
   "cell_type": "markdown",
   "id": "4762648a-cdaa-4572-86f4-3d8c787bf460",
   "metadata": {},
   "source": [
    "#### Instantiating the Model"
   ]
  },
  {
   "cell_type": "code",
   "execution_count": 135,
   "id": "6b2e12b2-179f-4af3-a4b5-9d6e5ba32624",
   "metadata": {},
   "outputs": [
    {
     "data": {
      "text/html": [
       "<style>#sk-container-id-2 {color: black;}#sk-container-id-2 pre{padding: 0;}#sk-container-id-2 div.sk-toggleable {background-color: white;}#sk-container-id-2 label.sk-toggleable__label {cursor: pointer;display: block;width: 100%;margin-bottom: 0;padding: 0.3em;box-sizing: border-box;text-align: center;}#sk-container-id-2 label.sk-toggleable__label-arrow:before {content: \"▸\";float: left;margin-right: 0.25em;color: #696969;}#sk-container-id-2 label.sk-toggleable__label-arrow:hover:before {color: black;}#sk-container-id-2 div.sk-estimator:hover label.sk-toggleable__label-arrow:before {color: black;}#sk-container-id-2 div.sk-toggleable__content {max-height: 0;max-width: 0;overflow: hidden;text-align: left;background-color: #f0f8ff;}#sk-container-id-2 div.sk-toggleable__content pre {margin: 0.2em;color: black;border-radius: 0.25em;background-color: #f0f8ff;}#sk-container-id-2 input.sk-toggleable__control:checked~div.sk-toggleable__content {max-height: 200px;max-width: 100%;overflow: auto;}#sk-container-id-2 input.sk-toggleable__control:checked~label.sk-toggleable__label-arrow:before {content: \"▾\";}#sk-container-id-2 div.sk-estimator input.sk-toggleable__control:checked~label.sk-toggleable__label {background-color: #d4ebff;}#sk-container-id-2 div.sk-label input.sk-toggleable__control:checked~label.sk-toggleable__label {background-color: #d4ebff;}#sk-container-id-2 input.sk-hidden--visually {border: 0;clip: rect(1px 1px 1px 1px);clip: rect(1px, 1px, 1px, 1px);height: 1px;margin: -1px;overflow: hidden;padding: 0;position: absolute;width: 1px;}#sk-container-id-2 div.sk-estimator {font-family: monospace;background-color: #f0f8ff;border: 1px dotted black;border-radius: 0.25em;box-sizing: border-box;margin-bottom: 0.5em;}#sk-container-id-2 div.sk-estimator:hover {background-color: #d4ebff;}#sk-container-id-2 div.sk-parallel-item::after {content: \"\";width: 100%;border-bottom: 1px solid gray;flex-grow: 1;}#sk-container-id-2 div.sk-label:hover label.sk-toggleable__label {background-color: #d4ebff;}#sk-container-id-2 div.sk-serial::before {content: \"\";position: absolute;border-left: 1px solid gray;box-sizing: border-box;top: 0;bottom: 0;left: 50%;z-index: 0;}#sk-container-id-2 div.sk-serial {display: flex;flex-direction: column;align-items: center;background-color: white;padding-right: 0.2em;padding-left: 0.2em;position: relative;}#sk-container-id-2 div.sk-item {position: relative;z-index: 1;}#sk-container-id-2 div.sk-parallel {display: flex;align-items: stretch;justify-content: center;background-color: white;position: relative;}#sk-container-id-2 div.sk-item::before, #sk-container-id-2 div.sk-parallel-item::before {content: \"\";position: absolute;border-left: 1px solid gray;box-sizing: border-box;top: 0;bottom: 0;left: 50%;z-index: -1;}#sk-container-id-2 div.sk-parallel-item {display: flex;flex-direction: column;z-index: 1;position: relative;background-color: white;}#sk-container-id-2 div.sk-parallel-item:first-child::after {align-self: flex-end;width: 50%;}#sk-container-id-2 div.sk-parallel-item:last-child::after {align-self: flex-start;width: 50%;}#sk-container-id-2 div.sk-parallel-item:only-child::after {width: 0;}#sk-container-id-2 div.sk-dashed-wrapped {border: 1px dashed gray;margin: 0 0.4em 0.5em 0.4em;box-sizing: border-box;padding-bottom: 0.4em;background-color: white;}#sk-container-id-2 div.sk-label label {font-family: monospace;font-weight: bold;display: inline-block;line-height: 1.2em;}#sk-container-id-2 div.sk-label-container {text-align: center;}#sk-container-id-2 div.sk-container {/* jupyter's `normalize.less` sets `[hidden] { display: none; }` but bootstrap.min.css set `[hidden] { display: none !important; }` so we also need the `!important` here to be able to override the default hidden behavior on the sphinx rendered scikit-learn.org. See: https://github.com/scikit-learn/scikit-learn/issues/21755 */display: inline-block !important;position: relative;}#sk-container-id-2 div.sk-text-repr-fallback {display: none;}</style><div id=\"sk-container-id-2\" class=\"sk-top-container\"><div class=\"sk-text-repr-fallback\"><pre>RandomForestRegressor(random_state=42)</pre><b>In a Jupyter environment, please rerun this cell to show the HTML representation or trust the notebook. <br />On GitHub, the HTML representation is unable to render, please try loading this page with nbviewer.org.</b></div><div class=\"sk-container\" hidden><div class=\"sk-item\"><div class=\"sk-estimator sk-toggleable\"><input class=\"sk-toggleable__control sk-hidden--visually\" id=\"sk-estimator-id-2\" type=\"checkbox\" checked><label for=\"sk-estimator-id-2\" class=\"sk-toggleable__label sk-toggleable__label-arrow\">RandomForestRegressor</label><div class=\"sk-toggleable__content\"><pre>RandomForestRegressor(random_state=42)</pre></div></div></div></div></div>"
      ],
      "text/plain": [
       "RandomForestRegressor(random_state=42)"
      ]
     },
     "execution_count": 135,
     "metadata": {},
     "output_type": "execute_result"
    }
   ],
   "source": [
    "rf = RandomForestRegressor(random_state=42)\n",
    "\n",
    "rf.fit(X_train, y_train)"
   ]
  },
  {
   "cell_type": "markdown",
   "id": "efe526b1-f054-4408-8211-f6b89372e372",
   "metadata": {},
   "source": [
    "I'm skeptical of this score, going to cross-validate."
   ]
  },
  {
   "cell_type": "code",
   "execution_count": 136,
   "id": "e78a01ec-1bc8-4f43-b496-8f0b952f2ffe",
   "metadata": {},
   "outputs": [
    {
     "data": {
      "text/plain": [
       "0.9333981198035985"
      ]
     },
     "execution_count": 136,
     "metadata": {},
     "output_type": "execute_result"
    }
   ],
   "source": [
    "y_pred_rf = rf.predict(X_train)\n",
    "rf_score_train = r2_score(y_train, y_pred_rf)\n",
    "rf_score_train"
   ]
  },
  {
   "cell_type": "markdown",
   "id": "f8edfb28-d94c-41cc-a982-f90d61be75a6",
   "metadata": {},
   "source": [
    "This makes a lot more sense"
   ]
  },
  {
   "cell_type": "code",
   "execution_count": 137,
   "id": "a0f23b9d-6af9-4fe2-a752-be680e3aa0f7",
   "metadata": {},
   "outputs": [
    {
     "data": {
      "text/plain": [
       "0.522497212488785"
      ]
     },
     "execution_count": 137,
     "metadata": {},
     "output_type": "execute_result"
    }
   ],
   "source": [
    "rf_score = np.mean(cross_val_score(rf, X_train, y_train, cv=kf))\n",
    "rf_score"
   ]
  },
  {
   "cell_type": "code",
   "execution_count": 138,
   "id": "41548f83-6103-4823-a690-e992034302d3",
   "metadata": {},
   "outputs": [
    {
     "data": {
      "text/plain": [
       "23425834520.894676"
      ]
     },
     "execution_count": 138,
     "metadata": {},
     "output_type": "execute_result"
    }
   ],
   "source": [
    "rf_mse_train = mean_squared_error(y_train, y_pred_rf)\n",
    "rf_mse_train"
   ]
  },
  {
   "cell_type": "code",
   "execution_count": 139,
   "id": "e8bee061-b304-441a-a58b-5bc154b35c3e",
   "metadata": {},
   "outputs": [
    {
     "data": {
      "text/plain": [
       "-163737977879.1627"
      ]
     },
     "execution_count": 139,
     "metadata": {},
     "output_type": "execute_result"
    }
   ],
   "source": [
    "rf_mse = np.mean(cross_val_score(rf, X_train, y_train, cv=kf, scoring = 'neg_mean_squared_error'))\n",
    "rf_mse"
   ]
  },
  {
   "cell_type": "code",
   "execution_count": 140,
   "id": "7d652be5-8cee-4b42-a69d-0e9a55dddb12",
   "metadata": {},
   "outputs": [
    {
     "data": {
      "text/plain": [
       "153055.00488678794"
      ]
     },
     "execution_count": 140,
     "metadata": {},
     "output_type": "execute_result"
    }
   ],
   "source": [
    "rf_rmse_train = np.sqrt(rf_mse_train)\n",
    "rf_rmse_train"
   ]
  },
  {
   "cell_type": "code",
   "execution_count": 141,
   "id": "b84c9372-2c5e-4958-890d-f1b39597ae36",
   "metadata": {},
   "outputs": [
    {
     "data": {
      "text/plain": [
       "-401649.0437840658"
      ]
     },
     "execution_count": 141,
     "metadata": {},
     "output_type": "execute_result"
    }
   ],
   "source": [
    "rf_rmse = np.mean(cross_val_score(rf, X_train, y_train, cv=kf, scoring = 'neg_root_mean_squared_error'))\n",
    "rf_rmse"
   ]
  },
  {
   "cell_type": "code",
   "execution_count": 142,
   "id": "328186e3-9b0f-4f9e-b9e4-3bc2c23356ec",
   "metadata": {},
   "outputs": [
    {
     "data": {
      "text/plain": [
       "54850.92702155867"
      ]
     },
     "execution_count": 142,
     "metadata": {},
     "output_type": "execute_result"
    }
   ],
   "source": [
    "rf_mae_train = mean_absolute_error(y_train, y_pred_rf)\n",
    "rf_mae_train"
   ]
  },
  {
   "cell_type": "markdown",
   "id": "711508dd-503e-4b03-8493-bd2fdeb1f124",
   "metadata": {},
   "source": [
    "Slightly better MAE"
   ]
  },
  {
   "cell_type": "code",
   "execution_count": 143,
   "id": "91f27f6b-9ca1-45f7-b2c4-094be03dacf4",
   "metadata": {},
   "outputs": [
    {
     "data": {
      "text/plain": [
       "-146429.89328143912"
      ]
     },
     "execution_count": 143,
     "metadata": {},
     "output_type": "execute_result"
    }
   ],
   "source": [
    "rf_mae = np.mean(cross_val_score(rf, X_train, y_train, cv=kf, scoring = 'neg_mean_absolute_error'))\n",
    "rf_mae"
   ]
  },
  {
   "cell_type": "markdown",
   "id": "080c3d71-63ae-4ab9-9267-3183609c537e",
   "metadata": {},
   "source": [
    "#### Data Processing through a Pipeline"
   ]
  },
  {
   "cell_type": "code",
   "execution_count": 144,
   "id": "a9e57a25-953a-41cc-8e79-ee9a72e75622",
   "metadata": {},
   "outputs": [],
   "source": [
    "rfpipe = Pipeline([('pca', PCA(random_state=42)),\n",
    "                    ('rf', RandomForestRegressor(random_state=42))])"
   ]
  },
  {
   "cell_type": "markdown",
   "id": "ab83c6ab-02b0-4fc6-bb72-ca834e5226bd",
   "metadata": {},
   "source": [
    "#### Parameter Tuning with GridSearchCV\n",
    "To reduce the amount of time to run this notebook, all iterations except the best will be commented out. Overall, the scores of the randomforest regression did not change very much despite the hyperparameter tuning. "
   ]
  },
  {
   "cell_type": "code",
   "execution_count": 145,
   "id": "8349ab8a-b1d4-4d6d-b8f9-cb2de4998489",
   "metadata": {},
   "outputs": [],
   "source": [
    "#rf_param_grid = {\n",
    "#    'pca__n_components': [10, 20, 30],\n",
    "#    'rf__n_estimators': [10, 50, 100],\n",
    "#    'rf__min_samples_split': [2, 5, 10],\n",
    "#    'rf__max_depth': [3, 5, 7],\n",
    "#    'rf__criterion': ['squared_error', 'friedman_mse', 'poisson']\n",
    "#}\n",
    "    "
   ]
  },
  {
   "cell_type": "code",
   "execution_count": 146,
   "id": "4f55aebb-5f08-4fb5-95e3-3a476275b34b",
   "metadata": {},
   "outputs": [],
   "source": [
    "#rf_grid = GridSearchCV(rfpipe, rf_param_grid, cv=5, n_jobs=-1, return_train_score=True)\n",
    "#rf_grid.fit(X_train, y_train)\n",
    "#print(rf_grid.best_score_)\n",
    "#print(rf_grid.best_params_)"
   ]
  },
  {
   "cell_type": "code",
   "execution_count": 147,
   "id": "bd428a3d-41cd-4d7a-bb47-e7fd0ecd2279",
   "metadata": {},
   "outputs": [],
   "source": [
    "#rf_param_grid = {\n",
    "#    'pca__n_components': [26, 30, 34],\n",
    "#    'rf__n_estimators': [75, 125, 175],\n",
    "#    'rf__min_samples_split': [3, 5, 7],\n",
    "#    'rf__max_depth': [7, 9, 11],\n",
    "#    'rf__criterion': ['squared_error', 'friedman_mse', 'poisson']\n",
    "#}\n",
    "    "
   ]
  },
  {
   "cell_type": "code",
   "execution_count": 148,
   "id": "a02a3fd9-6ac9-47f2-bcc3-2b0b6f36ea85",
   "metadata": {},
   "outputs": [],
   "source": [
    "#rf_grid = GridSearchCV(rfpipe, rf_param_grid, cv=5, n_jobs=-1, return_train_score=True)\n",
    "#rf_grid.fit(X_train, y_train)\n",
    "#print(rf_grid.best_score_)\n",
    "#print(rf_grid.best_params_)"
   ]
  },
  {
   "cell_type": "code",
   "execution_count": 149,
   "id": "e37eaaa9-67b7-41cf-8972-62d573ad3705",
   "metadata": {},
   "outputs": [],
   "source": [
    "#rf_param_grid = {\n",
    "#    'pca__n_components': [30, 32, 33],\n",
    "#    'rf__n_estimators': [ 110, 125, 140],\n",
    "#    'rf__min_samples_split': [4, 5, 6],\n",
    "#    'rf__max_depth': [11, 13, 15],\n",
    "#    'rf__criterion': ['squared_error', 'friedman_mse', 'poisson']\n",
    "#}"
   ]
  },
  {
   "cell_type": "code",
   "execution_count": 150,
   "id": "2a9b8570-9d00-4de3-ae5c-fe29d571519c",
   "metadata": {},
   "outputs": [],
   "source": [
    "#rf_grid = GridSearchCV(rfpipe, rf_param_grid, cv=5, n_jobs=-1, return_train_score=True)\n",
    "#rf_grid.fit(X_train, y_train)\n",
    "#print(rf_grid.best_score_)\n",
    "#print(rf_grid.best_params_)"
   ]
  },
  {
   "cell_type": "markdown",
   "id": "6aefe8e9-892d-4ceb-bd4b-5a4cb2f3dd2c",
   "metadata": {},
   "source": [
    "This is the best we're going to get it seems. Not great, but the best so far."
   ]
  },
  {
   "cell_type": "code",
   "execution_count": 151,
   "id": "774298ce-b9d9-46f4-ab54-d3a752b3e8d4",
   "metadata": {},
   "outputs": [
    {
     "name": "stdout",
     "output_type": "stream",
     "text": [
      "0.5303806605782893\n"
     ]
    }
   ],
   "source": [
    "rf_bestpipe = Pipeline([('pca', PCA(n_components=33, random_state=42)),\n",
    "                    ('rf', RandomForestRegressor(n_estimators=125, min_samples_split=4, criterion='poisson',\n",
    "                                                 max_depth=13, random_state=42))])\n",
    "\n",
    "rf_bestpipe_score = .5303806605782893\n",
    "print(rf_bestpipe_score)"
   ]
  },
  {
   "cell_type": "code",
   "execution_count": 152,
   "id": "badc2830-2d44-4558-bd2d-1fdd11fab319",
   "metadata": {},
   "outputs": [],
   "source": [
    "rf_bestpipe.fit(X_train, y_train)\n",
    "y_pred_rf = rf_bestpipe.predict(X_train)"
   ]
  },
  {
   "cell_type": "code",
   "execution_count": 153,
   "id": "4557974e-608f-4a94-a05a-8faaf27871e3",
   "metadata": {},
   "outputs": [
    {
     "data": {
      "image/png": "[encoded data removed]",
      "text/plain": [
       "<Figure size 1000x1000 with 1 Axes>"
      ]
     },
     "metadata": {},
     "output_type": "display_data"
    }
   ],
   "source": [
    "plt.scatter(y_pred_rf, y_train)\n",
    "plt.plot([y.min(), y.max()], [y.min(), y.max()], 'k--', lw=2)\n",
    "plt.xlabel('Predicted Salary ($)')\n",
    "plt.ylabel('Actual Salary ($)')\n",
    "\n",
    "plt.ticklabel_format(style='plain')\n",
    "plt.show()"
   ]
  },
  {
   "cell_type": "markdown",
   "id": "f6c57a04-630f-49e4-9643-2ea4932e159b",
   "metadata": {},
   "source": [
    "When looking at the graph above, there does seem to be a noticeable trend. All of those players at the top of the graph are designated players. The DPs'are being overpaid in comparison to what their statistics say they should be paid especially toward the extreme ranges of salary. On the other hand, it look like a bulk of the players at the bottom of the graph are actually being underpaid. "
   ]
  },
  {
   "cell_type": "markdown",
   "id": "0d1ba5c4-4c9a-4e2b-b2aa-46f7ea43842d",
   "metadata": {},
   "source": [
    "### KNearestNeighbors Model\n",
    "The KnearestNeighbors Model performed better than the Linear Regression, yet still was low in comparision to the random forest."
   ]
  },
  {
   "cell_type": "code",
   "execution_count": 154,
   "id": "a74ea656-b368-4189-855f-14649c434434",
   "metadata": {},
   "outputs": [
    {
     "data": {
      "text/html": [
       "<style>#sk-container-id-3 {color: black;}#sk-container-id-3 pre{padding: 0;}#sk-container-id-3 div.sk-toggleable {background-color: white;}#sk-container-id-3 label.sk-toggleable__label {cursor: pointer;display: block;width: 100%;margin-bottom: 0;padding: 0.3em;box-sizing: border-box;text-align: center;}#sk-container-id-3 label.sk-toggleable__label-arrow:before {content: \"▸\";float: left;margin-right: 0.25em;color: #696969;}#sk-container-id-3 label.sk-toggleable__label-arrow:hover:before {color: black;}#sk-container-id-3 div.sk-estimator:hover label.sk-toggleable__label-arrow:before {color: black;}#sk-container-id-3 div.sk-toggleable__content {max-height: 0;max-width: 0;overflow: hidden;text-align: left;background-color: #f0f8ff;}#sk-container-id-3 div.sk-toggleable__content pre {margin: 0.2em;color: black;border-radius: 0.25em;background-color: #f0f8ff;}#sk-container-id-3 input.sk-toggleable__control:checked~div.sk-toggleable__content {max-height: 200px;max-width: 100%;overflow: auto;}#sk-container-id-3 input.sk-toggleable__control:checked~label.sk-toggleable__label-arrow:before {content: \"▾\";}#sk-container-id-3 div.sk-estimator input.sk-toggleable__control:checked~label.sk-toggleable__label {background-color: #d4ebff;}#sk-container-id-3 div.sk-label input.sk-toggleable__control:checked~label.sk-toggleable__label {background-color: #d4ebff;}#sk-container-id-3 input.sk-hidden--visually {border: 0;clip: rect(1px 1px 1px 1px);clip: rect(1px, 1px, 1px, 1px);height: 1px;margin: -1px;overflow: hidden;padding: 0;position: absolute;width: 1px;}#sk-container-id-3 div.sk-estimator {font-family: monospace;background-color: #f0f8ff;border: 1px dotted black;border-radius: 0.25em;box-sizing: border-box;margin-bottom: 0.5em;}#sk-container-id-3 div.sk-estimator:hover {background-color: #d4ebff;}#sk-container-id-3 div.sk-parallel-item::after {content: \"\";width: 100%;border-bottom: 1px solid gray;flex-grow: 1;}#sk-container-id-3 div.sk-label:hover label.sk-toggleable__label {background-color: #d4ebff;}#sk-container-id-3 div.sk-serial::before {content: \"\";position: absolute;border-left: 1px solid gray;box-sizing: border-box;top: 0;bottom: 0;left: 50%;z-index: 0;}#sk-container-id-3 div.sk-serial {display: flex;flex-direction: column;align-items: center;background-color: white;padding-right: 0.2em;padding-left: 0.2em;position: relative;}#sk-container-id-3 div.sk-item {position: relative;z-index: 1;}#sk-container-id-3 div.sk-parallel {display: flex;align-items: stretch;justify-content: center;background-color: white;position: relative;}#sk-container-id-3 div.sk-item::before, #sk-container-id-3 div.sk-parallel-item::before {content: \"\";position: absolute;border-left: 1px solid gray;box-sizing: border-box;top: 0;bottom: 0;left: 50%;z-index: -1;}#sk-container-id-3 div.sk-parallel-item {display: flex;flex-direction: column;z-index: 1;position: relative;background-color: white;}#sk-container-id-3 div.sk-parallel-item:first-child::after {align-self: flex-end;width: 50%;}#sk-container-id-3 div.sk-parallel-item:last-child::after {align-self: flex-start;width: 50%;}#sk-container-id-3 div.sk-parallel-item:only-child::after {width: 0;}#sk-container-id-3 div.sk-dashed-wrapped {border: 1px dashed gray;margin: 0 0.4em 0.5em 0.4em;box-sizing: border-box;padding-bottom: 0.4em;background-color: white;}#sk-container-id-3 div.sk-label label {font-family: monospace;font-weight: bold;display: inline-block;line-height: 1.2em;}#sk-container-id-3 div.sk-label-container {text-align: center;}#sk-container-id-3 div.sk-container {/* jupyter's `normalize.less` sets `[hidden] { display: none; }` but bootstrap.min.css set `[hidden] { display: none !important; }` so we also need the `!important` here to be able to override the default hidden behavior on the sphinx rendered scikit-learn.org. See: https://github.com/scikit-learn/scikit-learn/issues/21755 */display: inline-block !important;position: relative;}#sk-container-id-3 div.sk-text-repr-fallback {display: none;}</style><div id=\"sk-container-id-3\" class=\"sk-top-container\"><div class=\"sk-text-repr-fallback\"><pre>KNeighborsRegressor()</pre><b>In a Jupyter environment, please rerun this cell to show the HTML representation or trust the notebook. <br />On GitHub, the HTML representation is unable to render, please try loading this page with nbviewer.org.</b></div><div class=\"sk-container\" hidden><div class=\"sk-item\"><div class=\"sk-estimator sk-toggleable\"><input class=\"sk-toggleable__control sk-hidden--visually\" id=\"sk-estimator-id-3\" type=\"checkbox\" checked><label for=\"sk-estimator-id-3\" class=\"sk-toggleable__label sk-toggleable__label-arrow\">KNeighborsRegressor</label><div class=\"sk-toggleable__content\"><pre>KNeighborsRegressor()</pre></div></div></div></div></div>"
      ],
      "text/plain": [
       "KNeighborsRegressor()"
      ]
     },
     "execution_count": 154,
     "metadata": {},
     "output_type": "execute_result"
    }
   ],
   "source": [
    "knn = KNeighborsRegressor()\n",
    "knn.fit(X_train_sc, y_train)"
   ]
  },
  {
   "cell_type": "code",
   "execution_count": 155,
   "id": "1fe3e9f2-cafd-4441-a481-5528ef61e5c9",
   "metadata": {},
   "outputs": [
    {
     "data": {
      "text/plain": [
       "0.5943928046530214"
      ]
     },
     "execution_count": 155,
     "metadata": {},
     "output_type": "execute_result"
    }
   ],
   "source": [
    "y_pred_k = knn.predict(X_train_sc)\n",
    "knn_train = r2_score(y_train, y_pred_k)\n",
    "knn_train"
   ]
  },
  {
   "cell_type": "markdown",
   "id": "8690fd29-60cf-4ba1-ba90-2be3419c8c26",
   "metadata": {},
   "source": [
    "Slightly better than the Linear Regression but still worse than the Random Forest."
   ]
  },
  {
   "cell_type": "code",
   "execution_count": 156,
   "id": "43490482-bd60-424c-a67a-482339cefab6",
   "metadata": {},
   "outputs": [
    {
     "data": {
      "text/plain": [
       "0.2999068736927998"
      ]
     },
     "execution_count": 156,
     "metadata": {},
     "output_type": "execute_result"
    }
   ],
   "source": [
    "knn_score = np.mean(cross_val_score(knn, X_train_sc, y_train, cv=kf, scoring = 'r2'))\n",
    "knn_score"
   ]
  },
  {
   "cell_type": "code",
   "execution_count": 157,
   "id": "6dc83d1a-caaf-4bb5-b6b8-a96ae3e67f7b",
   "metadata": {},
   "outputs": [
    {
     "data": {
      "text/plain": [
       "142663945982.65268"
      ]
     },
     "execution_count": 157,
     "metadata": {},
     "output_type": "execute_result"
    }
   ],
   "source": [
    "knn_mse_train = mean_squared_error(y_train, y_pred_k)\n",
    "knn_mse_train"
   ]
  },
  {
   "cell_type": "code",
   "execution_count": 158,
   "id": "5b29b92c-82ce-4c8a-a9e7-f8c7e3502e44",
   "metadata": {},
   "outputs": [
    {
     "data": {
      "text/plain": [
       "-241934679434.2892"
      ]
     },
     "execution_count": 158,
     "metadata": {},
     "output_type": "execute_result"
    }
   ],
   "source": [
    "knn_mse = np.mean(cross_val_score(knn, X_train_sc, y_train, cv=kf, scoring = 'neg_mean_squared_error'))\n",
    "knn_mse"
   ]
  },
  {
   "cell_type": "code",
   "execution_count": 159,
   "id": "ca255649-4f3d-4786-886b-446f64773ea8",
   "metadata": {},
   "outputs": [
    {
     "data": {
      "text/plain": [
       "377708.8111001022"
      ]
     },
     "execution_count": 159,
     "metadata": {},
     "output_type": "execute_result"
    }
   ],
   "source": [
    "knn_rmse_train = np.sqrt(knn_mse_train)\n",
    "knn_rmse_train"
   ]
  },
  {
   "cell_type": "code",
   "execution_count": 160,
   "id": "7b1e64cd-bb8d-4192-b810-e4489398a040",
   "metadata": {},
   "outputs": [
    {
     "data": {
      "text/plain": [
       "-487446.5752763442"
      ]
     },
     "execution_count": 160,
     "metadata": {},
     "output_type": "execute_result"
    }
   ],
   "source": [
    "knn_rmse = np.mean(cross_val_score(knn, X_train_sc, y_train, cv=kf, scoring = 'neg_root_mean_squared_error'))\n",
    "knn_rmse"
   ]
  },
  {
   "cell_type": "code",
   "execution_count": 161,
   "id": "429ffbeb-a7ac-459b-ab71-9bf88769e3bb",
   "metadata": {},
   "outputs": [
    {
     "data": {
      "text/plain": [
       "133177.32150822508"
      ]
     },
     "execution_count": 161,
     "metadata": {},
     "output_type": "execute_result"
    }
   ],
   "source": [
    "knn_mae_train = mean_absolute_error(y_train, y_pred_k)\n",
    "knn_mae_train"
   ]
  },
  {
   "cell_type": "code",
   "execution_count": 162,
   "id": "cc5a044f-602a-4993-a684-2d09f56fd6a6",
   "metadata": {},
   "outputs": [
    {
     "data": {
      "text/plain": [
       "-171218.82580389612"
      ]
     },
     "execution_count": 162,
     "metadata": {},
     "output_type": "execute_result"
    }
   ],
   "source": [
    "knn_mae = np.mean(cross_val_score(knn, X_train_sc, y_train, cv=kf, scoring = 'neg_mean_absolute_error'))\n",
    "knn_mae"
   ]
  },
  {
   "cell_type": "markdown",
   "id": "3fda8a3c-d4b9-43c8-af4b-3980b51f27c6",
   "metadata": {},
   "source": [
    "#### Data Processing through a Pipeline\n"
   ]
  },
  {
   "cell_type": "code",
   "execution_count": 163,
   "id": "e37fb4ab-69cb-4882-9804-62316dc76283",
   "metadata": {},
   "outputs": [],
   "source": [
    "kpipe = Pipeline([('pca', PCA(random_state=42)),\n",
    "                  ('knn', KNeighborsRegressor())\n",
    "                 ])\n",
    "                   "
   ]
  },
  {
   "cell_type": "markdown",
   "id": "3b783b96-2b42-4b59-a24c-5a8e2bb672fa",
   "metadata": {},
   "source": [
    "#### Parameter Tuning With GridSearchCV\n",
    "This model actually saw the most improvement among models, but it did not get scores comparable enough to the Random Forest Regression."
   ]
  },
  {
   "cell_type": "code",
   "execution_count": 164,
   "id": "cb6e5875-ad2e-4080-9d19-f950da801eee",
   "metadata": {},
   "outputs": [],
   "source": [
    "k_param_grid = {\n",
    "    'pca__n_components': [5, 10, 15],\n",
    "    'knn__n_neighbors': [3, 5, 7],\n",
    "    'knn__weights': ['uniform', 'distance'],\n",
    "    'knn__metric': ['minkowski', 'euclidean', 'manhattan']\n",
    "}"
   ]
  },
  {
   "cell_type": "code",
   "execution_count": 165,
   "id": "7647c6d4-dcf2-4e91-acde-2603cd7883e8",
   "metadata": {},
   "outputs": [
    {
     "name": "stdout",
     "output_type": "stream",
     "text": [
      "0.34193775635392526\n",
      "{'knn__metric': 'minkowski', 'knn__n_neighbors': 7, 'knn__weights': 'distance', 'pca__n_components': 15}\n"
     ]
    }
   ],
   "source": [
    "k_grid = GridSearchCV(kpipe, k_param_grid, n_jobs=-1, cv=5, return_train_score=True)\n",
    "k_grid.fit(X_train_sc, y_train)\n",
    "print(k_grid.best_score_)\n",
    "print(k_grid.best_params_)"
   ]
  },
  {
   "cell_type": "code",
   "execution_count": 166,
   "id": "98720c31-3415-4a50-ae4e-37e635177ed4",
   "metadata": {},
   "outputs": [],
   "source": [
    "k_param_grid = {\n",
    "    'pca__n_components': [15, 20, 25],\n",
    "    'knn__n_neighbors': [7, 15, 23],\n",
    "    'knn__weights': ['uniform', 'distance'],\n",
    "    'knn__metric': ['minkowski', 'euclidean', 'manhattan']\n",
    "}"
   ]
  },
  {
   "cell_type": "code",
   "execution_count": 167,
   "id": "f3fafcb5-0266-432f-bd4a-5c8ec46f2010",
   "metadata": {},
   "outputs": [
    {
     "name": "stdout",
     "output_type": "stream",
     "text": [
      "0.34193775635392526\n",
      "{'knn__metric': 'minkowski', 'knn__n_neighbors': 7, 'knn__weights': 'distance', 'pca__n_components': 15}\n"
     ]
    }
   ],
   "source": [
    "k_grid = GridSearchCV(kpipe, k_param_grid, n_jobs=-1, cv=5, return_train_score=True)\n",
    "k_grid.fit(X_train_sc, y_train)\n",
    "print(k_grid.best_score_)\n",
    "print(k_grid.best_params_)"
   ]
  },
  {
   "cell_type": "code",
   "execution_count": 168,
   "id": "a3cac4a6-9ce9-4f3c-b377-e86541935627",
   "metadata": {},
   "outputs": [],
   "source": [
    "k_param_grid = {\n",
    "    'pca__n_components': [12, 15, 18],\n",
    "    'knn__n_neighbors': [6, 7, 8],\n",
    "    'knn__weights': ['uniform', 'distance'],\n",
    "    'knn__metric': ['minkowski', 'euclidean', 'manhattan']\n",
    "}"
   ]
  },
  {
   "cell_type": "code",
   "execution_count": 169,
   "id": "5a0d0470-f9a1-4d0f-a695-fc91d911269f",
   "metadata": {},
   "outputs": [
    {
     "name": "stdout",
     "output_type": "stream",
     "text": [
      "0.37561303823992837\n",
      "{'knn__metric': 'minkowski', 'knn__n_neighbors': 7, 'knn__weights': 'distance', 'pca__n_components': 12}\n"
     ]
    }
   ],
   "source": [
    "k_grid = GridSearchCV(kpipe, k_param_grid, n_jobs=-1, cv=5, return_train_score=True)\n",
    "k_grid.fit(X_train_sc, y_train)\n",
    "print(k_grid.best_score_)\n",
    "print(k_grid.best_params_)"
   ]
  },
  {
   "cell_type": "code",
   "execution_count": 170,
   "id": "132c4cca-cc24-42eb-8aed-f5f767cf79b4",
   "metadata": {},
   "outputs": [],
   "source": [
    "k_bestpipe = Pipeline([('pca', PCA(random_state=42, n_components=7)),\n",
    "                  ('knn', KNeighborsRegressor(metric='minkowski', n_neighbors=7, weights='distance'))\n",
    "                 ])"
   ]
  },
  {
   "cell_type": "code",
   "execution_count": 171,
   "id": "84f9ec0d-dc4c-4a39-99fb-ffbe304efef4",
   "metadata": {},
   "outputs": [],
   "source": [
    "k_bestpipe.fit(X_train_sc, y_train)\n",
    "y_pred_k = k_bestpipe.predict(X_train_sc)"
   ]
  },
  {
   "cell_type": "code",
   "execution_count": 172,
   "id": "56d7a146-33ac-4676-8439-e1f4111245e6",
   "metadata": {},
   "outputs": [
    {
     "data": {
      "image/png": "[encoded data removed]",
      "text/plain": [
       "<Figure size 1000x1000 with 1 Axes>"
      ]
     },
     "metadata": {},
     "output_type": "display_data"
    }
   ],
   "source": [
    "plt.scatter(y_train, y_pred_k)\n",
    "plt.plot([y.min(), y.max()], [y.min(), y.max()], 'k--', lw=2)\n",
    "plt.xlabel('Predicted Salary ($)')\n",
    "plt.ylabel('Actual Salary ($)')\n",
    "\n",
    "plt.ticklabel_format(style='plain')\n",
    "plt.show()"
   ]
  },
  {
   "cell_type": "markdown",
   "id": "c28bd0e3-9103-4769-bc62-284cd32c8408",
   "metadata": {},
   "source": [
    "This graph sure looks great, but based on the metric scores, I don't trust it."
   ]
  },
  {
   "cell_type": "markdown",
   "id": "2a9b5fd1-6d60-4972-be6a-c593c795982e",
   "metadata": {},
   "source": [
    "## Model Selection"
   ]
  },
  {
   "cell_type": "markdown",
   "id": "009424b3-77e1-4a13-8694-0bcf52effe8e",
   "metadata": {},
   "source": [
    "### The Best Model\n",
    "The Random Forest Regression model clearly outperforms the other two and is the most promising to build upon further for the MLSPA. Despite the KNN models ability to learn, it did not yield good enough scores and has a fishy looking predicted vs actual salary graph.\n",
    "\n",
    "Therefore, I recommend adopting the Random Forest Regression, with the caveat that it needs to continue to be built upon, ideally with more robust features that can explain the rest of the variance in salary."
   ]
  },
  {
   "cell_type": "markdown",
   "id": "32525fe0-1515-4847-8f18-c8e12e50f9c4",
   "metadata": {},
   "source": [
    "### Testing Data\n",
    "This is a higher score than our cross validated train scores, but likely this will come down over multiple tests."
   ]
  },
  {
   "cell_type": "code",
   "execution_count": 173,
   "id": "3e19c47f-bdd2-4164-90ea-0a8f62a70d0f",
   "metadata": {},
   "outputs": [
    {
     "data": {
      "text/plain": [
       "0.6077459056550032"
      ]
     },
     "execution_count": 173,
     "metadata": {},
     "output_type": "execute_result"
    }
   ],
   "source": [
    "rf_bestpipe.fit(X_train, y_train)\n",
    "y_pred_test = rf_bestpipe.predict(X_test)\n",
    "r2_test = r2_score(y_test, y_pred_test)\n",
    "r2_test"
   ]
  },
  {
   "cell_type": "code",
   "execution_count": 174,
   "id": "18f85853-a855-4438-8439-267407b64bdb",
   "metadata": {},
   "outputs": [
    {
     "data": {
      "text/plain": [
       "104115718011.5532"
      ]
     },
     "execution_count": 174,
     "metadata": {},
     "output_type": "execute_result"
    }
   ],
   "source": [
    "mse_test = mean_squared_error(y_test, y_pred_test)\n",
    "mse_test"
   ]
  },
  {
   "cell_type": "code",
   "execution_count": 175,
   "id": "b86fc866-2b9b-473f-b78b-217577e657a0",
   "metadata": {},
   "outputs": [
    {
     "data": {
      "text/plain": [
       "322669.6732132619"
      ]
     },
     "execution_count": 175,
     "metadata": {},
     "output_type": "execute_result"
    }
   ],
   "source": [
    "rmse_test = np.sqrt(mse_test)\n",
    "rmse_test"
   ]
  },
  {
   "cell_type": "markdown",
   "id": "f8442179-c5bf-421b-809a-bc22a649ab2c",
   "metadata": {},
   "source": [
    "Same as the r2, this is likely to get worse with more tests."
   ]
  },
  {
   "cell_type": "code",
   "execution_count": 176,
   "id": "36bfa05d-e645-4a75-87bf-497c0b94c87a",
   "metadata": {},
   "outputs": [
    {
     "data": {
      "text/plain": [
       "129315.97816978532"
      ]
     },
     "execution_count": 176,
     "metadata": {},
     "output_type": "execute_result"
    }
   ],
   "source": [
    "mae_test = mean_absolute_error(y_test, y_pred_test)\n",
    "mae_test"
   ]
  },
  {
   "cell_type": "markdown",
   "id": "384f9c4f-66e0-4304-8747-7d30e19a058f",
   "metadata": {},
   "source": [
    "Graphing predicted salary vs actual salary on unseen data sees the graph lose a lot of its interpretation."
   ]
  },
  {
   "cell_type": "code",
   "execution_count": 177,
   "id": "1e2cd37d-df19-442e-adfe-e46453d27bcf",
   "metadata": {},
   "outputs": [
    {
     "data": {
      "image/png": "[encoded data removed]",
      "text/plain": [
       "<Figure size 1000x1000 with 1 Axes>"
      ]
     },
     "metadata": {},
     "output_type": "display_data"
    }
   ],
   "source": [
    "plt.scatter(y_pred_test, y_test)\n",
    "plt.plot([y.min(), y.max()], [y.min(), y.max()], 'k--', lw=2)\n",
    "plt.xlabel('Predicted Salary ($)')\n",
    "plt.ylabel('Actual Salary ($)')\n",
    "\n",
    "plt.ticklabel_format(style='plain')\n",
    "plt.show()"
   ]
  },
  {
   "cell_type": "markdown",
   "id": "0966a884-62a9-449d-8efa-d8fbe51bafec",
   "metadata": {},
   "source": [
    "### Permutation Importances\n",
    "Using the Random Forest Regression model, I extracted permutation importances for r2, mae, and rmse, but ultimately settled on showing the mae. These bubble represent the columns that when removed from the model, result in the largest increase in mean absolute error in predicting player salary. The bubbles in Orange represent features that were already a part of the dataset while the bubbles in black represent features that were added by me to help the performance of the model. \n",
    "\n",
    "Total Minutes Played ranks in at the top, with games started and games played also making the list. This makes sense considering players who play the most minutes on a team are usually those who are considered starters and are vitally important to the success of a team.\n",
    "\n",
    "Interestingly, Shots, Shots on goals, and Goals are also towards the top. This could pose an issue when the model is predicting salary for defenders,  whose value to the team isn’t  measured on how many goals they score.\n"
   ]
  },
  {
   "cell_type": "code",
   "execution_count": 178,
   "id": "391be971-829e-4e34-8252-7845adb73eb4",
   "metadata": {},
   "outputs": [
    {
     "data": {
      "text/html": [
       "<img src=\"https://public.tableau.com/app/profile/michael.romanski/viz/MAEBubble/Sheet2?publish=yes\"/>"
      ],
      "text/plain": [
       "<IPython.core.display.Image object>"
      ]
     },
     "execution_count": 178,
     "metadata": {},
     "output_type": "execute_result"
    }
   ],
   "source": [
    " Image(url='https://public.tableau.com/app/profile/michael.romanski/viz/MAEBubble/Sheet2?publish=yes')"
   ]
  },
  {
   "cell_type": "code",
   "execution_count": 179,
   "id": "2f3239ab-1169-47c3-ad77-c0249199295b",
   "metadata": {},
   "outputs": [],
   "source": [
    "rf_feature_names = X.columns.tolist()"
   ]
  },
  {
   "cell_type": "code",
   "execution_count": 180,
   "id": "7c5959e4-a9d0-4b91-acec-0635b9e60662",
   "metadata": {},
   "outputs": [
    {
     "name": "stdout",
     "output_type": "stream",
     "text": [
      "r2\n",
      "    Bonus Pay0.907 +/- 0.058\n",
      "    Total_Minutes_Played0.709 +/- 0.035\n",
      "    Salary Cap0.300 +/- 0.027\n",
      "    Shots   0.242 +/- 0.023\n",
      "    Shots_On_Goal0.176 +/- 0.015\n",
      "    Penalty_Kicks_Taken0.176 +/- 0.020\n",
      "    Games_Started0.174 +/- 0.013\n",
      "    Games_Played0.137 +/- 0.019\n",
      "    Penalty_Kicks_Scored0.125 +/- 0.007\n",
      "    Minimum_Salary0.102 +/- 0.014\n",
      "    Goals   0.078 +/- 0.012\n",
      "    Offsides0.042 +/- 0.010\n",
      "    Fouls_Committed0.037 +/- 0.014\n",
      "    Yellow_Cards0.032 +/- 0.014\n",
      "    Year    0.029 +/- 0.012\n",
      "    Game_Winning_Goals0.020 +/- 0.004\n",
      "    Penalty_Kick_Conversion_Rate0.019 +/- 0.005\n",
      "    Shots_On_Goal_Rate0.012 +/- 0.005\n",
      "    Assists 0.012 +/- 0.003\n",
      "    Road_Goals0.008 +/- 0.004\n",
      "    Road_Assists0.007 +/- 0.002\n",
      "neg_mean_absolute_percentage_error\n",
      "    Total_Minutes_Played3.023 +/- 0.086\n",
      "    Salary Cap1.718 +/- 0.076\n",
      "    Shots_On_Goal1.020 +/- 0.053\n",
      "    Shots   1.010 +/- 0.049\n",
      "    Bonus Pay0.961 +/- 0.130\n",
      "    Games_Started0.925 +/- 0.025\n",
      "    Minimum_Salary0.789 +/- 0.022\n",
      "    Games_Played0.771 +/- 0.029\n",
      "    Penalty_Kicks_Taken0.534 +/- 0.059\n",
      "    Goals   0.318 +/- 0.038\n",
      "    Penalty_Kicks_Scored0.306 +/- 0.012\n",
      "    Year    0.246 +/- 0.007\n",
      "    Fouls_Suffered0.192 +/- 0.010\n",
      "    Fouls_Committed0.185 +/- 0.011\n",
      "    Penalty_Kick_Conversion_Rate0.128 +/- 0.013\n",
      "    Offsides0.100 +/- 0.009\n",
      "    Home_Goals0.091 +/- 0.015\n",
      "    Shots_Conversion0.079 +/- 0.005\n",
      "    Shots_On_Goal_Rate0.073 +/- 0.006\n",
      "    Goals_per_90_Minutes0.069 +/- 0.008\n",
      "    Game_Winning_Goals0.057 +/- 0.009\n",
      "    Yellow_Cards0.056 +/- 0.012\n",
      "    Game_Winning_Assists0.051 +/- 0.006\n",
      "    Road_Goals0.034 +/- 0.005\n",
      "    Assists 0.029 +/- 0.003\n",
      "    Home_Assists0.027 +/- 0.004\n",
      "    Road_Assists0.027 +/- 0.004\n",
      "    Defender0.018 +/- 0.003\n",
      "    Red_Cards0.009 +/- 0.003\n",
      "    Assists_per_90_Minutes0.009 +/- 0.002\n",
      "neg_root_mean_squared_error\n",
      "    Bonus Pay264333.073 +/- 13171.058\n",
      "    Total_Minutes_Played217866.967 +/- 8695.897\n",
      "    Salary Cap106046.854 +/- 8281.208\n",
      "    Shots   87717.577 +/- 7418.840\n",
      "    Shots_On_Goal65724.792 +/- 5096.529\n",
      "    Penalty_Kicks_Taken65674.901 +/- 6720.011\n",
      "    Games_Started64854.102 +/- 4309.874\n",
      "    Games_Played52105.947 +/- 6783.993\n",
      "    Penalty_Kicks_Scored47866.890 +/- 2630.363\n",
      "    Minimum_Salary39445.030 +/- 4990.746\n",
      "    Goals   30740.639 +/- 4669.212\n",
      "    Offsides16696.707 +/- 3836.124\n",
      "    Fouls_Committed14919.308 +/- 5415.730\n",
      "    Yellow_Cards12868.638 +/- 5571.211\n",
      "    Year    11834.543 +/- 4730.341\n",
      "    Game_Winning_Goals8137.859 +/- 1604.905\n",
      "    Penalty_Kick_Conversion_Rate7686.345 +/- 1868.282\n",
      "    Shots_On_Goal_Rate5091.582 +/- 2156.319\n",
      "    Assists 4705.390 +/- 1414.383\n",
      "    Road_Goals3410.520 +/- 1496.523\n",
      "    Road_Assists2916.396 +/- 909.782\n"
     ]
    }
   ],
   "source": [
    "# Getting permutation importances for each of the three scoring metrics used\n",
    "scoring = ['r2', 'neg_mean_absolute_percentage_error', 'neg_root_mean_squared_error']\n",
    "r_multi = permutation_importance(rf_bestpipe, X_test, y_test,\n",
    "                           n_repeats=30, random_state=42, scoring=scoring)\n",
    "\n",
    "for metric in r_multi:\n",
    "    print(f\"{metric}\")\n",
    "    r = r_multi[metric]\n",
    "    for i in r.importances_mean.argsort()[::-1]:\n",
    "        if r.importances_mean[i] - 2 * r.importances_std[i] > 0: \n",
    "            print(f\"    {rf_feature_names[i]: <8}\"   \n",
    "                  f\"{r.importances_mean[i]:.3f}\"\n",
    "                  f\" +/- {r.importances_std[i]:.3f}\")"
   ]
  },
  {
   "cell_type": "code",
   "execution_count": 181,
   "id": "f5cb2c21-da96-4c77-a7b0-500ec3e13141",
   "metadata": {},
   "outputs": [],
   "source": [
    "# Adding permutation importances to respective dataframes\n",
    "r = r_multi['r2']\n",
    "r2_df = pd.DataFrame()\n",
    "r2_df['Feature'] = rf_feature_names\n",
    "r2_df['Mean'] = r.importances_mean\n",
    "r2_df['Range +/-'] = r.importances_std\n",
    "\n",
    "    \n",
    "r = r_multi['neg_mean_absolute_percentage_error']\n",
    "mae_df = pd.DataFrame()\n",
    "mae_df['Feature'] = rf_feature_names\n",
    "mae_df['Mean'] = r.importances_mean\n",
    "mae_df['Range +/-'] = r.importances_std\n",
    "\n",
    "\n",
    "r = r_multi['neg_root_mean_squared_error']\n",
    "rmse_df = pd.DataFrame()\n",
    "rmse_df['Feature'] = rf_feature_names\n",
    "rmse_df['Mean'] = r.importances_mean\n",
    "rmse_df['Range +/-'] = r.importances_std"
   ]
  },
  {
   "cell_type": "code",
   "execution_count": 182,
   "id": "0c149502-125a-45df-ab8a-2449134ad584",
   "metadata": {},
   "outputs": [],
   "source": [
    "# Saving dataframes as csv's to utilize in Tableau\n",
    "r2_df.to_csv('./data/r2_importances.csv')\n",
    "mae_df.to_csv('./data/mae_importances.csv')\n",
    "rmse_df.to_csv('./data/rmse_importances.csv')"
   ]
  },
  {
   "cell_type": "markdown",
   "id": "c3fc4d1b-8e6e-4ca0-916f-3bf11f67f8aa",
   "metadata": {},
   "source": [
    "### Recommendations\n",
    "I recommend that MLSPA negotiates for an increased Salary Minimum and maximum. In 2020, the Salary minimum was 81,375 USD while the salary maximum was 612,500 USD. This range pales in comparison to some of the highest paid MLS players who sign a DP contract as high as $7,000,000. By keeping the Salary Minimum and Maximum so tight, and with only 3 DP slots available for team, this current structure  limits the potential for those MLS players who are developed in the league and break out to remain in the league at a fair level of compensation based upon their performances.\n",
    "\n",
    "Additionally, an increased Salary cap helps MLS teams keep more quality players and pay them more. The 2020 MLS team salary cap sat at $4,900,000, less than some players in the leagues entire contracts are worth on a yearly basis. The imbalance between the average league player and the DP’s salary are far too evident.\n",
    "\n",
    "My model’s performance is not working well enough for me to recommend its use in negotiations with the MLS at this time. Fortunately, the new CBA negotiations will not come until 2027, so there is time for it to improve. \n"
   ]
  },
  {
   "cell_type": "markdown",
   "id": "4ef7d5b7-7acb-4c59-8d17-ba44852ce9de",
   "metadata": {},
   "source": [
    "### Next Steps\n",
    "When testing on unseen data, my model predictions lose some of its interpretation.  In order to improve my model’s performance in preparation for the next CBA negotiations, there are some steps I’d like to take. \n",
    "\n",
    "First, I would like to gather more statistics that cover a wider range of skills on the field. Data like pass completion percentage, tackles, and duels won may be more valuable to midfielders and defenders and help inform on why they are getting the salary they are.\n",
    "\n",
    "Additionally, I would like to see better data entry so that I don’t have to lose up to 10% of the data in the future, as the amount of data available for MLS statistics is already quite small considering its a fairly young league. \n",
    "\n",
    "Finally, I would like to get other features that aren't relevant to player performance. Something like a popularity score, jersey sales data, and more could help inform on the other reasons a player may be getting paid the salary they are."
   ]
  }
 ],
 "metadata": {
  "kernelspec": {
   "display_name": "streamlit",
   "language": "python",
   "name": "streamlit"
  },
  "language_info": {
   "codemirror_mode": {
    "name": "ipython",
    "version": 3
   },
   "file_extension": ".py",
   "mimetype": "text/x-python",
   "name": "python",
   "nbconvert_exporter": "python",
   "pygments_lexer": "ipython3",
   "version": "3.11.5"
  }
 },
 "nbformat": 4,
 "nbformat_minor": 5
}
